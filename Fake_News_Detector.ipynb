{
 "cells": [
  {
   "cell_type": "markdown",
   "id": "2f5a0ec8-d792-4b1d-b428-f1260e777fdf",
   "metadata": {},
   "source": [
    "# SRIHARI GOPAL KARTHIKAYINI\n",
    "# 21BAI1811"
   ]
  },
  {
   "cell_type": "markdown",
   "id": "4cfbe112-811f-43d3-b3fc-5bbd0e8019f3",
   "metadata": {},
   "source": [
    "# FAKE NEWS DETECTION USING CNN-BiLSTM HYBRID MODEL"
   ]
  },
  {
   "cell_type": "markdown",
   "id": "0fef9a6e-8aec-4571-9906-197787de3cde",
   "metadata": {},
   "source": [
    "## STEP - 0 : INSTALL AND IMPORT NECESSARY LIBRARIES"
   ]
  },
  {
   "cell_type": "code",
   "execution_count": null,
   "id": "aec61f8b-157c-40a9-a908-04833f03132a",
   "metadata": {
    "colab": {
     "base_uri": "https://localhost:8080/"
    },
    "id": "d9U2Ob6jQRx4",
    "outputId": "d31995c3-ec85-4a43-8471-60cc5dae4295"
   },
   "outputs": [],
   "source": [
    "#from google.colab import drive\n",
    "#drive.mount('/content/drive')"
   ]
  },
  {
   "cell_type": "code",
   "execution_count": 1,
   "id": "b3b03855-8255-4fcc-98fa-74178ee035de",
   "metadata": {
    "collapsed": true,
    "id": "b3b03855-8255-4fcc-98fa-74178ee035de",
    "jupyter": {
     "outputs_hidden": true
    },
    "outputId": "75b2c533-72ce-41f7-e929-0460bd1674e7"
   },
   "outputs": [
    {
     "name": "stdout",
     "output_type": "stream",
     "text": [
      "Collecting pandas\n",
      "  Using cached pandas-2.2.3-cp39-cp39-win_amd64.whl.metadata (19 kB)\n",
      "Collecting scikit-learn\n",
      "  Using cached scikit_learn-1.5.2-cp39-cp39-win_amd64.whl.metadata (13 kB)\n",
      "Collecting nltk\n",
      "  Using cached nltk-3.9.1-py3-none-any.whl.metadata (2.9 kB)\n",
      "Requirement already satisfied: numpy>=1.22.4 in c:\\users\\gksha\\anaconda3\\envs\\tf-gpu\\lib\\site-packages (from pandas) (1.23.5)\n",
      "Requirement already satisfied: python-dateutil>=2.8.2 in c:\\users\\gksha\\anaconda3\\envs\\tf-gpu\\lib\\site-packages (from pandas) (2.9.0.post0)\n",
      "Requirement already satisfied: pytz>=2020.1 in c:\\users\\gksha\\anaconda3\\envs\\tf-gpu\\lib\\site-packages (from pandas) (2024.1)\n",
      "Collecting tzdata>=2022.7 (from pandas)\n",
      "  Using cached tzdata-2024.2-py2.py3-none-any.whl.metadata (1.4 kB)\n",
      "Collecting scipy>=1.6.0 (from scikit-learn)\n",
      "  Using cached scipy-1.13.1-cp39-cp39-win_amd64.whl.metadata (60 kB)\n",
      "Collecting joblib>=1.2.0 (from scikit-learn)\n",
      "  Using cached joblib-1.4.2-py3-none-any.whl.metadata (5.4 kB)\n",
      "Collecting threadpoolctl>=3.1.0 (from scikit-learn)\n",
      "  Using cached threadpoolctl-3.5.0-py3-none-any.whl.metadata (13 kB)\n",
      "Collecting click (from nltk)\n",
      "  Using cached click-8.1.7-py3-none-any.whl.metadata (3.0 kB)\n",
      "Collecting regex>=2021.8.3 (from nltk)\n",
      "  Using cached regex-2024.11.6-cp39-cp39-win_amd64.whl.metadata (41 kB)\n",
      "Collecting tqdm (from nltk)\n",
      "  Using cached tqdm-4.67.0-py3-none-any.whl.metadata (57 kB)\n",
      "Requirement already satisfied: six>=1.5 in c:\\users\\gksha\\anaconda3\\envs\\tf-gpu\\lib\\site-packages (from python-dateutil>=2.8.2->pandas) (1.16.0)\n",
      "Requirement already satisfied: colorama in c:\\users\\gksha\\anaconda3\\envs\\tf-gpu\\lib\\site-packages (from click->nltk) (0.4.6)\n",
      "Using cached pandas-2.2.3-cp39-cp39-win_amd64.whl (11.6 MB)\n",
      "Using cached scikit_learn-1.5.2-cp39-cp39-win_amd64.whl (11.0 MB)\n",
      "Using cached nltk-3.9.1-py3-none-any.whl (1.5 MB)\n",
      "Using cached joblib-1.4.2-py3-none-any.whl (301 kB)\n",
      "Using cached regex-2024.11.6-cp39-cp39-win_amd64.whl (274 kB)\n",
      "Using cached scipy-1.13.1-cp39-cp39-win_amd64.whl (46.2 MB)\n",
      "Using cached threadpoolctl-3.5.0-py3-none-any.whl (18 kB)\n",
      "Using cached tzdata-2024.2-py2.py3-none-any.whl (346 kB)\n",
      "Using cached click-8.1.7-py3-none-any.whl (97 kB)\n",
      "Using cached tqdm-4.67.0-py3-none-any.whl (78 kB)\n",
      "Installing collected packages: tzdata, tqdm, threadpoolctl, scipy, regex, joblib, click, scikit-learn, pandas, nltk\n",
      "Successfully installed click-8.1.7 joblib-1.4.2 nltk-3.9.1 pandas-2.2.3 regex-2024.11.6 scikit-learn-1.5.2 scipy-1.13.1 threadpoolctl-3.5.0 tqdm-4.67.0 tzdata-2024.2\n"
     ]
    }
   ],
   "source": [
    "!pip install pandas scikit-learn nltk"
   ]
  },
  {
   "cell_type": "code",
   "execution_count": 2,
   "id": "2c47c640-043c-4112-839b-360f2576a2ce",
   "metadata": {
    "collapsed": true,
    "id": "2c47c640-043c-4112-839b-360f2576a2ce",
    "jupyter": {
     "outputs_hidden": true
    },
    "outputId": "437c1fe1-1985-47d5-cc04-737664d07ae5"
   },
   "outputs": [
    {
     "name": "stdout",
     "output_type": "stream",
     "text": [
      "Collecting seaborn\n",
      "  Using cached seaborn-0.13.2-py3-none-any.whl.metadata (5.4 kB)\n",
      "Requirement already satisfied: numpy!=1.24.0,>=1.20 in c:\\users\\gksha\\anaconda3\\envs\\tf-gpu\\lib\\site-packages (from seaborn) (1.23.5)\n",
      "Requirement already satisfied: pandas>=1.2 in c:\\users\\gksha\\anaconda3\\envs\\tf-gpu\\lib\\site-packages (from seaborn) (2.2.3)\n",
      "Collecting matplotlib!=3.6.1,>=3.4 (from seaborn)\n",
      "  Using cached matplotlib-3.9.2-cp39-cp39-win_amd64.whl.metadata (11 kB)\n",
      "Collecting contourpy>=1.0.1 (from matplotlib!=3.6.1,>=3.4->seaborn)\n",
      "  Using cached contourpy-1.3.0-cp39-cp39-win_amd64.whl.metadata (5.4 kB)\n",
      "Collecting cycler>=0.10 (from matplotlib!=3.6.1,>=3.4->seaborn)\n",
      "  Using cached cycler-0.12.1-py3-none-any.whl.metadata (3.8 kB)\n",
      "Collecting fonttools>=4.22.0 (from matplotlib!=3.6.1,>=3.4->seaborn)\n",
      "  Using cached fonttools-4.55.0-cp39-cp39-win_amd64.whl.metadata (167 kB)\n",
      "Collecting kiwisolver>=1.3.1 (from matplotlib!=3.6.1,>=3.4->seaborn)\n",
      "  Using cached kiwisolver-1.4.7-cp39-cp39-win_amd64.whl.metadata (6.4 kB)\n",
      "Requirement already satisfied: packaging>=20.0 in c:\\users\\gksha\\anaconda3\\envs\\tf-gpu\\lib\\site-packages (from matplotlib!=3.6.1,>=3.4->seaborn) (24.1)\n",
      "Collecting pillow>=8 (from matplotlib!=3.6.1,>=3.4->seaborn)\n",
      "  Using cached pillow-11.0.0-cp39-cp39-win_amd64.whl.metadata (9.3 kB)\n",
      "Collecting pyparsing>=2.3.1 (from matplotlib!=3.6.1,>=3.4->seaborn)\n",
      "  Using cached pyparsing-3.2.0-py3-none-any.whl.metadata (5.0 kB)\n",
      "Requirement already satisfied: python-dateutil>=2.7 in c:\\users\\gksha\\anaconda3\\envs\\tf-gpu\\lib\\site-packages (from matplotlib!=3.6.1,>=3.4->seaborn) (2.9.0.post0)\n",
      "Collecting importlib-resources>=3.2.0 (from matplotlib!=3.6.1,>=3.4->seaborn)\n",
      "  Using cached importlib_resources-6.4.5-py3-none-any.whl.metadata (4.0 kB)\n",
      "Requirement already satisfied: pytz>=2020.1 in c:\\users\\gksha\\anaconda3\\envs\\tf-gpu\\lib\\site-packages (from pandas>=1.2->seaborn) (2024.1)\n",
      "Requirement already satisfied: tzdata>=2022.7 in c:\\users\\gksha\\anaconda3\\envs\\tf-gpu\\lib\\site-packages (from pandas>=1.2->seaborn) (2024.2)\n",
      "Requirement already satisfied: zipp>=3.1.0 in c:\\users\\gksha\\anaconda3\\envs\\tf-gpu\\lib\\site-packages (from importlib-resources>=3.2.0->matplotlib!=3.6.1,>=3.4->seaborn) (3.20.2)\n",
      "Requirement already satisfied: six>=1.5 in c:\\users\\gksha\\anaconda3\\envs\\tf-gpu\\lib\\site-packages (from python-dateutil>=2.7->matplotlib!=3.6.1,>=3.4->seaborn) (1.16.0)\n",
      "Using cached seaborn-0.13.2-py3-none-any.whl (294 kB)\n",
      "Using cached matplotlib-3.9.2-cp39-cp39-win_amd64.whl (7.8 MB)\n",
      "Using cached contourpy-1.3.0-cp39-cp39-win_amd64.whl (211 kB)\n",
      "Using cached cycler-0.12.1-py3-none-any.whl (8.3 kB)\n",
      "Using cached fonttools-4.55.0-cp39-cp39-win_amd64.whl (2.2 MB)\n",
      "Using cached importlib_resources-6.4.5-py3-none-any.whl (36 kB)\n",
      "Using cached kiwisolver-1.4.7-cp39-cp39-win_amd64.whl (55 kB)\n",
      "Using cached pillow-11.0.0-cp39-cp39-win_amd64.whl (2.6 MB)\n",
      "Using cached pyparsing-3.2.0-py3-none-any.whl (106 kB)\n",
      "Installing collected packages: pyparsing, pillow, kiwisolver, importlib-resources, fonttools, cycler, contourpy, matplotlib, seaborn\n",
      "Successfully installed contourpy-1.3.0 cycler-0.12.1 fonttools-4.55.0 importlib-resources-6.4.5 kiwisolver-1.4.7 matplotlib-3.9.2 pillow-11.0.0 pyparsing-3.2.0 seaborn-0.13.2\n"
     ]
    }
   ],
   "source": [
    "!pip install seaborn"
   ]
  },
  {
   "cell_type": "code",
   "execution_count": 3,
   "id": "sDK_yegPGVrr",
   "metadata": {
    "colab": {
     "base_uri": "https://localhost:8080/"
    },
    "collapsed": true,
    "id": "sDK_yegPGVrr",
    "jupyter": {
     "outputs_hidden": true
    },
    "outputId": "33905f64-81f2-4761-e9a4-7c2cc542cfd6"
   },
   "outputs": [
    {
     "name": "stdout",
     "output_type": "stream",
     "text": [
      "Collecting spacy\n",
      "  Using cached spacy-3.8.2-cp39-cp39-win_amd64.whl.metadata (27 kB)\n",
      "Collecting spacy-legacy<3.1.0,>=3.0.11 (from spacy)\n",
      "  Using cached spacy_legacy-3.0.12-py2.py3-none-any.whl.metadata (2.8 kB)\n",
      "Collecting spacy-loggers<2.0.0,>=1.0.0 (from spacy)\n",
      "  Using cached spacy_loggers-1.0.5-py3-none-any.whl.metadata (23 kB)\n",
      "Collecting murmurhash<1.1.0,>=0.28.0 (from spacy)\n",
      "  Using cached murmurhash-1.0.10-cp39-cp39-win_amd64.whl.metadata (2.0 kB)\n",
      "Collecting cymem<2.1.0,>=2.0.2 (from spacy)\n",
      "  Using cached cymem-2.0.8-cp39-cp39-win_amd64.whl.metadata (8.6 kB)\n",
      "Collecting preshed<3.1.0,>=3.0.2 (from spacy)\n",
      "  Using cached preshed-3.0.9-cp39-cp39-win_amd64.whl.metadata (2.2 kB)\n",
      "Collecting thinc<8.4.0,>=8.3.0 (from spacy)\n",
      "  Using cached thinc-8.3.2-cp39-cp39-win_amd64.whl.metadata (15 kB)\n",
      "Collecting wasabi<1.2.0,>=0.9.1 (from spacy)\n",
      "  Using cached wasabi-1.1.3-py3-none-any.whl.metadata (28 kB)\n",
      "Collecting srsly<3.0.0,>=2.4.3 (from spacy)\n",
      "  Using cached srsly-2.4.8-cp39-cp39-win_amd64.whl.metadata (20 kB)\n",
      "Collecting catalogue<2.1.0,>=2.0.6 (from spacy)\n",
      "  Using cached catalogue-2.0.10-py3-none-any.whl.metadata (14 kB)\n",
      "Collecting weasel<0.5.0,>=0.1.0 (from spacy)\n",
      "  Using cached weasel-0.4.1-py3-none-any.whl.metadata (4.6 kB)\n",
      "Collecting typer<1.0.0,>=0.3.0 (from spacy)\n",
      "  Downloading typer-0.13.1-py3-none-any.whl.metadata (15 kB)\n",
      "Requirement already satisfied: tqdm<5.0.0,>=4.38.0 in c:\\users\\gksha\\anaconda3\\envs\\tf-gpu\\lib\\site-packages (from spacy) (4.67.0)\n",
      "Requirement already satisfied: requests<3.0.0,>=2.13.0 in c:\\users\\gksha\\anaconda3\\envs\\tf-gpu\\lib\\site-packages (from spacy) (2.32.3)\n",
      "Collecting pydantic!=1.8,!=1.8.1,<3.0.0,>=1.7.4 (from spacy)\n",
      "  Using cached pydantic-2.9.2-py3-none-any.whl.metadata (149 kB)\n",
      "Requirement already satisfied: jinja2 in c:\\users\\gksha\\anaconda3\\envs\\tf-gpu\\lib\\site-packages (from spacy) (3.1.4)\n",
      "Requirement already satisfied: setuptools in c:\\users\\gksha\\anaconda3\\envs\\tf-gpu\\lib\\site-packages (from spacy) (75.1.0)\n",
      "Requirement already satisfied: packaging>=20.0 in c:\\users\\gksha\\anaconda3\\envs\\tf-gpu\\lib\\site-packages (from spacy) (24.1)\n",
      "Collecting langcodes<4.0.0,>=3.2.0 (from spacy)\n",
      "  Using cached langcodes-3.4.1-py3-none-any.whl.metadata (29 kB)\n",
      "Requirement already satisfied: numpy>=1.19.0 in c:\\users\\gksha\\anaconda3\\envs\\tf-gpu\\lib\\site-packages (from spacy) (1.23.5)\n",
      "Collecting language-data>=1.2 (from langcodes<4.0.0,>=3.2.0->spacy)\n",
      "  Using cached language_data-1.2.0-py3-none-any.whl.metadata (4.3 kB)\n",
      "Collecting annotated-types>=0.6.0 (from pydantic!=1.8,!=1.8.1,<3.0.0,>=1.7.4->spacy)\n",
      "  Using cached annotated_types-0.7.0-py3-none-any.whl.metadata (15 kB)\n",
      "Collecting pydantic-core==2.23.4 (from pydantic!=1.8,!=1.8.1,<3.0.0,>=1.7.4->spacy)\n",
      "  Using cached pydantic_core-2.23.4-cp39-none-win_amd64.whl.metadata (6.7 kB)\n",
      "Requirement already satisfied: typing-extensions>=4.6.1 in c:\\users\\gksha\\anaconda3\\envs\\tf-gpu\\lib\\site-packages (from pydantic!=1.8,!=1.8.1,<3.0.0,>=1.7.4->spacy) (4.11.0)\n",
      "Requirement already satisfied: charset-normalizer<4,>=2 in c:\\users\\gksha\\anaconda3\\envs\\tf-gpu\\lib\\site-packages (from requests<3.0.0,>=2.13.0->spacy) (3.3.2)\n",
      "Requirement already satisfied: idna<4,>=2.5 in c:\\users\\gksha\\anaconda3\\envs\\tf-gpu\\lib\\site-packages (from requests<3.0.0,>=2.13.0->spacy) (3.10)\n",
      "Requirement already satisfied: urllib3<3,>=1.21.1 in c:\\users\\gksha\\anaconda3\\envs\\tf-gpu\\lib\\site-packages (from requests<3.0.0,>=2.13.0->spacy) (2.2.3)\n",
      "Requirement already satisfied: certifi>=2017.4.17 in c:\\users\\gksha\\anaconda3\\envs\\tf-gpu\\lib\\site-packages (from requests<3.0.0,>=2.13.0->spacy) (2024.8.30)\n",
      "Collecting blis<1.1.0,>=1.0.0 (from thinc<8.4.0,>=8.3.0->spacy)\n",
      "  Using cached blis-1.0.1-cp39-cp39-win_amd64.whl.metadata (7.8 kB)\n",
      "Collecting confection<1.0.0,>=0.0.1 (from thinc<8.4.0,>=8.3.0->spacy)\n",
      "  Using cached confection-0.1.5-py3-none-any.whl.metadata (19 kB)\n",
      "Collecting numpy>=1.19.0 (from spacy)\n",
      "  Using cached numpy-2.0.2-cp39-cp39-win_amd64.whl.metadata (59 kB)\n",
      "Requirement already satisfied: colorama in c:\\users\\gksha\\anaconda3\\envs\\tf-gpu\\lib\\site-packages (from tqdm<5.0.0,>=4.38.0->spacy) (0.4.6)\n",
      "Requirement already satisfied: click>=8.0.0 in c:\\users\\gksha\\anaconda3\\envs\\tf-gpu\\lib\\site-packages (from typer<1.0.0,>=0.3.0->spacy) (8.1.7)\n",
      "Collecting shellingham>=1.3.0 (from typer<1.0.0,>=0.3.0->spacy)\n",
      "  Using cached shellingham-1.5.4-py2.py3-none-any.whl.metadata (3.5 kB)\n",
      "Collecting rich>=10.11.0 (from typer<1.0.0,>=0.3.0->spacy)\n",
      "  Using cached rich-13.9.4-py3-none-any.whl.metadata (18 kB)\n",
      "Collecting cloudpathlib<1.0.0,>=0.7.0 (from weasel<0.5.0,>=0.1.0->spacy)\n",
      "  Using cached cloudpathlib-0.20.0-py3-none-any.whl.metadata (14 kB)\n",
      "Collecting smart-open<8.0.0,>=5.2.1 (from weasel<0.5.0,>=0.1.0->spacy)\n",
      "  Using cached smart_open-7.0.5-py3-none-any.whl.metadata (24 kB)\n",
      "Requirement already satisfied: MarkupSafe>=2.0 in c:\\users\\gksha\\anaconda3\\envs\\tf-gpu\\lib\\site-packages (from jinja2->spacy) (2.1.3)\n",
      "Collecting marisa-trie>=0.7.7 (from language-data>=1.2->langcodes<4.0.0,>=3.2.0->spacy)\n",
      "  Using cached marisa_trie-1.2.1-cp39-cp39-win_amd64.whl.metadata (9.3 kB)\n",
      "Collecting markdown-it-py>=2.2.0 (from rich>=10.11.0->typer<1.0.0,>=0.3.0->spacy)\n",
      "  Using cached markdown_it_py-3.0.0-py3-none-any.whl.metadata (6.9 kB)\n",
      "Requirement already satisfied: pygments<3.0.0,>=2.13.0 in c:\\users\\gksha\\anaconda3\\envs\\tf-gpu\\lib\\site-packages (from rich>=10.11.0->typer<1.0.0,>=0.3.0->spacy) (2.15.1)\n",
      "Requirement already satisfied: wrapt in c:\\users\\gksha\\anaconda3\\envs\\tf-gpu\\lib\\site-packages (from smart-open<8.0.0,>=5.2.1->weasel<0.5.0,>=0.1.0->spacy) (1.16.0)\n",
      "Collecting mdurl~=0.1 (from markdown-it-py>=2.2.0->rich>=10.11.0->typer<1.0.0,>=0.3.0->spacy)\n",
      "  Using cached mdurl-0.1.2-py3-none-any.whl.metadata (1.6 kB)\n",
      "Using cached spacy-3.8.2-cp39-cp39-win_amd64.whl (12.3 MB)\n",
      "Using cached catalogue-2.0.10-py3-none-any.whl (17 kB)\n",
      "Using cached cymem-2.0.8-cp39-cp39-win_amd64.whl (39 kB)\n",
      "Using cached langcodes-3.4.1-py3-none-any.whl (182 kB)\n",
      "Using cached murmurhash-1.0.10-cp39-cp39-win_amd64.whl (25 kB)\n",
      "Using cached preshed-3.0.9-cp39-cp39-win_amd64.whl (122 kB)\n",
      "Using cached pydantic-2.9.2-py3-none-any.whl (434 kB)\n",
      "Using cached pydantic_core-2.23.4-cp39-none-win_amd64.whl (1.9 MB)\n",
      "Using cached spacy_legacy-3.0.12-py2.py3-none-any.whl (29 kB)\n",
      "Using cached spacy_loggers-1.0.5-py3-none-any.whl (22 kB)\n",
      "Using cached srsly-2.4.8-cp39-cp39-win_amd64.whl (483 kB)\n",
      "Using cached thinc-8.3.2-cp39-cp39-win_amd64.whl (1.5 MB)\n",
      "Using cached numpy-2.0.2-cp39-cp39-win_amd64.whl (15.9 MB)\n",
      "Downloading typer-0.13.1-py3-none-any.whl (44 kB)\n",
      "Using cached wasabi-1.1.3-py3-none-any.whl (27 kB)\n",
      "Using cached weasel-0.4.1-py3-none-any.whl (50 kB)\n",
      "Using cached annotated_types-0.7.0-py3-none-any.whl (13 kB)\n",
      "Using cached blis-1.0.1-cp39-cp39-win_amd64.whl (6.4 MB)\n",
      "Using cached cloudpathlib-0.20.0-py3-none-any.whl (52 kB)\n",
      "Using cached confection-0.1.5-py3-none-any.whl (35 kB)\n",
      "Using cached language_data-1.2.0-py3-none-any.whl (5.4 MB)\n",
      "Using cached rich-13.9.4-py3-none-any.whl (242 kB)\n",
      "Using cached shellingham-1.5.4-py2.py3-none-any.whl (9.8 kB)\n",
      "Using cached smart_open-7.0.5-py3-none-any.whl (61 kB)\n",
      "Using cached marisa_trie-1.2.1-cp39-cp39-win_amd64.whl (152 kB)\n",
      "Using cached markdown_it_py-3.0.0-py3-none-any.whl (87 kB)\n",
      "Using cached mdurl-0.1.2-py3-none-any.whl (10.0 kB)\n",
      "Installing collected packages: cymem, wasabi, spacy-loggers, spacy-legacy, smart-open, shellingham, pydantic-core, numpy, murmurhash, mdurl, marisa-trie, cloudpathlib, catalogue, annotated-types, srsly, pydantic, preshed, markdown-it-py, language-data, blis, rich, langcodes, confection, typer, thinc, weasel, spacy\n",
      "  Attempting uninstall: numpy\n",
      "    Found existing installation: numpy 1.23.5\n",
      "    Uninstalling numpy-1.23.5:\n",
      "      Successfully uninstalled numpy-1.23.5\n",
      "Successfully installed annotated-types-0.7.0 blis-1.0.1 catalogue-2.0.10 cloudpathlib-0.20.0 confection-0.1.5 cymem-2.0.8 langcodes-3.4.1 language-data-1.2.0 marisa-trie-1.2.1 markdown-it-py-3.0.0 mdurl-0.1.2 murmurhash-1.0.10 numpy-2.0.2 preshed-3.0.9 pydantic-2.9.2 pydantic-core-2.23.4 rich-13.9.4 shellingham-1.5.4 smart-open-7.0.5 spacy-3.8.2 spacy-legacy-3.0.12 spacy-loggers-1.0.5 srsly-2.4.8 thinc-8.3.2 typer-0.13.1 wasabi-1.1.3 weasel-0.4.1\n",
      "Note: you may need to restart the kernel to use updated packages.\n"
     ]
    }
   ],
   "source": [
    "pip install spacy"
   ]
  },
  {
   "cell_type": "code",
   "execution_count": 4,
   "id": "ztZa8dP2Gh1U",
   "metadata": {
    "colab": {
     "base_uri": "https://localhost:8080/"
    },
    "collapsed": true,
    "id": "ztZa8dP2Gh1U",
    "jupyter": {
     "outputs_hidden": true
    },
    "outputId": "faab66e0-2a6e-42b7-f439-60cf5c8b1550"
   },
   "outputs": [
    {
     "name": "stdout",
     "output_type": "stream",
     "text": [
      "Collecting en-core-web-sm==3.8.0\n",
      "  Downloading https://github.com/explosion/spacy-models/releases/download/en_core_web_sm-3.8.0/en_core_web_sm-3.8.0-py3-none-any.whl (12.8 MB)\n",
      "     ---------------------------------------- 0.0/12.8 MB ? eta -:--:--\n",
      "     ---------------------------------------- 0.0/12.8 MB ? eta -:--:--\n",
      "     ---------------------------------------- 0.0/12.8 MB ? eta -:--:--\n",
      "      --------------------------------------- 0.3/12.8 MB ? eta -:--:--\n",
      "      --------------------------------------- 0.3/12.8 MB ? eta -:--:--\n",
      "      --------------------------------------- 0.3/12.8 MB ? eta -:--:--\n",
      "     - ------------------------------------- 0.5/12.8 MB 399.6 kB/s eta 0:00:31\n",
      "     - ------------------------------------- 0.5/12.8 MB 399.6 kB/s eta 0:00:31\n",
      "     - ------------------------------------- 0.5/12.8 MB 399.6 kB/s eta 0:00:31\n",
      "     -- ------------------------------------ 0.8/12.8 MB 414.5 kB/s eta 0:00:30\n",
      "     -- ------------------------------------ 0.8/12.8 MB 414.5 kB/s eta 0:00:30\n",
      "     -- ------------------------------------ 0.8/12.8 MB 414.5 kB/s eta 0:00:30\n",
      "     -- ------------------------------------ 0.8/12.8 MB 414.5 kB/s eta 0:00:30\n",
      "     --- ----------------------------------- 1.0/12.8 MB 396.4 kB/s eta 0:00:30\n",
      "     --- ----------------------------------- 1.0/12.8 MB 396.4 kB/s eta 0:00:30\n",
      "     --- ----------------------------------- 1.0/12.8 MB 396.4 kB/s eta 0:00:30\n",
      "     --- ----------------------------------- 1.3/12.8 MB 381.3 kB/s eta 0:00:31\n",
      "     --- ----------------------------------- 1.3/12.8 MB 381.3 kB/s eta 0:00:31\n",
      "     ---- ---------------------------------- 1.6/12.8 MB 405.3 kB/s eta 0:00:28\n",
      "     ---- ---------------------------------- 1.6/12.8 MB 405.3 kB/s eta 0:00:28\n",
      "     ---- ---------------------------------- 1.6/12.8 MB 405.3 kB/s eta 0:00:28\n",
      "     ---- ---------------------------------- 1.6/12.8 MB 405.3 kB/s eta 0:00:28\n",
      "     ----- --------------------------------- 1.8/12.8 MB 390.2 kB/s eta 0:00:29\n",
      "     ----- --------------------------------- 1.8/12.8 MB 390.2 kB/s eta 0:00:29\n",
      "     ------ -------------------------------- 2.1/12.8 MB 416.5 kB/s eta 0:00:26\n",
      "     ------ -------------------------------- 2.1/12.8 MB 416.5 kB/s eta 0:00:26\n",
      "     ------ -------------------------------- 2.1/12.8 MB 416.5 kB/s eta 0:00:26\n",
      "     ------- ------------------------------- 2.4/12.8 MB 426.1 kB/s eta 0:00:25\n",
      "     ------- ------------------------------- 2.4/12.8 MB 426.1 kB/s eta 0:00:25\n",
      "     ------- ------------------------------- 2.4/12.8 MB 426.1 kB/s eta 0:00:25\n",
      "     ------- ------------------------------- 2.6/12.8 MB 417.1 kB/s eta 0:00:25\n",
      "     ------- ------------------------------- 2.6/12.8 MB 417.1 kB/s eta 0:00:25\n",
      "     ------- ------------------------------- 2.6/12.8 MB 417.1 kB/s eta 0:00:25\n",
      "     ------- ------------------------------- 2.6/12.8 MB 417.1 kB/s eta 0:00:25\n",
      "     -------- ------------------------------ 2.9/12.8 MB 397.5 kB/s eta 0:00:25\n",
      "     -------- ------------------------------ 2.9/12.8 MB 397.5 kB/s eta 0:00:25\n",
      "     -------- ------------------------------ 2.9/12.8 MB 397.5 kB/s eta 0:00:25\n",
      "     -------- ------------------------------ 2.9/12.8 MB 397.5 kB/s eta 0:00:25\n",
      "     -------- ------------------------------ 2.9/12.8 MB 397.5 kB/s eta 0:00:25\n",
      "     -------- ------------------------------ 2.9/12.8 MB 397.5 kB/s eta 0:00:25\n",
      "     --------- ----------------------------- 3.1/12.8 MB 373.6 kB/s eta 0:00:26\n",
      "     --------- ----------------------------- 3.1/12.8 MB 373.6 kB/s eta 0:00:26\n",
      "     --------- ----------------------------- 3.1/12.8 MB 373.6 kB/s eta 0:00:26\n",
      "     --------- ----------------------------- 3.1/12.8 MB 373.6 kB/s eta 0:00:26\n",
      "     ---------- ---------------------------- 3.4/12.8 MB 362.1 kB/s eta 0:00:26\n",
      "     ---------- ---------------------------- 3.4/12.8 MB 362.1 kB/s eta 0:00:26\n",
      "     ---------- ---------------------------- 3.4/12.8 MB 362.1 kB/s eta 0:00:26\n",
      "     ---------- ---------------------------- 3.4/12.8 MB 362.1 kB/s eta 0:00:26\n",
      "     ---------- ---------------------------- 3.4/12.8 MB 362.1 kB/s eta 0:00:26\n",
      "     ---------- ---------------------------- 3.4/12.8 MB 362.1 kB/s eta 0:00:26\n",
      "     ---------- ---------------------------- 3.4/12.8 MB 362.1 kB/s eta 0:00:26\n",
      "     ---------- ---------------------------- 3.4/12.8 MB 362.1 kB/s eta 0:00:26\n",
      "     ---------- ---------------------------- 3.4/12.8 MB 362.1 kB/s eta 0:00:26\n",
      "     ----------- --------------------------- 3.7/12.8 MB 321.7 kB/s eta 0:00:29\n",
      "     ----------- --------------------------- 3.7/12.8 MB 321.7 kB/s eta 0:00:29\n",
      "     ----------- --------------------------- 3.7/12.8 MB 321.7 kB/s eta 0:00:29\n",
      "     ----------- --------------------------- 3.7/12.8 MB 321.7 kB/s eta 0:00:29\n",
      "     ----------- --------------------------- 3.9/12.8 MB 321.8 kB/s eta 0:00:28\n",
      "     ----------- --------------------------- 3.9/12.8 MB 321.8 kB/s eta 0:00:28\n",
      "     ----------- --------------------------- 3.9/12.8 MB 321.8 kB/s eta 0:00:28\n",
      "     ------------ -------------------------- 4.2/12.8 MB 325.1 kB/s eta 0:00:27\n",
      "     ------------ -------------------------- 4.2/12.8 MB 325.1 kB/s eta 0:00:27\n",
      "     ------------- ------------------------- 4.5/12.8 MB 330.6 kB/s eta 0:00:26\n",
      "     ------------- ------------------------- 4.5/12.8 MB 330.6 kB/s eta 0:00:26\n",
      "     ------------- ------------------------- 4.5/12.8 MB 330.6 kB/s eta 0:00:26\n",
      "     -------------- ------------------------ 4.7/12.8 MB 336.7 kB/s eta 0:00:25\n",
      "     -------------- ------------------------ 4.7/12.8 MB 336.7 kB/s eta 0:00:25\n",
      "     -------------- ------------------------ 4.7/12.8 MB 336.7 kB/s eta 0:00:25\n",
      "     -------------- ------------------------ 4.7/12.8 MB 336.7 kB/s eta 0:00:25\n",
      "     --------------- ----------------------- 5.0/12.8 MB 335.9 kB/s eta 0:00:24\n",
      "     --------------- ----------------------- 5.0/12.8 MB 335.9 kB/s eta 0:00:24\n",
      "     --------------- ----------------------- 5.0/12.8 MB 335.9 kB/s eta 0:00:24\n",
      "     --------------- ----------------------- 5.0/12.8 MB 335.9 kB/s eta 0:00:24\n",
      "     --------------- ----------------------- 5.0/12.8 MB 335.9 kB/s eta 0:00:24\n",
      "     --------------- ----------------------- 5.2/12.8 MB 330.0 kB/s eta 0:00:23\n",
      "     --------------- ----------------------- 5.2/12.8 MB 330.0 kB/s eta 0:00:23\n",
      "     --------------- ----------------------- 5.2/12.8 MB 330.0 kB/s eta 0:00:23\n",
      "     --------------- ----------------------- 5.2/12.8 MB 330.0 kB/s eta 0:00:23\n",
      "     --------------- ----------------------- 5.2/12.8 MB 330.0 kB/s eta 0:00:23\n",
      "     ---------------- ---------------------- 5.5/12.8 MB 321.7 kB/s eta 0:00:23\n",
      "     ---------------- ---------------------- 5.5/12.8 MB 321.7 kB/s eta 0:00:23\n",
      "     ---------------- ---------------------- 5.5/12.8 MB 321.7 kB/s eta 0:00:23\n",
      "     ---------------- ---------------------- 5.5/12.8 MB 321.7 kB/s eta 0:00:23\n",
      "     ----------------- --------------------- 5.8/12.8 MB 321.2 kB/s eta 0:00:22\n",
      "     ----------------- --------------------- 5.8/12.8 MB 321.2 kB/s eta 0:00:22\n",
      "     ----------------- --------------------- 5.8/12.8 MB 321.2 kB/s eta 0:00:22\n",
      "     ------------------ -------------------- 6.0/12.8 MB 324.1 kB/s eta 0:00:21\n",
      "     ------------------ -------------------- 6.0/12.8 MB 324.1 kB/s eta 0:00:21\n",
      "     ------------------ -------------------- 6.0/12.8 MB 324.1 kB/s eta 0:00:21\n",
      "     ------------------- ------------------- 6.3/12.8 MB 328.4 kB/s eta 0:00:20\n",
      "     ------------------- ------------------- 6.3/12.8 MB 328.4 kB/s eta 0:00:20\n",
      "     ------------------- ------------------- 6.3/12.8 MB 328.4 kB/s eta 0:00:20\n",
      "     ------------------- ------------------- 6.6/12.8 MB 330.6 kB/s eta 0:00:19\n",
      "     ------------------- ------------------- 6.6/12.8 MB 330.6 kB/s eta 0:00:19\n",
      "     -------------------- ------------------ 6.8/12.8 MB 334.5 kB/s eta 0:00:18\n",
      "     -------------------- ------------------ 6.8/12.8 MB 334.5 kB/s eta 0:00:18\n",
      "     --------------------- ----------------- 7.1/12.8 MB 340.3 kB/s eta 0:00:17\n",
      "     --------------------- ----------------- 7.1/12.8 MB 340.3 kB/s eta 0:00:17\n",
      "     --------------------- ----------------- 7.1/12.8 MB 340.3 kB/s eta 0:00:17\n",
      "     ---------------------- ---------------- 7.3/12.8 MB 344.0 kB/s eta 0:00:16\n",
      "     ---------------------- ---------------- 7.3/12.8 MB 344.0 kB/s eta 0:00:16\n",
      "     ---------------------- ---------------- 7.3/12.8 MB 344.0 kB/s eta 0:00:16\n",
      "     ----------------------- --------------- 7.6/12.8 MB 347.2 kB/s eta 0:00:15\n",
      "     ----------------------- --------------- 7.6/12.8 MB 347.2 kB/s eta 0:00:15\n",
      "     ----------------------- --------------- 7.9/12.8 MB 351.8 kB/s eta 0:00:15\n",
      "     ----------------------- --------------- 7.9/12.8 MB 351.8 kB/s eta 0:00:15\n",
      "     ------------------------ -------------- 8.1/12.8 MB 356.7 kB/s eta 0:00:14\n",
      "     ------------------------ -------------- 8.1/12.8 MB 356.7 kB/s eta 0:00:14\n",
      "     ------------------------ -------------- 8.1/12.8 MB 356.7 kB/s eta 0:00:14\n",
      "     ------------------------- ------------- 8.4/12.8 MB 358.4 kB/s eta 0:00:13\n",
      "     ------------------------- ------------- 8.4/12.8 MB 358.4 kB/s eta 0:00:13\n",
      "     ------------------------- ------------- 8.4/12.8 MB 358.4 kB/s eta 0:00:13\n",
      "     ------------------------- ------------- 8.4/12.8 MB 358.4 kB/s eta 0:00:13\n",
      "     ------------------------- ------------- 8.4/12.8 MB 358.4 kB/s eta 0:00:13\n",
      "     -------------------------- ------------ 8.7/12.8 MB 353.7 kB/s eta 0:00:12\n",
      "     -------------------------- ------------ 8.7/12.8 MB 353.7 kB/s eta 0:00:12\n",
      "     -------------------------- ------------ 8.7/12.8 MB 353.7 kB/s eta 0:00:12\n",
      "     -------------------------- ------------ 8.7/12.8 MB 353.7 kB/s eta 0:00:12\n",
      "     -------------------------- ------------ 8.7/12.8 MB 353.7 kB/s eta 0:00:12\n",
      "     -------------------------- ------------ 8.7/12.8 MB 353.7 kB/s eta 0:00:12\n",
      "     --------------------------- ----------- 8.9/12.8 MB 343.9 kB/s eta 0:00:12\n",
      "     --------------------------- ----------- 8.9/12.8 MB 343.9 kB/s eta 0:00:12\n",
      "     --------------------------- ----------- 8.9/12.8 MB 343.9 kB/s eta 0:00:12\n",
      "     --------------------------- ----------- 8.9/12.8 MB 343.9 kB/s eta 0:00:12\n",
      "     --------------------------- ----------- 8.9/12.8 MB 343.9 kB/s eta 0:00:12\n",
      "     --------------------------- ----------- 9.2/12.8 MB 339.7 kB/s eta 0:00:11\n",
      "     --------------------------- ----------- 9.2/12.8 MB 339.7 kB/s eta 0:00:11\n",
      "     ---------------------------- ---------- 9.4/12.8 MB 343.6 kB/s eta 0:00:10\n",
      "     ---------------------------- ---------- 9.4/12.8 MB 343.6 kB/s eta 0:00:10\n",
      "     ---------------------------- ---------- 9.4/12.8 MB 343.6 kB/s eta 0:00:10\n",
      "     ----------------------------- --------- 9.7/12.8 MB 346.1 kB/s eta 0:00:09\n",
      "     ----------------------------- --------- 9.7/12.8 MB 346.1 kB/s eta 0:00:09\n",
      "     ----------------------------- --------- 9.7/12.8 MB 346.1 kB/s eta 0:00:09\n",
      "     ----------------------------- --------- 9.7/12.8 MB 346.1 kB/s eta 0:00:09\n",
      "     ----------------------------- -------- 10.0/12.8 MB 344.5 kB/s eta 0:00:09\n",
      "     ----------------------------- -------- 10.0/12.8 MB 344.5 kB/s eta 0:00:09\n",
      "     ----------------------------- -------- 10.0/12.8 MB 344.5 kB/s eta 0:00:09\n",
      "     ----------------------------- -------- 10.0/12.8 MB 344.5 kB/s eta 0:00:09\n",
      "     ----------------------------- -------- 10.0/12.8 MB 344.5 kB/s eta 0:00:09\n",
      "     ----------------------------- -------- 10.0/12.8 MB 344.5 kB/s eta 0:00:09\n",
      "     ----------------------------- -------- 10.0/12.8 MB 344.5 kB/s eta 0:00:09\n",
      "     ------------------------------ ------- 10.2/12.8 MB 336.8 kB/s eta 0:00:08\n",
      "     ------------------------------ ------- 10.2/12.8 MB 336.8 kB/s eta 0:00:08\n",
      "     ------------------------------ ------- 10.2/12.8 MB 336.8 kB/s eta 0:00:08\n",
      "     ------------------------------ ------- 10.2/12.8 MB 336.8 kB/s eta 0:00:08\n",
      "     ------------------------------ ------- 10.2/12.8 MB 336.8 kB/s eta 0:00:08\n",
      "     ------------------------------- ------ 10.5/12.8 MB 332.7 kB/s eta 0:00:07\n",
      "     ------------------------------- ------ 10.5/12.8 MB 332.7 kB/s eta 0:00:07\n",
      "     ------------------------------- ------ 10.5/12.8 MB 332.7 kB/s eta 0:00:07\n",
      "     ------------------------------- ------ 10.7/12.8 MB 329.1 kB/s eta 0:00:07\n",
      "     ------------------------------- ------ 10.7/12.8 MB 329.1 kB/s eta 0:00:07\n",
      "     ------------------------------- ------ 10.7/12.8 MB 329.1 kB/s eta 0:00:07\n",
      "     ------------------------------- ------ 10.7/12.8 MB 329.1 kB/s eta 0:00:07\n",
      "     -------------------------------- ----- 11.0/12.8 MB 329.0 kB/s eta 0:00:06\n",
      "     -------------------------------- ----- 11.0/12.8 MB 329.0 kB/s eta 0:00:06\n",
      "     -------------------------------- ----- 11.0/12.8 MB 329.0 kB/s eta 0:00:06\n",
      "     -------------------------------- ----- 11.0/12.8 MB 329.0 kB/s eta 0:00:06\n",
      "     --------------------------------- ---- 11.3/12.8 MB 325.3 kB/s eta 0:00:05\n",
      "     --------------------------------- ---- 11.3/12.8 MB 325.3 kB/s eta 0:00:05\n",
      "     --------------------------------- ---- 11.3/12.8 MB 325.3 kB/s eta 0:00:05\n",
      "     --------------------------------- ---- 11.3/12.8 MB 325.3 kB/s eta 0:00:05\n",
      "     --------------------------------- ---- 11.3/12.8 MB 325.3 kB/s eta 0:00:05\n",
      "     ---------------------------------- --- 11.5/12.8 MB 323.3 kB/s eta 0:00:04\n",
      "     ---------------------------------- --- 11.5/12.8 MB 323.3 kB/s eta 0:00:04\n",
      "     ---------------------------------- --- 11.5/12.8 MB 323.3 kB/s eta 0:00:04\n",
      "     ----------------------------------- -- 11.8/12.8 MB 316.1 kB/s eta 0:00:04\n",
      "     ----------------------------------- -- 11.8/12.8 MB 316.1 kB/s eta 0:00:04\n",
      "     ----------------------------------- -- 12.1/12.8 MB 318.9 kB/s eta 0:00:03\n",
      "     ----------------------------------- -- 12.1/12.8 MB 318.9 kB/s eta 0:00:03\n",
      "     ----------------------------------- -- 12.1/12.8 MB 318.9 kB/s eta 0:00:03\n",
      "     ----------------------------------- -- 12.1/12.8 MB 318.9 kB/s eta 0:00:03\n",
      "     ----------------------------------- -- 12.1/12.8 MB 318.9 kB/s eta 0:00:03\n",
      "     ------------------------------------ - 12.3/12.8 MB 319.1 kB/s eta 0:00:02\n",
      "     ------------------------------------ - 12.3/12.8 MB 319.1 kB/s eta 0:00:02\n",
      "     ------------------------------------ - 12.3/12.8 MB 319.1 kB/s eta 0:00:02\n",
      "     -------------------------------------  12.6/12.8 MB 325.4 kB/s eta 0:00:01\n",
      "     -------------------------------------  12.6/12.8 MB 325.4 kB/s eta 0:00:01\n",
      "     -------------------------------------- 12.8/12.8 MB 327.3 kB/s eta 0:00:00\n",
      "Installing collected packages: en-core-web-sm\n",
      "Successfully installed en-core-web-sm-3.8.0\n",
      "\u001b[38;5;2m[+] Download and installation successful\u001b[0m\n",
      "You can now load the package via spacy.load('en_core_web_sm')\n"
     ]
    }
   ],
   "source": [
    "!python -m spacy download en_core_web_sm"
   ]
  },
  {
   "cell_type": "code",
   "execution_count": 5,
   "id": "b33ac13a-cc35-4819-8d3e-8d96b6d1b343",
   "metadata": {
    "collapsed": true,
    "jupyter": {
     "outputs_hidden": true
    }
   },
   "outputs": [
    {
     "name": "stdout",
     "output_type": "stream",
     "text": [
      "Collecting numpy==1.23.5\n",
      "  Using cached numpy-1.23.5-cp39-cp39-win_amd64.whl.metadata (2.3 kB)\n",
      "Using cached numpy-1.23.5-cp39-cp39-win_amd64.whl (14.7 MB)\n",
      "Installing collected packages: numpy\n",
      "  Attempting uninstall: numpy\n",
      "    Found existing installation: numpy 2.0.2\n",
      "    Uninstalling numpy-2.0.2:\n",
      "      Successfully uninstalled numpy-2.0.2\n",
      "Successfully installed numpy-1.23.5\n",
      "Note: you may need to restart the kernel to use updated packages.\n"
     ]
    },
    {
     "name": "stderr",
     "output_type": "stream",
     "text": [
      "ERROR: pip's dependency resolver does not currently take into account all the packages that are installed. This behaviour is the source of the following dependency conflicts.\n",
      "blis 1.0.1 requires numpy<3.0.0,>=2.0.0, but you have numpy 1.23.5 which is incompatible.\n",
      "thinc 8.3.2 requires numpy<2.1.0,>=2.0.0; python_version >= \"3.9\", but you have numpy 1.23.5 which is incompatible.\n"
     ]
    }
   ],
   "source": [
    "pip install numpy==1.23.5"
   ]
  },
  {
   "cell_type": "code",
   "execution_count": 55,
   "id": "372a15e3-ee56-495c-8978-695e79a6b0e1",
   "metadata": {
    "collapsed": true,
    "jupyter": {
     "outputs_hidden": true
    }
   },
   "outputs": [
    {
     "name": "stdout",
     "output_type": "stream",
     "text": [
      "Collecting gradio\n",
      "  Downloading gradio-4.44.1-py3-none-any.whl.metadata (15 kB)\n",
      "Requirement already satisfied: jinja2 in c:\\users\\gksha\\anaconda3\\envs\\tf-gpu\\lib\\site-packages (3.1.4)\n",
      "Collecting aiofiles<24.0,>=22.0 (from gradio)\n",
      "  Downloading aiofiles-23.2.1-py3-none-any.whl.metadata (9.7 kB)\n",
      "Requirement already satisfied: anyio<5.0,>=3.0 in c:\\users\\gksha\\anaconda3\\envs\\tf-gpu\\lib\\site-packages (from gradio) (4.6.2)\n",
      "Collecting fastapi<1.0 (from gradio)\n",
      "  Downloading fastapi-0.115.5-py3-none-any.whl.metadata (27 kB)\n",
      "Collecting ffmpy (from gradio)\n",
      "  Downloading ffmpy-0.4.0-py3-none-any.whl.metadata (2.9 kB)\n",
      "Collecting gradio-client==1.3.0 (from gradio)\n",
      "  Downloading gradio_client-1.3.0-py3-none-any.whl.metadata (7.1 kB)\n",
      "Requirement already satisfied: httpx>=0.24.1 in c:\\users\\gksha\\anaconda3\\envs\\tf-gpu\\lib\\site-packages (from gradio) (0.27.0)\n",
      "Collecting huggingface-hub>=0.19.3 (from gradio)\n",
      "  Downloading huggingface_hub-0.26.2-py3-none-any.whl.metadata (13 kB)\n",
      "Requirement already satisfied: importlib-resources<7.0,>=1.3 in c:\\users\\gksha\\anaconda3\\envs\\tf-gpu\\lib\\site-packages (from gradio) (6.4.5)\n",
      "Requirement already satisfied: markupsafe~=2.0 in c:\\users\\gksha\\anaconda3\\envs\\tf-gpu\\lib\\site-packages (from gradio) (2.1.3)\n",
      "Requirement already satisfied: matplotlib~=3.0 in c:\\users\\gksha\\anaconda3\\envs\\tf-gpu\\lib\\site-packages (from gradio) (3.9.2)\n",
      "Requirement already satisfied: numpy<3.0,>=1.0 in c:\\users\\gksha\\anaconda3\\envs\\tf-gpu\\lib\\site-packages (from gradio) (1.23.5)\n",
      "Collecting orjson~=3.0 (from gradio)\n",
      "  Downloading orjson-3.10.11-cp39-none-win_amd64.whl.metadata (52 kB)\n",
      "Requirement already satisfied: packaging in c:\\users\\gksha\\anaconda3\\envs\\tf-gpu\\lib\\site-packages (from gradio) (24.1)\n",
      "Requirement already satisfied: pandas<3.0,>=1.0 in c:\\users\\gksha\\anaconda3\\envs\\tf-gpu\\lib\\site-packages (from gradio) (2.2.3)\n",
      "Collecting pillow<11.0,>=8.0 (from gradio)\n",
      "  Using cached pillow-10.4.0-cp39-cp39-win_amd64.whl.metadata (9.3 kB)\n",
      "Requirement already satisfied: pydantic>=2.0 in c:\\users\\gksha\\anaconda3\\envs\\tf-gpu\\lib\\site-packages (from gradio) (2.9.2)\n",
      "Collecting pydub (from gradio)\n",
      "  Downloading pydub-0.25.1-py2.py3-none-any.whl.metadata (1.4 kB)\n",
      "Collecting python-multipart>=0.0.9 (from gradio)\n",
      "  Downloading python_multipart-0.0.17-py3-none-any.whl.metadata (1.8 kB)\n",
      "Requirement already satisfied: pyyaml<7.0,>=5.0 in c:\\users\\gksha\\anaconda3\\envs\\tf-gpu\\lib\\site-packages (from gradio) (6.0.2)\n",
      "Collecting ruff>=0.2.2 (from gradio)\n",
      "  Downloading ruff-0.7.4-py3-none-win_amd64.whl.metadata (25 kB)\n",
      "Collecting semantic-version~=2.0 (from gradio)\n",
      "  Downloading semantic_version-2.10.0-py2.py3-none-any.whl.metadata (9.7 kB)\n",
      "Collecting tomlkit==0.12.0 (from gradio)\n",
      "  Downloading tomlkit-0.12.0-py3-none-any.whl.metadata (2.7 kB)\n",
      "Requirement already satisfied: typer<1.0,>=0.12 in c:\\users\\gksha\\anaconda3\\envs\\tf-gpu\\lib\\site-packages (from gradio) (0.13.1)\n",
      "Requirement already satisfied: typing-extensions~=4.0 in c:\\users\\gksha\\anaconda3\\envs\\tf-gpu\\lib\\site-packages (from gradio) (4.11.0)\n",
      "Requirement already satisfied: urllib3~=2.0 in c:\\users\\gksha\\anaconda3\\envs\\tf-gpu\\lib\\site-packages (from gradio) (2.2.3)\n",
      "Collecting uvicorn>=0.14.0 (from gradio)\n",
      "  Downloading uvicorn-0.32.0-py3-none-any.whl.metadata (6.6 kB)\n",
      "Collecting fsspec (from gradio-client==1.3.0->gradio)\n",
      "  Downloading fsspec-2024.10.0-py3-none-any.whl.metadata (11 kB)\n",
      "Collecting websockets<13.0,>=10.0 (from gradio-client==1.3.0->gradio)\n",
      "  Downloading websockets-12.0-cp39-cp39-win_amd64.whl.metadata (6.8 kB)\n",
      "Requirement already satisfied: idna>=2.8 in c:\\users\\gksha\\anaconda3\\envs\\tf-gpu\\lib\\site-packages (from anyio<5.0,>=3.0->gradio) (3.10)\n",
      "Requirement already satisfied: sniffio>=1.1 in c:\\users\\gksha\\anaconda3\\envs\\tf-gpu\\lib\\site-packages (from anyio<5.0,>=3.0->gradio) (1.3.0)\n",
      "Requirement already satisfied: exceptiongroup>=1.0.2 in c:\\users\\gksha\\anaconda3\\envs\\tf-gpu\\lib\\site-packages (from anyio<5.0,>=3.0->gradio) (1.2.0)\n",
      "Collecting starlette<0.42.0,>=0.40.0 (from fastapi<1.0->gradio)\n",
      "  Downloading starlette-0.41.3-py3-none-any.whl.metadata (6.0 kB)\n",
      "Requirement already satisfied: certifi in c:\\users\\gksha\\anaconda3\\envs\\tf-gpu\\lib\\site-packages (from httpx>=0.24.1->gradio) (2024.8.30)\n",
      "Requirement already satisfied: httpcore==1.* in c:\\users\\gksha\\anaconda3\\envs\\tf-gpu\\lib\\site-packages (from httpx>=0.24.1->gradio) (1.0.2)\n",
      "Requirement already satisfied: h11<0.15,>=0.13 in c:\\users\\gksha\\anaconda3\\envs\\tf-gpu\\lib\\site-packages (from httpcore==1.*->httpx>=0.24.1->gradio) (0.14.0)\n",
      "Collecting filelock (from huggingface-hub>=0.19.3->gradio)\n",
      "  Downloading filelock-3.16.1-py3-none-any.whl.metadata (2.9 kB)\n",
      "Requirement already satisfied: requests in c:\\users\\gksha\\anaconda3\\envs\\tf-gpu\\lib\\site-packages (from huggingface-hub>=0.19.3->gradio) (2.32.3)\n",
      "Requirement already satisfied: tqdm>=4.42.1 in c:\\users\\gksha\\anaconda3\\envs\\tf-gpu\\lib\\site-packages (from huggingface-hub>=0.19.3->gradio) (4.67.0)\n",
      "Requirement already satisfied: zipp>=3.1.0 in c:\\users\\gksha\\anaconda3\\envs\\tf-gpu\\lib\\site-packages (from importlib-resources<7.0,>=1.3->gradio) (3.20.2)\n",
      "Requirement already satisfied: contourpy>=1.0.1 in c:\\users\\gksha\\anaconda3\\envs\\tf-gpu\\lib\\site-packages (from matplotlib~=3.0->gradio) (1.3.0)\n",
      "Requirement already satisfied: cycler>=0.10 in c:\\users\\gksha\\anaconda3\\envs\\tf-gpu\\lib\\site-packages (from matplotlib~=3.0->gradio) (0.12.1)\n",
      "Requirement already satisfied: fonttools>=4.22.0 in c:\\users\\gksha\\anaconda3\\envs\\tf-gpu\\lib\\site-packages (from matplotlib~=3.0->gradio) (4.55.0)\n",
      "Requirement already satisfied: kiwisolver>=1.3.1 in c:\\users\\gksha\\anaconda3\\envs\\tf-gpu\\lib\\site-packages (from matplotlib~=3.0->gradio) (1.4.7)\n",
      "Requirement already satisfied: pyparsing>=2.3.1 in c:\\users\\gksha\\anaconda3\\envs\\tf-gpu\\lib\\site-packages (from matplotlib~=3.0->gradio) (3.2.0)\n",
      "Requirement already satisfied: python-dateutil>=2.7 in c:\\users\\gksha\\anaconda3\\envs\\tf-gpu\\lib\\site-packages (from matplotlib~=3.0->gradio) (2.9.0.post0)\n",
      "Requirement already satisfied: pytz>=2020.1 in c:\\users\\gksha\\anaconda3\\envs\\tf-gpu\\lib\\site-packages (from pandas<3.0,>=1.0->gradio) (2024.1)\n",
      "Requirement already satisfied: tzdata>=2022.7 in c:\\users\\gksha\\anaconda3\\envs\\tf-gpu\\lib\\site-packages (from pandas<3.0,>=1.0->gradio) (2024.2)\n",
      "Requirement already satisfied: annotated-types>=0.6.0 in c:\\users\\gksha\\anaconda3\\envs\\tf-gpu\\lib\\site-packages (from pydantic>=2.0->gradio) (0.7.0)\n",
      "Requirement already satisfied: pydantic-core==2.23.4 in c:\\users\\gksha\\anaconda3\\envs\\tf-gpu\\lib\\site-packages (from pydantic>=2.0->gradio) (2.23.4)\n",
      "Requirement already satisfied: click>=8.0.0 in c:\\users\\gksha\\anaconda3\\envs\\tf-gpu\\lib\\site-packages (from typer<1.0,>=0.12->gradio) (8.1.7)\n",
      "Requirement already satisfied: shellingham>=1.3.0 in c:\\users\\gksha\\anaconda3\\envs\\tf-gpu\\lib\\site-packages (from typer<1.0,>=0.12->gradio) (1.5.4)\n",
      "Requirement already satisfied: rich>=10.11.0 in c:\\users\\gksha\\anaconda3\\envs\\tf-gpu\\lib\\site-packages (from typer<1.0,>=0.12->gradio) (13.9.4)\n",
      "Requirement already satisfied: colorama in c:\\users\\gksha\\anaconda3\\envs\\tf-gpu\\lib\\site-packages (from click>=8.0.0->typer<1.0,>=0.12->gradio) (0.4.6)\n",
      "Requirement already satisfied: six>=1.5 in c:\\users\\gksha\\anaconda3\\envs\\tf-gpu\\lib\\site-packages (from python-dateutil>=2.7->matplotlib~=3.0->gradio) (1.16.0)\n",
      "Requirement already satisfied: markdown-it-py>=2.2.0 in c:\\users\\gksha\\anaconda3\\envs\\tf-gpu\\lib\\site-packages (from rich>=10.11.0->typer<1.0,>=0.12->gradio) (3.0.0)\n",
      "Requirement already satisfied: pygments<3.0.0,>=2.13.0 in c:\\users\\gksha\\anaconda3\\envs\\tf-gpu\\lib\\site-packages (from rich>=10.11.0->typer<1.0,>=0.12->gradio) (2.15.1)\n",
      "Requirement already satisfied: charset-normalizer<4,>=2 in c:\\users\\gksha\\anaconda3\\envs\\tf-gpu\\lib\\site-packages (from requests->huggingface-hub>=0.19.3->gradio) (3.3.2)\n",
      "Requirement already satisfied: mdurl~=0.1 in c:\\users\\gksha\\anaconda3\\envs\\tf-gpu\\lib\\site-packages (from markdown-it-py>=2.2.0->rich>=10.11.0->typer<1.0,>=0.12->gradio) (0.1.2)\n",
      "Downloading gradio-4.44.1-py3-none-any.whl (18.1 MB)\n",
      "   ---------------------------------------- 0.0/18.1 MB ? eta -:--:--\n",
      "   --- ------------------------------------ 1.6/18.1 MB 12.0 MB/s eta 0:00:02\n",
      "   --------------- ------------------------ 7.1/18.1 MB 22.9 MB/s eta 0:00:01\n",
      "   ------------------------------- -------- 14.4/18.1 MB 26.7 MB/s eta 0:00:01\n",
      "   ---------------------------------------- 18.1/18.1 MB 23.7 MB/s eta 0:00:00\n",
      "Downloading gradio_client-1.3.0-py3-none-any.whl (318 kB)\n",
      "Downloading tomlkit-0.12.0-py3-none-any.whl (37 kB)\n",
      "Downloading aiofiles-23.2.1-py3-none-any.whl (15 kB)\n",
      "Downloading fastapi-0.115.5-py3-none-any.whl (94 kB)\n",
      "Downloading huggingface_hub-0.26.2-py3-none-any.whl (447 kB)\n",
      "Downloading orjson-3.10.11-cp39-none-win_amd64.whl (136 kB)\n",
      "Downloading pillow-10.4.0-cp39-cp39-win_amd64.whl (2.6 MB)\n",
      "   ---------------------------------------- 0.0/2.6 MB ? eta -:--:--\n",
      "   ---------------------------------------- 2.6/2.6 MB 29.4 MB/s eta 0:00:00\n",
      "Downloading python_multipart-0.0.17-py3-none-any.whl (24 kB)\n",
      "Downloading ruff-0.7.4-py3-none-win_amd64.whl (9.5 MB)\n",
      "   ---------------------------------------- 0.0/9.5 MB ? eta -:--:--\n",
      "   ---------------------------- ----------- 6.8/9.5 MB 38.1 MB/s eta 0:00:01\n",
      "   ---------------------------------------- 9.5/9.5 MB 26.8 MB/s eta 0:00:00\n",
      "Downloading semantic_version-2.10.0-py2.py3-none-any.whl (15 kB)\n",
      "Downloading uvicorn-0.32.0-py3-none-any.whl (63 kB)\n",
      "Downloading ffmpy-0.4.0-py3-none-any.whl (5.8 kB)\n",
      "Downloading pydub-0.25.1-py2.py3-none-any.whl (32 kB)\n",
      "Downloading fsspec-2024.10.0-py3-none-any.whl (179 kB)\n",
      "Downloading starlette-0.41.3-py3-none-any.whl (73 kB)\n",
      "Downloading websockets-12.0-cp39-cp39-win_amd64.whl (124 kB)\n",
      "Downloading filelock-3.16.1-py3-none-any.whl (16 kB)\n",
      "Installing collected packages: pydub, websockets, tomlkit, semantic-version, ruff, python-multipart, pillow, orjson, fsspec, filelock, ffmpy, aiofiles, uvicorn, starlette, huggingface-hub, gradio-client, fastapi, gradio\n",
      "  Attempting uninstall: pillow\n",
      "    Found existing installation: pillow 11.0.0\n",
      "    Uninstalling pillow-11.0.0:\n",
      "      Successfully uninstalled pillow-11.0.0\n",
      "Successfully installed aiofiles-23.2.1 fastapi-0.115.5 ffmpy-0.4.0 filelock-3.16.1 fsspec-2024.10.0 gradio-4.44.1 gradio-client-1.3.0 huggingface-hub-0.26.2 orjson-3.10.11 pillow-10.4.0 pydub-0.25.1 python-multipart-0.0.17 ruff-0.7.4 semantic-version-2.10.0 starlette-0.41.3 tomlkit-0.12.0 uvicorn-0.32.0 websockets-12.0\n",
      "Note: you may need to restart the kernel to use updated packages.\n"
     ]
    },
    {
     "name": "stderr",
     "output_type": "stream",
     "text": [
      "  WARNING: Failed to remove contents in a temporary directory 'C:\\Users\\gksha\\anaconda3\\envs\\tf-gpu\\Lib\\site-packages\\~il'.\n",
      "  You can safely remove it manually.\n"
     ]
    }
   ],
   "source": [
    "pip install gradio jinja2"
   ]
  },
  {
   "cell_type": "code",
   "execution_count": 6,
   "id": "00d21278-9501-4601-8744-9c84ec279b68",
   "metadata": {
    "collapsed": true,
    "jupyter": {
     "outputs_hidden": true
    },
    "scrolled": true
   },
   "outputs": [
    {
     "name": "stdout",
     "output_type": "stream",
     "text": [
      "absl-py==2.1.0\n",
      "annotated-types==0.7.0\n",
      "anyio @ file:///C:/b/abs_31grv7a7bl/croot/anyio_1729121290992/work\n",
      "argon2-cffi @ file:///opt/conda/conda-bld/argon2-cffi_1645000214183/work\n",
      "argon2-cffi-bindings @ file:///C:/ci/argon2-cffi-bindings_1644551690056/work\n",
      "asttokens @ file:///opt/conda/conda-bld/asttokens_1646925590279/work\n",
      "astunparse==1.6.3\n",
      "async-lru @ file:///C:/b/abs_e0hjkvwwb5/croot/async-lru_1699554572212/work\n",
      "attrs @ file:///C:/b/abs_24xj44kobp/croot/attrs_1729089434205/work\n",
      "Babel @ file:///C:/b/abs_a2shv_3tqi/croot/babel_1671782804377/work\n",
      "backcall @ file:///home/ktietz/src/ci/backcall_1611930011877/work\n",
      "beautifulsoup4 @ file:///C:/b/abs_d5wytg_p0w/croot/beautifulsoup4-split_1718029833749/work\n",
      "bleach @ file:///opt/conda/conda-bld/bleach_1641577558959/work\n",
      "blis==1.0.1\n",
      "Brotli @ file:///C:/b/abs_3d36mno480/croot/brotli-split_1714483178642/work\n",
      "cachetools==5.5.0\n",
      "catalogue==2.0.10\n",
      "certifi @ file:///C:/b/abs_1fw_exq1si/croot/certifi_1725551736618/work/certifi\n",
      "cffi @ file:///C:/b/abs_90yq4lmu83/croot/cffi_1726856448345/work\n",
      "charset-normalizer @ file:///croot/charset-normalizer_1721748349566/work\n",
      "click==8.1.7\n",
      "cloudpathlib==0.20.0\n",
      "colorama @ file:///C:/b/abs_a9ozq0l032/croot/colorama_1672387194846/work\n",
      "comm @ file:///C:/b/abs_67a8058udb/croot/comm_1709322909844/work\n",
      "confection==0.1.5\n",
      "contourpy==1.3.0\n",
      "cycler==0.12.1\n",
      "cymem==2.0.8\n",
      "debugpy @ file:///C:/b/abs_c0y1fjipt2/croot/debugpy_1690906864587/work\n",
      "decorator @ file:///opt/conda/conda-bld/decorator_1643638310831/work\n",
      "defusedxml @ file:///tmp/build/80754af9/defusedxml_1615228127516/work\n",
      "en_core_web_sm @ https://github.com/explosion/spacy-models/releases/download/en_core_web_sm-3.8.0/en_core_web_sm-3.8.0-py3-none-any.whl#sha256=1932429db727d4bff3deed6b34cfc05df17794f4a52eeb26cf8928f7c1a0fb85\n",
      "exceptiongroup @ file:///C:/b/abs_c5h1o1_b5b/croot/exceptiongroup_1706031441653/work\n",
      "executing @ file:///opt/conda/conda-bld/executing_1646925071911/work\n",
      "fastjsonschema @ file:///C:/b/abs_4ev90296ly/croot/python-fastjsonschema_1731939386416/work\n",
      "flatbuffers==24.3.25\n",
      "fonttools==4.55.0\n",
      "gast==0.4.0\n",
      "google-auth==2.36.0\n",
      "google-auth-oauthlib==0.4.6\n",
      "google-pasta==0.2.0\n",
      "grpcio==1.68.0\n",
      "h11 @ file:///C:/b/abs_1czwoyexjf/croot/h11_1706652332846/work\n",
      "h5py==3.12.1\n",
      "httpcore @ file:///C:/b/abs_55n7g233bw/croot/httpcore_1706728507241/work\n",
      "httpx @ file:///C:/b/abs_43e135shby/croot/httpx_1723474830126/work\n",
      "idna==3.10\n",
      "importlib-metadata @ file:///C:/b/abs_c1egths604/croot/importlib_metadata-suite_1704813568388/work\n",
      "importlib_resources==6.4.5\n",
      "ipykernel @ file:///C:/b/abs_5etv6sld_j/croot/ipykernel_1728665608850/work\n",
      "ipython @ file:///C:/b/abs_e5729i179y/croot/ipython_1694181400005/work\n",
      "ipywidgets==8.1.5\n",
      "jedi @ file:///C:/b/abs_1b8kmj7rrm/croot/jedi_1721058359741/work\n",
      "Jinja2 @ file:///C:/b/abs_ddyeze2h6_/croot/jinja2_1730903330414/work\n",
      "joblib==1.4.2\n",
      "json5 @ file:///C:/b/abs_743lprxrv5/croot/json5_1730786818336/work\n",
      "jsonschema @ file:///C:/b/abs_394_t6__xq/croot/jsonschema_1728486718320/work\n",
      "jsonschema-specifications @ file:///C:/b/abs_0brvm6vryw/croot/jsonschema-specifications_1699032417323/work\n",
      "jupyter-events @ file:///C:/b/abs_c2m9s5b5m5/croot/jupyter_events_1718738115254/work\n",
      "jupyter-lsp @ file:///C:/b/abs_ecle3em9d4/croot/jupyter-lsp-meta_1699978291372/work\n",
      "jupyter_client @ file:///C:/b/abs_a6h3c8hfdq/croot/jupyter_client_1699455939372/work\n",
      "jupyter_core @ file:///C:/b/abs_beftpbuevw/croot/jupyter_core_1718818307097/work\n",
      "jupyter_server @ file:///C:/b/abs_9a333nh6yu/croot/jupyter_server_1718827092223/work\n",
      "jupyter_server_terminals @ file:///C:/b/abs_ec0dq4b50j/croot/jupyter_server_terminals_1686870763512/work\n",
      "jupyterlab @ file:///C:/b/abs_88qjk9lo2r/croot/jupyterlab_1725895228333/work\n",
      "jupyterlab-pygments @ file:///tmp/build/80754af9/jupyterlab_pygments_1601490720602/work\n",
      "jupyterlab_server @ file:///C:/b/abs_fdi5r_tpjc/croot/jupyterlab_server_1725865372811/work\n",
      "jupyterlab_widgets==3.0.13\n",
      "keras==2.10.0\n",
      "Keras-Preprocessing==1.1.2\n",
      "kiwisolver==1.4.7\n",
      "langcodes==3.4.1\n",
      "language_data==1.2.0\n",
      "libclang==18.1.1\n",
      "marisa-trie==1.2.1\n",
      "Markdown==3.7\n",
      "markdown-it-py==3.0.0\n",
      "MarkupSafe @ file:///C:/b/abs_ecfdqh67b_/croot/markupsafe_1704206030535/work\n",
      "matplotlib==3.9.2\n",
      "matplotlib-inline @ file:///C:/ci/matplotlib-inline_1661915841596/work\n",
      "mdurl==0.1.2\n",
      "mistune @ file:///C:/Users/BUILDE~1/AppData/Local/Temp/abs_081kimkskf/croots/recipe/mistune_1661496225923/work\n",
      "murmurhash==1.0.10\n",
      "nbclient @ file:///C:/b/abs_cal0q5fyju/croot/nbclient_1698934263135/work\n",
      "nbconvert @ file:///C:/b/abs_ac6qnzi3no/croot/nbconvert_1728050663985/work\n",
      "nbformat @ file:///C:/b/abs_c2jkw46etm/croot/nbformat_1728050303821/work\n",
      "nest-asyncio @ file:///C:/b/abs_65d6lblmoi/croot/nest-asyncio_1708532721305/work\n",
      "nltk==3.9.1\n",
      "notebook_shim @ file:///C:/b/abs_a5xysln3lb/croot/notebook-shim_1699455926920/work\n",
      "numpy==1.23.5\n",
      "oauthlib==3.2.2\n",
      "opt_einsum==3.4.0\n",
      "overrides @ file:///C:/b/abs_cfh89c8yf4/croot/overrides_1699371165349/work\n",
      "packaging @ file:///C:/b/abs_c3vlh0z4jw/croot/packaging_1720101866539/work\n",
      "pandas==2.2.3\n",
      "pandocfilters @ file:///opt/conda/conda-bld/pandocfilters_1643405455980/work\n",
      "parso @ file:///opt/conda/conda-bld/parso_1641458642106/work\n",
      "pickleshare @ file:///tmp/build/80754af9/pickleshare_1606932040724/work\n",
      "pillow==11.0.0\n",
      "platformdirs @ file:///C:/b/abs_b6z_yqw_ii/croot/platformdirs_1692205479426/work\n",
      "preshed==3.0.9\n",
      "prometheus_client @ file:///C:/b/abs_e7l07zkc4b/croot/prometheus_client_1731961599071/work\n",
      "prompt-toolkit @ file:///C:/b/abs_68uwr58ed1/croot/prompt-toolkit_1704404394082/work\n",
      "protobuf==3.19.6\n",
      "psutil @ file:///C:/Windows/Temp/abs_b2c2fd7f-9fd5-4756-95ea-8aed74d0039flsd9qufz/croots/recipe/psutil_1656431277748/work\n",
      "pure-eval @ file:///opt/conda/conda-bld/pure_eval_1646925070566/work\n",
      "pyasn1==0.6.1\n",
      "pyasn1_modules==0.4.1\n",
      "pycparser @ file:///tmp/build/80754af9/pycparser_1636541352034/work\n",
      "pydantic==2.9.2\n",
      "pydantic_core==2.23.4\n",
      "Pygments @ file:///C:/b/abs_fay9dpq4n_/croot/pygments_1684279990574/work\n",
      "pyparsing==3.2.0\n",
      "PySocks @ file:///C:/ci/pysocks_1605307512533/work\n",
      "python-dateutil @ file:///C:/b/abs_3au_koqnbs/croot/python-dateutil_1716495777160/work\n",
      "python-json-logger @ file:///C:/b/abs_cblnsm6puj/croot/python-json-logger_1683824130469/work\n",
      "pytz @ file:///C:/b/abs_6ap4tsz1ox/croot/pytz_1713974360290/work\n",
      "pywin32==305.1\n",
      "pywinpty @ file:///C:/b/abs_73vshmevwq/croot/pywinpty_1677609966356/work/target/wheels/pywinpty-2.0.10-cp39-none-win_amd64.whl\n",
      "PyYAML @ file:///C:/b/abs_14xkfs39bx/croot/pyyaml_1728657968772/work\n",
      "pyzmq @ file:///C:/b/abs_89aq69t0up/croot/pyzmq_1705605705281/work\n",
      "referencing @ file:///C:/b/abs_09f4hj6adf/croot/referencing_1699012097448/work\n",
      "regex==2024.11.6\n",
      "requests @ file:///C:/b/abs_c3508vg8ez/croot/requests_1731000584867/work\n",
      "requests-oauthlib==2.0.0\n",
      "rfc3339-validator @ file:///C:/b/abs_ddfmseb_vm/croot/rfc3339-validator_1683077054906/work\n",
      "rfc3986-validator @ file:///C:/b/abs_6e9azihr8o/croot/rfc3986-validator_1683059049737/work\n",
      "rich==13.9.4\n",
      "rpds-py @ file:///C:/b/abs_76j4g4la23/croot/rpds-py_1698947348047/work\n",
      "rsa==4.9\n",
      "scikit-learn==1.5.2\n",
      "scipy==1.13.1\n",
      "seaborn==0.13.2\n",
      "Send2Trash @ file:///C:/b/abs_08dh49ew26/croot/send2trash_1699371173324/work\n",
      "shellingham==1.5.4\n",
      "six @ file:///tmp/build/80754af9/six_1644875935023/work\n",
      "smart-open==7.0.5\n",
      "sniffio @ file:///C:/b/abs_3akdewudo_/croot/sniffio_1705431337396/work\n",
      "soupsieve @ file:///C:/b/abs_bbsvy9t4pl/croot/soupsieve_1696347611357/work\n",
      "spacy==3.8.2\n",
      "spacy-legacy==3.0.12\n",
      "spacy-loggers==1.0.5\n",
      "srsly==2.4.8\n",
      "stack-data @ file:///opt/conda/conda-bld/stack_data_1646927590127/work\n",
      "tensorboard==2.10.1\n",
      "tensorboard-data-server==0.6.1\n",
      "tensorboard-plugin-wit==1.8.1\n",
      "tensorflow==2.10.0\n",
      "tensorflow-estimator==2.10.0\n",
      "tensorflow-io-gcs-filesystem==0.31.0\n",
      "termcolor==2.5.0\n",
      "terminado @ file:///C:/b/abs_25nakickad/croot/terminado_1671751845491/work\n",
      "thinc==8.3.2\n",
      "threadpoolctl==3.5.0\n",
      "tinycss2 @ file:///C:/b/abs_52w5vfuaax/croot/tinycss2_1668168823131/work\n",
      "tomli @ file:///C:/Windows/TEMP/abs_ac109f85-a7b3-4b4d-bcfd-52622eceddf0hy332ojo/croots/recipe/tomli_1657175513137/work\n",
      "tornado @ file:///C:/b/abs_7bua0304mj/croot/tornado_1718740122405/work\n",
      "tqdm==4.67.0\n",
      "traitlets @ file:///C:/b/abs_bfsnoxl4pq/croot/traitlets_1718227069245/work\n",
      "typer==0.13.1\n",
      "typing_extensions @ file:///C:/b/abs_0as9mdbkfl/croot/typing_extensions_1715268906610/work\n",
      "tzdata==2024.2\n",
      "urllib3 @ file:///C:/b/abs_9a_f8h_bn2/croot/urllib3_1727769836930/work\n",
      "wasabi==1.1.3\n",
      "wcwidth==0.2.13\n",
      "weasel==0.4.1\n",
      "webencodings==0.5.1\n",
      "websocket-client @ file:///C:/b/abs_5dmnxxoci9/croot/websocket-client_1715878351319/work\n",
      "Werkzeug==3.1.3\n",
      "widgetsnbextension==4.0.13\n",
      "win-inet-pton @ file:///C:/ci/win_inet_pton_1605306162074/work\n",
      "wrapt==1.16.0\n",
      "zipp @ file:///C:/b/abs_021kqswk3k/croot/zipp_1729012371206/work\n",
      "Note: you may need to restart the kernel to use updated packages.\n"
     ]
    }
   ],
   "source": [
    "pip freeze"
   ]
  },
  {
   "cell_type": "markdown",
   "id": "9e497d66-b60f-4c99-ad82-48fb3ff208fa",
   "metadata": {},
   "source": [
    "## STEP - 1: IMPORTING THE FOLLOWING LIBRARIES AND MODULES"
   ]
  },
  {
   "cell_type": "code",
   "execution_count": 1,
   "id": "255b7eb9-e16a-4dee-9ec7-6e6c651f8d8a",
   "metadata": {
    "colab": {
     "base_uri": "https://localhost:8080/"
    },
    "id": "255b7eb9-e16a-4dee-9ec7-6e6c651f8d8a",
    "outputId": "609cb71b-861f-4aeb-9775-c777e8c59d83"
   },
   "outputs": [
    {
     "name": "stderr",
     "output_type": "stream",
     "text": [
      "[nltk_data] Downloading package punkt to\n",
      "[nltk_data]     C:\\Users\\gksha\\AppData\\Roaming\\nltk_data...\n",
      "[nltk_data]   Package punkt is already up-to-date!\n",
      "[nltk_data] Downloading package stopwords to\n",
      "[nltk_data]     C:\\Users\\gksha\\AppData\\Roaming\\nltk_data...\n",
      "[nltk_data]   Package stopwords is already up-to-date!\n",
      "[nltk_data] Downloading package wordnet to\n",
      "[nltk_data]     C:\\Users\\gksha\\AppData\\Roaming\\nltk_data...\n",
      "[nltk_data]   Package wordnet is already up-to-date!\n",
      "[nltk_data] Downloading package punkt_tab to\n",
      "[nltk_data]     C:\\Users\\gksha\\AppData\\Roaming\\nltk_data...\n",
      "[nltk_data]   Package punkt_tab is already up-to-date!\n"
     ]
    },
    {
     "data": {
      "text/plain": [
       "True"
      ]
     },
     "execution_count": 1,
     "metadata": {},
     "output_type": "execute_result"
    }
   ],
   "source": [
    "import pandas as pd\n",
    "import numpy as np\n",
    "import matplotlib.pyplot as plt\n",
    "import seaborn as sns\n",
    "import nltk\n",
    "import matplotlib.pyplot as plt\n",
    "import pandas as pd\n",
    "import tensorflow as tf\n",
    "import re\n",
    "import string\n",
    "import spacy\n",
    "\n",
    "from tqdm import tqdm_notebook\n",
    "\n",
    "from sklearn import model_selection\n",
    "from sklearn.model_selection import train_test_split\n",
    "from sklearn.metrics import accuracy_score, confusion_matrix, classification_report, auc, roc_curve, precision_recall_curve\n",
    "from sklearn.feature_extraction.text import TfidfVectorizer\n",
    "from sklearn.feature_extraction.text import CountVectorizer\n",
    "from sklearn.pipeline import Pipeline\n",
    "\n",
    "from tensorflow import keras\n",
    "from tensorflow.keras.preprocessing.text import one_hot\n",
    "from tensorflow.keras.preprocessing.text import Tokenizer\n",
    "from tensorflow.keras.preprocessing.sequence import pad_sequences\n",
    "from keras.models import Sequential\n",
    "from keras.layers import Dense, LSTM, Bidirectional, Embedding, GRU\n",
    "from keras.layers import Dropout\n",
    "from keras import activations\n",
    "from tensorflow.keras.layers import GlobalMaxPooling1D\n",
    "\n",
    "##from sklearn.naive_bayes import MultinomialNB\n",
    "##from sklearn.tree import DecisionTreeClassifier\n",
    "##from sklearn.linear_model import PassiveAggressiveClassifier\n",
    "##from sklearn.naive_bayes import BernoulliNB\n",
    "##from sklearn.naive_bayes import MultinomialNB\n",
    "##from sklearn.tree import DecisionTreeClassifier\n",
    "##from sklearn.linear_model import SGDClassifier\n",
    "##from sklearn.ensemble import RandomForestClassifier\n",
    "\n",
    "from nltk.corpus import stopwords\n",
    "from nltk.stem import PorterStemmer\n",
    "from nltk.tokenize import sent_tokenize, word_tokenize\n",
    "from nltk.stem import WordNetLemmatizer\n",
    "\n",
    "\n",
    "nltk.download('punkt')\n",
    "nltk.download('stopwords')\n",
    "nltk.download('wordnet')\n",
    "nlp = spacy.load(\"en_core_web_sm\")\n",
    "nltk.download('punkt_tab')"
   ]
  },
  {
   "cell_type": "code",
   "execution_count": null,
   "id": "056f1ecf-74cb-4614-80a4-bb922456ecff",
   "metadata": {
    "id": "056f1ecf-74cb-4614-80a4-bb922456ecff",
    "jupyter": {
     "source_hidden": true
    }
   },
   "outputs": [],
   "source": [
    "#df1_true = pd.read_csv('C:/Users/gksha/Fake_News_Detection/Dataset/Dataset 1/True.csv')\n",
    "#df1_fake = pd.read_csv('C:/Users/gksha/Fake_News_Detection/Dataset/Dataset 1/Fake.csv')\n",
    "df1_true = pd.read_csv('/content/drive/MyDrive/Fake_News_Detection/Dataset/Dataset_1/True.csv')\n",
    "df1_fake = pd.read_csv('/content/drive/MyDrive/Fake_News_Detection/Dataset/Dataset_1/Fake.csv')\n",
    "\n",
    "df1_true['label'] = 1\n",
    "df1_fake['label'] = 0\n",
    "\n",
    "df1 = pd.concat([df1_true, df1_fake])\n",
    "df1[\"Article\"] = df1[\"title\"]+df1[\"text\"]\n",
    "df1.sample(frac = 1)\n",
    "df1 = df1.loc[:,['Article','label']]"
   ]
  },
  {
   "cell_type": "code",
   "execution_count": null,
   "id": "02bb1e25-9e89-4fe5-b2a9-1c606f3c4eaf",
   "metadata": {
    "colab": {
     "base_uri": "https://localhost:8080/",
     "height": 206
    },
    "collapsed": true,
    "id": "02bb1e25-9e89-4fe5-b2a9-1c606f3c4eaf",
    "jupyter": {
     "outputs_hidden": true
    },
    "outputId": "41084401-c880-4c78-b1ff-0078e53fa06b"
   },
   "outputs": [
    {
     "data": {
      "application/vnd.google.colaboratory.intrinsic+json": {
       "summary": "{\n  \"name\": \"df1\",\n  \"rows\": 44898,\n  \"fields\": [\n    {\n      \"column\": \"Article\",\n      \"properties\": {\n        \"dtype\": \"string\",\n        \"num_unique_values\": 39105,\n        \"samples\": [\n          \" This Church Treasurer Is Going To Jail For A Crime Spree That Blows The Lie Of \\u2018Christian Morality\\u2019 Apart (VIDEO)A church treasurer from Ohio is going to jail for five years after blowing $800,000 of church funds on a decade-long drugs and sex rampage. So much for that  Christian Morality  that Evangelicals argue makes them better than people of other faiths and none.61-year-old Garry Meyer was the trusted treasurer of Tri-County Baptist Church in West Chester Township, Ohio for 14 years. What his church did not know, is that he was actually cooking the books, spending nearly a million dollars of church money on drugs, lavish holidays, expensive cars, pornography and  high end  escorts for more than a decade.While maintaining the pretense of a god-fearing, responsible, married father, Meyer lived a rock star lifestyle on the side   and his church community picked up the tab.But, sadly for Meyer, his wife uncovered the crime. Under pressure, he made a confession to the church. The only problem was, he  confessed  to stealing $400,000. Once the full investigation was complete, Meyer was exposed as a liar all over again. The full sum stolen was twice that figure.Meyer s wife sobbed in the courtroom as her husband s exploits were exposed, and he was sentenced to five years in prison. He told the court: There is no excuse for my actions, I also want to say I am sorry to my family. I have caused unimaginable hurt and suffering, Turning to his wife, Meyer said: I am sorry for betraying your trust   you have always been the best part of my life. Meyer stole nearly a million dollars from his own congregation in order to fund a lifestyle to which his church is supposed to stand opposed. Also speaking at Meyer s sentancing hearing was colleague Pastor Brian McManus, who said: Our church family has continued to pray for everyone involved in this very sad event. The truth is, our life choices always come down to personal   not religious   morality. A person bent on making the wrong decisions in life, will do so with or without the bible. This lesson is everywhere   from child-abusing priests, to chumps like Garry Meyer, and on to so-called Christian Conservative leaders who lay the sin of wrath upon anyone who fails to follow their warped Ayn Randian version of God.Featured image via video screen capture\",\n          \"SENATOR FEINSTEIN Shocks CNN Anchor With \\u201cPrecise Answer\\u201d On Trump/Russia Smear Campaign [Video]What s all the fuss about if there s no there, there? Is anyone else sickened by the left s efforts to discredit President Trump for months when they knew there was NOTHING THERE!Feinstein had visited CIA headquarters on Tuesday and was briefed on the investigation but months before this we all knew the truth It s just that Feinstein finally admitted it:  Not at this time NOT AT THIS TIME???The Democrats owe President Trump the BIGGEST apology!THE FOLLOWING COMMENT EXPRESSES HOW AMERICA FEELS ABOUT FEINSTEIN AND HER CRONIES: It s been hundreds of days since the  Russian  smear campaign conducted by MSM, democrat operative morons like Olbermann and late night  comedians , and Clintons political cronies   and yet still nothing. Nothing. Not a single thing. A few more months and then they will quietly say  case closed  and hope and pray that we all forgot. Sorry but we won t and we watch you all very differently now, we see right through you. Our patience is just about out and your time handling our power is up. FEINSTEIN EMBARRASES HERSELF DURING QUESTIONING TO NEIL GORSUCH:Senator Dianne Feinstein is no match for Supreme Court nominee Neil Gorsuch. In her questioning today she really made a fool of herself when she tossed out a question that made it clear she hadn t done her homework on Gorsuch. He answered her question by citing numerous specific cases in his legal history. It s understandable that the Democrats are trying to play to their base by dragging out the process of asking ridiculous questions of this perfect nominee for the SCOTUS. This is embarrassing and we have two more days of it! It seems this is backfiring on the Democrats RETIRE ALREADY!\",\n          \"Hillary Clinton Supporters Now Calling for a Recount of Votes in Battleground States The person who received the most votes free from interference or tampering needs to be in the White House. It may well be Donald J. Trump, but further due diligence is required to ensure that American democracy is not threatened. 21st Century Wire says Although the election was called on Nov 8th, the Democratic Party s ongoing campaign to delegitimize the new incoming President is still ongoing. For those of us with long enough memories, the Democratic Party, their media operatives and the Clinton Campaign were claiming that Trump and the GOP would be engaged in this very same behavior after Hillary Clinton won the Presidency (as expected).Notice how the shoe is now on the other foot.It s interesting reading past stories by  news  sources linked to the Clinton Campaign and John Podesta as Politico has, who ran a feature on Aug 16th entitled,  Why the GOP Will Never Accept President Hillary Clinton  which lays out the case of Hillary s lock on the White House and how the evil Republicans will not accept her eventual election victory. Will Donald Trump respect the peaceful transition of power?  howled CNN s Wolf Blitzer in the run-up to the election. The question now is: will the Democrats respect the result, and simply  Move On,  as they say?Of course, we now know that  journalists  like Wolf at CNN were getting their talking points directly the Clinton Campaign.As it turns out, the only thing illegitimate about the 2016 Election  was the mainstream corporate media. More form the Guardian  John Swane The GuardianA growing number of academics and activists are calling for US authorities to fully audit or recount the 2016 presidential election vote in key battleground states, in case the results could have been skewed by foreign hackers.The loose coalition, which is urging Hillary Clinton s campaign to join its fight, is preparing to deliver a report detailing its concerns to congressional committee chairs and federal authorities early next week, according to two people involved.The document, which is currently 18 pages long, focuses on concerns about the results in the states of Michigan, Pennsylvania and Wisconsin. I m interested in verifying the vote,  said Dr Barbara Simons, an adviser to the US election assistance commission and expert on electronic voting.  We need to have post-election ballot audits.  Simons is understood to have contributed analysis to the effort but declined to characterise the precise nature of her involvement.A second group of analysts, led by the National Voting Rights Institute founder John Bonifaz and Professor Alex Halderman, the director of the University of Michigan s center for computer security and society, is also taking part in the push for a review, and has been in contact with Simons.In a blogpost early on Wednesday, Halderman said paper ballots and voting equipment should be examined in Wisconsin, Michigan, and Pennsylvania, warning that deadlines were rapidly approaching. Unfortunately, nobody is ever going to examine that evidence unless candidates in those states act now, in the next several days, to petition for recounts,  he said.The developments follow Clinton s surprise defeat to Donald Trump in the 8 November vote, and come after US intelligence authorities released public assessments that Russian hackers were behind intrusions into regional electoral computer systems and the theft of emails from Democratic officials before the election Continue this article at The GuardianREAD MORE ELECTION NEWS AT: 21st Century Wire 2016 Files \"\n        ],\n        \"semantic_type\": \"\",\n        \"description\": \"\"\n      }\n    },\n    {\n      \"column\": \"label\",\n      \"properties\": {\n        \"dtype\": \"number\",\n        \"std\": 0,\n        \"min\": 0,\n        \"max\": 1,\n        \"num_unique_values\": 2,\n        \"samples\": [\n          0,\n          1\n        ],\n        \"semantic_type\": \"\",\n        \"description\": \"\"\n      }\n    }\n  ]\n}",
       "type": "dataframe",
       "variable_name": "df1"
      },
      "text/html": [
       "\n",
       "  <div id=\"df-7b85550e-bae2-411c-b86c-153fcc2d5da9\" class=\"colab-df-container\">\n",
       "    <div>\n",
       "<style scoped>\n",
       "    .dataframe tbody tr th:only-of-type {\n",
       "        vertical-align: middle;\n",
       "    }\n",
       "\n",
       "    .dataframe tbody tr th {\n",
       "        vertical-align: top;\n",
       "    }\n",
       "\n",
       "    .dataframe thead th {\n",
       "        text-align: right;\n",
       "    }\n",
       "</style>\n",
       "<table border=\"1\" class=\"dataframe\">\n",
       "  <thead>\n",
       "    <tr style=\"text-align: right;\">\n",
       "      <th></th>\n",
       "      <th>Article</th>\n",
       "      <th>label</th>\n",
       "    </tr>\n",
       "  </thead>\n",
       "  <tbody>\n",
       "    <tr>\n",
       "      <th>0</th>\n",
       "      <td>As U.S. budget fight looms, Republicans flip t...</td>\n",
       "      <td>1</td>\n",
       "    </tr>\n",
       "    <tr>\n",
       "      <th>1</th>\n",
       "      <td>U.S. military to accept transgender recruits o...</td>\n",
       "      <td>1</td>\n",
       "    </tr>\n",
       "    <tr>\n",
       "      <th>2</th>\n",
       "      <td>Senior U.S. Republican senator: 'Let Mr. Muell...</td>\n",
       "      <td>1</td>\n",
       "    </tr>\n",
       "    <tr>\n",
       "      <th>3</th>\n",
       "      <td>FBI Russia probe helped by Australian diplomat...</td>\n",
       "      <td>1</td>\n",
       "    </tr>\n",
       "    <tr>\n",
       "      <th>4</th>\n",
       "      <td>Trump wants Postal Service to charge 'much mor...</td>\n",
       "      <td>1</td>\n",
       "    </tr>\n",
       "  </tbody>\n",
       "</table>\n",
       "</div>\n",
       "    <div class=\"colab-df-buttons\">\n",
       "\n",
       "  <div class=\"colab-df-container\">\n",
       "    <button class=\"colab-df-convert\" onclick=\"convertToInteractive('df-7b85550e-bae2-411c-b86c-153fcc2d5da9')\"\n",
       "            title=\"Convert this dataframe to an interactive table.\"\n",
       "            style=\"display:none;\">\n",
       "\n",
       "  <svg xmlns=\"http://www.w3.org/2000/svg\" height=\"24px\" viewBox=\"0 -960 960 960\">\n",
       "    <path d=\"M120-120v-720h720v720H120Zm60-500h600v-160H180v160Zm220 220h160v-160H400v160Zm0 220h160v-160H400v160ZM180-400h160v-160H180v160Zm440 0h160v-160H620v160ZM180-180h160v-160H180v160Zm440 0h160v-160H620v160Z\"/>\n",
       "  </svg>\n",
       "    </button>\n",
       "\n",
       "  <style>\n",
       "    .colab-df-container {\n",
       "      display:flex;\n",
       "      gap: 12px;\n",
       "    }\n",
       "\n",
       "    .colab-df-convert {\n",
       "      background-color: #E8F0FE;\n",
       "      border: none;\n",
       "      border-radius: 50%;\n",
       "      cursor: pointer;\n",
       "      display: none;\n",
       "      fill: #1967D2;\n",
       "      height: 32px;\n",
       "      padding: 0 0 0 0;\n",
       "      width: 32px;\n",
       "    }\n",
       "\n",
       "    .colab-df-convert:hover {\n",
       "      background-color: #E2EBFA;\n",
       "      box-shadow: 0px 1px 2px rgba(60, 64, 67, 0.3), 0px 1px 3px 1px rgba(60, 64, 67, 0.15);\n",
       "      fill: #174EA6;\n",
       "    }\n",
       "\n",
       "    .colab-df-buttons div {\n",
       "      margin-bottom: 4px;\n",
       "    }\n",
       "\n",
       "    [theme=dark] .colab-df-convert {\n",
       "      background-color: #3B4455;\n",
       "      fill: #D2E3FC;\n",
       "    }\n",
       "\n",
       "    [theme=dark] .colab-df-convert:hover {\n",
       "      background-color: #434B5C;\n",
       "      box-shadow: 0px 1px 3px 1px rgba(0, 0, 0, 0.15);\n",
       "      filter: drop-shadow(0px 1px 2px rgba(0, 0, 0, 0.3));\n",
       "      fill: #FFFFFF;\n",
       "    }\n",
       "  </style>\n",
       "\n",
       "    <script>\n",
       "      const buttonEl =\n",
       "        document.querySelector('#df-7b85550e-bae2-411c-b86c-153fcc2d5da9 button.colab-df-convert');\n",
       "      buttonEl.style.display =\n",
       "        google.colab.kernel.accessAllowed ? 'block' : 'none';\n",
       "\n",
       "      async function convertToInteractive(key) {\n",
       "        const element = document.querySelector('#df-7b85550e-bae2-411c-b86c-153fcc2d5da9');\n",
       "        const dataTable =\n",
       "          await google.colab.kernel.invokeFunction('convertToInteractive',\n",
       "                                                    [key], {});\n",
       "        if (!dataTable) return;\n",
       "\n",
       "        const docLinkHtml = 'Like what you see? Visit the ' +\n",
       "          '<a target=\"_blank\" href=https://colab.research.google.com/notebooks/data_table.ipynb>data table notebook</a>'\n",
       "          + ' to learn more about interactive tables.';\n",
       "        element.innerHTML = '';\n",
       "        dataTable['output_type'] = 'display_data';\n",
       "        await google.colab.output.renderOutput(dataTable, element);\n",
       "        const docLink = document.createElement('div');\n",
       "        docLink.innerHTML = docLinkHtml;\n",
       "        element.appendChild(docLink);\n",
       "      }\n",
       "    </script>\n",
       "  </div>\n",
       "\n",
       "\n",
       "<div id=\"df-afe17d41-9ade-4a5a-9363-7407f6040d30\">\n",
       "  <button class=\"colab-df-quickchart\" onclick=\"quickchart('df-afe17d41-9ade-4a5a-9363-7407f6040d30')\"\n",
       "            title=\"Suggest charts\"\n",
       "            style=\"display:none;\">\n",
       "\n",
       "<svg xmlns=\"http://www.w3.org/2000/svg\" height=\"24px\"viewBox=\"0 0 24 24\"\n",
       "     width=\"24px\">\n",
       "    <g>\n",
       "        <path d=\"M19 3H5c-1.1 0-2 .9-2 2v14c0 1.1.9 2 2 2h14c1.1 0 2-.9 2-2V5c0-1.1-.9-2-2-2zM9 17H7v-7h2v7zm4 0h-2V7h2v10zm4 0h-2v-4h2v4z\"/>\n",
       "    </g>\n",
       "</svg>\n",
       "  </button>\n",
       "\n",
       "<style>\n",
       "  .colab-df-quickchart {\n",
       "      --bg-color: #E8F0FE;\n",
       "      --fill-color: #1967D2;\n",
       "      --hover-bg-color: #E2EBFA;\n",
       "      --hover-fill-color: #174EA6;\n",
       "      --disabled-fill-color: #AAA;\n",
       "      --disabled-bg-color: #DDD;\n",
       "  }\n",
       "\n",
       "  [theme=dark] .colab-df-quickchart {\n",
       "      --bg-color: #3B4455;\n",
       "      --fill-color: #D2E3FC;\n",
       "      --hover-bg-color: #434B5C;\n",
       "      --hover-fill-color: #FFFFFF;\n",
       "      --disabled-bg-color: #3B4455;\n",
       "      --disabled-fill-color: #666;\n",
       "  }\n",
       "\n",
       "  .colab-df-quickchart {\n",
       "    background-color: var(--bg-color);\n",
       "    border: none;\n",
       "    border-radius: 50%;\n",
       "    cursor: pointer;\n",
       "    display: none;\n",
       "    fill: var(--fill-color);\n",
       "    height: 32px;\n",
       "    padding: 0;\n",
       "    width: 32px;\n",
       "  }\n",
       "\n",
       "  .colab-df-quickchart:hover {\n",
       "    background-color: var(--hover-bg-color);\n",
       "    box-shadow: 0 1px 2px rgba(60, 64, 67, 0.3), 0 1px 3px 1px rgba(60, 64, 67, 0.15);\n",
       "    fill: var(--button-hover-fill-color);\n",
       "  }\n",
       "\n",
       "  .colab-df-quickchart-complete:disabled,\n",
       "  .colab-df-quickchart-complete:disabled:hover {\n",
       "    background-color: var(--disabled-bg-color);\n",
       "    fill: var(--disabled-fill-color);\n",
       "    box-shadow: none;\n",
       "  }\n",
       "\n",
       "  .colab-df-spinner {\n",
       "    border: 2px solid var(--fill-color);\n",
       "    border-color: transparent;\n",
       "    border-bottom-color: var(--fill-color);\n",
       "    animation:\n",
       "      spin 1s steps(1) infinite;\n",
       "  }\n",
       "\n",
       "  @keyframes spin {\n",
       "    0% {\n",
       "      border-color: transparent;\n",
       "      border-bottom-color: var(--fill-color);\n",
       "      border-left-color: var(--fill-color);\n",
       "    }\n",
       "    20% {\n",
       "      border-color: transparent;\n",
       "      border-left-color: var(--fill-color);\n",
       "      border-top-color: var(--fill-color);\n",
       "    }\n",
       "    30% {\n",
       "      border-color: transparent;\n",
       "      border-left-color: var(--fill-color);\n",
       "      border-top-color: var(--fill-color);\n",
       "      border-right-color: var(--fill-color);\n",
       "    }\n",
       "    40% {\n",
       "      border-color: transparent;\n",
       "      border-right-color: var(--fill-color);\n",
       "      border-top-color: var(--fill-color);\n",
       "    }\n",
       "    60% {\n",
       "      border-color: transparent;\n",
       "      border-right-color: var(--fill-color);\n",
       "    }\n",
       "    80% {\n",
       "      border-color: transparent;\n",
       "      border-right-color: var(--fill-color);\n",
       "      border-bottom-color: var(--fill-color);\n",
       "    }\n",
       "    90% {\n",
       "      border-color: transparent;\n",
       "      border-bottom-color: var(--fill-color);\n",
       "    }\n",
       "  }\n",
       "</style>\n",
       "\n",
       "  <script>\n",
       "    async function quickchart(key) {\n",
       "      const quickchartButtonEl =\n",
       "        document.querySelector('#' + key + ' button');\n",
       "      quickchartButtonEl.disabled = true;  // To prevent multiple clicks.\n",
       "      quickchartButtonEl.classList.add('colab-df-spinner');\n",
       "      try {\n",
       "        const charts = await google.colab.kernel.invokeFunction(\n",
       "            'suggestCharts', [key], {});\n",
       "      } catch (error) {\n",
       "        console.error('Error during call to suggestCharts:', error);\n",
       "      }\n",
       "      quickchartButtonEl.classList.remove('colab-df-spinner');\n",
       "      quickchartButtonEl.classList.add('colab-df-quickchart-complete');\n",
       "    }\n",
       "    (() => {\n",
       "      let quickchartButtonEl =\n",
       "        document.querySelector('#df-afe17d41-9ade-4a5a-9363-7407f6040d30 button');\n",
       "      quickchartButtonEl.style.display =\n",
       "        google.colab.kernel.accessAllowed ? 'block' : 'none';\n",
       "    })();\n",
       "  </script>\n",
       "</div>\n",
       "\n",
       "    </div>\n",
       "  </div>\n"
      ],
      "text/plain": [
       "                                             Article  label\n",
       "0  As U.S. budget fight looms, Republicans flip t...      1\n",
       "1  U.S. military to accept transgender recruits o...      1\n",
       "2  Senior U.S. Republican senator: 'Let Mr. Muell...      1\n",
       "3  FBI Russia probe helped by Australian diplomat...      1\n",
       "4  Trump wants Postal Service to charge 'much mor...      1"
      ]
     },
     "execution_count": 7,
     "metadata": {},
     "output_type": "execute_result"
    }
   ],
   "source": [
    "#df1.head()"
   ]
  },
  {
   "cell_type": "code",
   "execution_count": null,
   "id": "f2951f6c-e843-4fcd-bb42-bf84394580a8",
   "metadata": {
    "id": "f2951f6c-e843-4fcd-bb42-bf84394580a8"
   },
   "outputs": [],
   "source": [
    "#df3 = pd.read_csv('/content/drive/MyDrive/Fake_News_Detection/Dataset/Dataset_3/data.csv')"
   ]
  },
  {
   "cell_type": "code",
   "execution_count": null,
   "id": "edf161ff-6b0f-4954-b6a7-8c614aea07f9",
   "metadata": {
    "id": "edf161ff-6b0f-4954-b6a7-8c614aea07f9"
   },
   "outputs": [],
   "source": [
    "#df3[\"Article\"] = df3[\"Headline\"] + df3[\"Body\"]\n",
    "#df3[\"label\"] = df3[\"Label\"]\n",
    "#df3.sample(frac = 1)\n",
    "#df3 = df3.loc[:,['Article','label']]"
   ]
  },
  {
   "cell_type": "code",
   "execution_count": null,
   "id": "b5ad9889-be49-48eb-9170-482eba6b369e",
   "metadata": {
    "colab": {
     "base_uri": "https://localhost:8080/",
     "height": 206
    },
    "collapsed": true,
    "id": "b5ad9889-be49-48eb-9170-482eba6b369e",
    "jupyter": {
     "outputs_hidden": true
    },
    "outputId": "5e63e288-1c3d-4571-efa0-2e05006bf2de"
   },
   "outputs": [
    {
     "data": {
      "application/vnd.google.colaboratory.intrinsic+json": {
       "summary": "{\n  \"name\": \"df3\",\n  \"rows\": 4009,\n  \"fields\": [\n    {\n      \"column\": \"Article\",\n      \"properties\": {\n        \"dtype\": \"string\",\n        \"num_unique_values\": 3522,\n        \"samples\": [\n          \"9/29 Through the 40s: HBD Cannonball & Paul, Camnitz Clan, Game StoriesNo Getting Around it, The War Is Coming! Trump on Attacking North Korea: \\\"Sorry But Only One Thing Will Work\\\" (Video)\",\n          \"Syrian War - How America Shot Itself in the FootBy Chris Kanthan\\nTotal fiasco. That\\u2019s a quick way to characterize the US adventure in Syria in the last six years. The proxy war not only failed to accomplish its goal \\u2013 removal of Assad \\u2013 it tremendously weakened the US in the Middle East, strengthened its adversaries, and soured its relations with many allies. If it were a movie, America\\u2019s recent Mideast policy would be called, How to Lose a Region in 6 Years; and if it were a book, it would be titled, How to Win Enemies and Lose Influence. To make things worse, globalists have refused to acknowledge their mistakes and are now doubling down on their failed policies.\\nLet\\u2019s start with the claims of all the great pundits, military experts and politicians who have been consistently wrong since 2011.\\nAssad must go; Assad will be gone soon\\nSyrians will rise up against Assad\\nSoldiers from the Syrian Army will desert in masses and overthrow Assad\\nOk, Syrians couldn\\u2019t do it, but surely Al Qaeda will bring down Assad\\nAl Qaeda couldn\\u2019t do it, but ISIS will definitely finish the job\\nThe (good) terrorists will win if they just got more guns and anti-tank missiles\\nLet\\u2019s spend a few more billions of dollars on training and arming the rebels. Victory is near!\\nRussia will never intervene!\\nRussia will lose Crimea and access to the Black Sea!\\nRussia\\u2019s economy is about to collapse because of our sanctions and low oil prices (which we might have rigged)!\\nSyria will become Russia\\u2019s Afghanistan!\\nHumiliating Defeat in Syria\\nEvery one of their predictions and tactics failed. How about their eventual goals behind the Syrian war? Break up Syria into ethnic regions \\u2013 including an extremist Sunni region controlled by Saudi Arabia, build a Qatar oil/gas pipeline thru Syria to Europe, let Israel drill oil in Golan Heights, and kick Russia\\u2019s naval base out of Syria. All those geopolitical goals were blown to smithereens.\\nNot only did they fail in everything, they made things worse. Syria used to be quite pro-West. Before the war, Assad would visit France and the UK, and U.S. leaders such as Nancy Pelosi and Jimmy Carter have visited Syria. But, from now on, Syria will treat the U.S. as public enemy #1 for the foreseeable future.\\nRussia had only mild influence in Syria before. However, now, Russia\\u2019s missile defense systems and military/naval bases have been firmly established in Syria. Basically, the war gave Russians what they could only dream of before.\\nIran & Hezbollah\\nSimilarly, their strategy to contain Iran worked precisely the other way. In their paranoia, Saudi Arabia and Israel thought they could preemptively stop the so-called Shiite Crescent \\u2013 contiguous areas of Iran, Iraq, Syria and Lebanon. Instead, Iran\\u2019s para-military forces and Hezbollah\\u2019s fierce fighters saved Syria from ISIS and Al Qaeda. Thus, Iran and Hezbollah are now adored as heroes in Syria.\\nRegarding Iran, the US policy has also been schizophrenic. Obama\\u2019s lifting of sanctions and the nuclear deal have been followed by intense animosity and saber rattling. Even though Iran has been sticking to its promises, Neocons and the pro-Israeli crowd in Washington are still itching for a war with Iran.\\nIraq\\nIf you thought, \\u201cOkay, at least they didn\\u2019t screw up Iraq,\\u201d you\\u2019d be too optimistic. After the Al Qaeda-ISIS plan failed, Israel is now supporting the formation of Kurdistan \\u2013 essentially the breakup of Iraq. In fact, the Kurds\\u2019 eventual goal is to form a large Kurdistan that would encompass lands from Iran, Iraq, Turkey and Syria. Thus, thanks to Israel, Iraq is aligning itself with Iran and Turkey, and moving away from the US. Iraqi leaders are also flying to Moscow and forging deals with Putin.\\nTurkey\\nOne of the most important Islamic countries in that region is Turkey. It\\u2019s also a NATO member that hosts a strategic NATO military base. For five years it colluded with America and other allies in the proxy war against Syria. Then, in 2016, the CIA pulled a fast one and attempted a military coup to overthrow Erdogan. Embarrassingly, the coup failed. Hence it\\u2019s no surprise that Erdogan flipped 180 degrees and has been warming up to Russia.\\nErdogan has quickly signed many deals with Putin, including Russian pipelines through Black Sea, a Russian nuclear power plant in Turkey, and Russia\\u2019s famous S-400 missile defense systems. (Unlike the American systems, the S-400 will shoot down US missiles and planes). Erdogan has visited Tehran (Iran\\u2019s capital) and received Putin in Turkey in the last year, and has made it quite clear that he\\u2019s not firmly in the US sphere of influence anymore.\\nTo make things worse, the Turkey-US relations are deteriorating every day. Just this week, Turkey arrested an employee at the US consulate in Istanbul, after accusing him of being a spy who participated in the coup last year. This has led to both countries suspending visa services in their consulates.\\nTurkey is also working out military and economic deals with Iran. Those two have even agreed to forego the US dollar and conduct their trades in local currencies.\\nAs I explain in my book, Syria \\u2013 War of Deception, the US needs Turkey for numerous geopolitical reasons, including gaining influence in Central Asia to slow down China\\u2019s rising power.\\nQatar and Saudi Arabia\\nNot content with this chaos, globalists have also managed to engineer a conflict between Saudi Arabia and Qatar, both hosts of large US military bases. Having your friends fight against each other weakens your alliance \\u2013 this is Geopolitics 101. Right after Trump\\u2019s visit to Saudi Arabia, the Saudis initiated a land/air blockade of Qatar. Guess who\\u2019s been providing food and other essentials to Qatar for the last few months? Iran and Turkey.\\nQatar has also been bonding with Russia and China. It bought 16% of Russia\\u2019s oil giant (Rosneft) and then sold it to China. Qatar is also conducting a lot of business with China in Yuan, foregoing the almighty US dollar. Thus you can add Qatar to another US ally who has learned to share their loyalty with the enemies of the US.\\nIf all of that sound bad, Saudi Arabia\\u2019s King made a historic visit to Russia in October and signed several deals with Putin to stabilize oil price and purchase Russia\\u2019s missile defense system. This is amazing for many reasons. Saudi Arabia and Russia have been bitter enemies for decades. The Saudis funded the Mujahideen in Afghanistan that defeated the USSR; then they funded Islamic terrorists in Chechnya that caused enormous problems and humiliation for Russia in the 1990s; and the Saudis funded Al Qaeda and ISIS in Syria. Saudi Arabia is also an American vassal state that plays a key role in the maintenance of petrodollar. If Saudi Arabia decides to sell oil in other currencies or gold, the US dollar would be decimated. Given all that and Russia\\u2019s alliance with Iran (Saudi\\u2019s nemesis), one can see how monumental the new Saudi-Russia partnership is.\\nConclusion\\nThe US foreign policy worked well in the era of Cold War when alliances were binary and US allies had nowhere to go. However, the Syrian war revealed that the US is not the only sheriff in town \\u2013 Russia and China are playing lead roles in global geopolitics. The US needs to learn the art of diplomacy. Instead of spending a lot of time constantly demonizing and threatening other countries, the US foreign policy must focus on quietly working out deals behind the scenes. Finally, the US must accept a multipolar world where other nations are treated as partners and not as vassal states.\\nChris Kanthan is the author of a new book, Syria \\u2013 War of Deception. It\\u2019s available in a condensed as well as a longer version. Chris lives in the San Francisco Bay Area, has traveled to 35 countries, and writes about world affairs, politics, economy and health. His other book is Deconstructing Monsanto.\",\n          \"\\u2018In Spite of It All, America\\u2019Since Germany\\u2019s as well as Europe\\u2019s security and affluence rest upon the current international order even as President Trump charts a different course for the United States, an increased responsibility falls to the European Union and its member state Germany to safeguard and strengthen the international order.\\n2. A president sui generis\\nIt is impossible to ignore that President Trump was able to attract the support of 60 million voters. It is also true that unilateral foreign policy, protectionist moods, and periodic calls for \\u201cAmerica first\\u201d policies have a long tradition in the United States. Still, Donald Trump is a president sui generis whose ideas about international order do not fit within the modern American politician tradition. These ideas are supported by few in the United States. His disdain for international alliances and institutions is not even shared by many in the government he leads, much less by those outside of government. Donald Trump\\u2019s positions on global order are outside the mainstream of the foreign policy expert community in the United States. It is unclear, maybe even unlikely, that his strategy of undermining the international order will ever succeed in the United States and become his country\\u2019s policy.\\n3. Dangerous consequences\\nSome analysts and political actors in Germany would like to draw far-reaching conclusions from this period of uncertainty about the direction of the United States. They endorse a strategic reorientation for Germany. Some strive to decouple Europe\\u2019s foreign and security policy from the United States. Others place their faith in a German-French mini version of Europe. Sometimes, European aspirations only disguise German nationalism as a response to American nationalism. Some recommend that Germany should focus on ad hoc coalitions or maintain equidistance between Russia and the United States. Some even recommend that Germany should go further, and align itself with Russia or China in the future.\\nAll of these propositions are costly or dangerous \\u2014 or both.\\n4. The United States remains indispensable\\nTurning away from the United States would bring insecurity to Germany and ultimately to Europe.\\nThe bond with the United States was born from dependence, but it has long been in Germany\\u2019s core national interest. Today, no other actor in the world can offer the same advantages to Germany that it gains from its alliance with the United States. No other power takes on such far-reaching security guarantees and offers such comprehensive political resources.\\nAs a liberal hegemon, the United States made European integration possible. The majority of the political establishment in the United States continues to see the country as a supporter of European integration \\u2014 also because it suits its own interest. The country needs allies that share its values and interests.\\nIf Germany wants to be an effective actor in Europe, it needs the United States. If the ties to the United States are cut, with them go the reassurance that other European countries need in order to accept a strong Germany in the center of the continent. The more leadership that Germany can and should take on, the closer the coordination must be with the United States.\\nAdvertisement Continue reading the main story\\nDecoupling from the United States would fundamentally question one of the most important political and cultural achievements of the past 70 years: Germany\\u2019s integration in the West.\\nIn aligning itself with the West, Germany also committed itself to the values of freedom and democracy, and to cooperation with all those who stand for these values. Freedom is the precondition for human beings to lead a self-determined and dignified live. Germany has committed itself to this set of ideas in its constitution, the Basic Law. Its anchoring in the West gave Germany the steadfastness to resist the Communist regimes and make possible German and European reunification. A departure from this trans-Atlantic orientation will renew the threat of a special path (Sonderweg) of Germany, it will strengthen nationalists on the left and the right, and it will endanger the peaceful European order.\\nThe West, even today, does not exist without the United States, neither as a concept, nor as a political subject. America is the anchor of liberal universalism and the open world order. Even if Donald Trump\\u2019s presidency carries significant risks for the liberal order, these perils will not diminish if Germany puts its strategic partnership with the United States at stake. A strategic decoupling from the United States would ultimately endanger the liberal international order more than prudent cooperation with a United States whose leadership currently rattles this order. Autocracies such as China and Russia can be important ad hoc partners for single projects; the United States, however, must remain the strategic partner for a democratic and European Germany.\\nThe relationship with the United States is a values-based partnership built on our democratic political systems. Even if the current United States president challenges significant elements of the political system, the United States remains a democracy. President Trump is not America, nor is the illiberal movement for which he stands a solely American phenomenon. In Europe, too, it has made its mark. What we see today is not a divergence between Europe and the United States; it is a conflict within the West unfolding on both sides of the Atlantic.\\nFinally, the economic, scientific and cultural linkages with the United States are far stronger than with any other region in the world. The interplay with the United States remains a central element of Europe\\u2019s capacity for innovation.\\n5. Yet, no business as usual\\nSo, how do we engage with the United States in times of Donald Trump?\\nEven if turning away from the United States is not a responsible option for Germany, business as usual is not an option with the current presidency either. It would be equally unhelpful to stay silent and look the other way, waiting until this presidency is finally over and a successor occupies the White House. Four or even eight years is too long to sit it out, especially since there will not be a return to the supposed good old times.\\n6. Ideas for a new U.S. Strategy\\nGerman policy now requires something that it did not need before: a United States strategy.\\nA responsible policy toward the United States must be long-term and build a bridge into the post-Trump age. This policy must look beyond an exceptional period of American skepticism toward any multilateral commitment. However, Germany must not fall prey to the illusion that there will be a return to the status quo ante following the Trump presidency. Several political trends in the United States will outlive Trump\\u2019s time in office \\u2014 for example, the demand for more balanced burden-sharing between Europe and the United States within NATO. However, the end of the Trump presidency should be the end of the inner Western conflict about the fundamentals of the world order. Once this fundamental consensus is re-established, policy disagreements can be resolved or bridged more easily and more constructively.\\nAdvertisement Continue reading the main story\\nThis long-term goal must be the point of reference for Germany\\u2019s short-term engagement with the Trump administration.\\nIn the short term, Germany must learn to distinguish between the problems that are solvable, those that are unsolvable and those in between that require pragmatic management.\\nIt goes without saying that the German government should double down on those policy areas where it finds common ground with the current United States administration. But successful relationship management in times of Donald Trump may also require adjusting an increasingly untenable position or \\u2014 vice versa \\u2014 to enter into a limited conflict. Finally, we will need to look for partners not only at the highest federal levels, but elsewhere in the administration, in the United States Congress, in the states, in civil society and in business.\\nNewsletter Sign Up Continue reading the main story Get the Morning Briefing by Email What you need to know to start your day, delivered to your inbox Monday through Friday. Please verify you're not a robot by clicking the box. Invalid email address. Please re-enter. You must select a newsletter to subscribe to. Sign Up You agree to receive occasional updates and special offers for The New York Times's products and services. Thank you for subscribing. An error has occurred. Please try again later. View all New York Times newsletters.\\nIt will be more important than ever to manage differences responsibly. In its own long-term interest, Germany should attempt to handle these differences with the Trump administration in such a way that does not escalate them or allow them to spiral out of control.\\nGermany should not succumb to illusions: Large-scale joint projects with the Trump administration will have little chance for success in policy areas that are central to President Trump\\u2019s populist agenda. Trying to do too much in these key policy areas will only cause new disagreements.\\nIn short, Germany\\u2019s United States strategy must allow for multitasking: to actively pursue key national interests in collaboration with the United States, to moderate conflicts, to avoid unrealistic ambitions and to thus build a bridge to a better future for trans-Atlantic relations.\\nThis nuanced approach will have different consequences for the different policy areas.\\n7. Trade policy \\u2014 aim only for conflict management\\nSoberingly, the signs are not favorable for larger projects in several policy areas that would actually be vital, such as trade policy. Despite all controversies, the strategic and economic reasons for a trans-Atlantic free trade agreement (TTIP) have not disappeared since November 2016. Some in Berlin and Brussels hope that one can resurrect TTIP in an adapted version. This idea is illusory, maybe even dangerous. A president who castigates all free-trade agreements as unfair toward the United States will not easily compromise in international negotiations. A negotiating failure will be more devastating to the project than a long hibernation.\\nAdvertisement Continue reading the main story\\nThere are signs already that the United States and the European Union might be headed toward trade disputes. The European Union must react to punitive tariffs. But it should do so exclusively in a legal, proportional and symmetrical manner. Everything else could trigger an unwanted escalation.\\n8. International refugee policy \\u2014 no chance for a joint vision\\nJoint initiatives regarding international refugee policy do not look very promising either. The global system of protection, however, urgently needs to be reformed to cope with modern conditions. The rights of refugees need to be protected, while illegal migration needs to be curtailed and organized trafficking should be combated so that the universal refugee system is not undermined. Equally important will be a push toward new and improved United Nations\\u2019 resettlement programs. However, it appears difficult to imagine that the Trump administration will agree to such initiatives. Consequently, Europe must become active itself here \\u2014 as best as it can.\\nTherefore, trade and refugee policies fall in the category of currently difficult, hardly resolvable issues. The best we can expect is limited progress, but no large-scale initiatives.\\n9. Security policy \\u2014 strive for progress, also with President Trump\\nSecurity policy is a different matter. Without the United States there will be no security for and in Germany for the foreseeable future. This applies to territorial as well as alliance defense within NATO, but also to nuclear deterrence, to combating cybercrimes and money laundering, and finally to counterterrorism and the cooperation of intelligence agencies. No single European country, nor Germany, nor any other country nor the European Union can provide the necessary resources to guarantee the continent\\u2019s security. Therefore, the existing cooperation must be strengthened. Remaining committed to NATO also provides a way to integrate the United States into the structures of multilateral security policy and may dissuade Washington from going it alone.\\nAlliance defense is the most cost-effective form of defense. Germany should thus take seriously the call for fairer burden-sharing within the alliance. Acting against its own core interest, Germany has not done enough in this respect. Germany still has a long way to go until its NATO goals and commitments are met. To be clear: Germany agreed to increase its defense expenditures toward 2 percent of its gross domestic product. Germany should keep its word. To present this commitment as a threat to the military balance in European is to get it backward. It is precisely our European neighbors and partners that are asking for more German commitment within the NATO framework and within European defense policy.\\nIt would be even better if Germany were to invest an extra percentage point of G.D.P. into development assistance, international police operations, United Nations missions, conflict prevention and diplomacy. With this linkage, nonmilitary aspects of security would also be upgraded. This would substantially strengthen European defense capabilities within the trans-Atlantic alliance. Germany would do something that is in its own interest and would stabilize the trans-Atlantic alliance at the same time. It would address concerns of the Trump administration and build good will for the time after Donald Trump. The chances of success for this strategy are high: Despite all of the skeptical rhetoric about NATO, the Trump administration has fulfilled America\\u2019s NATO commitments so far.\\nSecurity policy cooperation with the Trump government should be central to Germany and should also include security guarantees for the central and eastern European NATO members, support for an independent Ukraine, as well as the stabilization of the North African coast.\\nIn the conflict over North Korea\\u2019s nuclear weapons program and the uncertainties around future Iran policy, a trans-Atlantic schism should be avoided. We should do whatever possible to convince the Trump administration of joint approaches.\\nAdvertisement Continue reading the main story\\n10. Energy security policy \\u2014 giving up Nord Stream 2 is in Germany\\u2019s interest\\nThere is one more policy area in which the German government should reconsider its position to open the door for productive cooperation: energy security policy. The United States has identified Nord Stream 2, the planned pipeline running through the Baltic Sea to Russia, as a geostrategic project. They are correct. More important: This pipeline project is not in the joint European interest. Nord Stream 2 contradicts a policy of greater energy independence and undermines the envisaged European Energy Union. We should try to identify a joint approach with our European partners and the United States.\\n11. Climate, energy and digital policy \\u2014 manage conflicts responsibly\\nAfter addressing the solvable issues and set aside the unsolvable issues for now, one will need to turn to those policy areas that require responsible conflict management. It would be useless to try to convince the United States administration of the importance of the Paris climate agreement, but it is equally wrongheaded to isolate President Trump on international climate and energy policy. Necessary criticism should not turn into dogmatism.\\nInstead, Germany should seek concrete steps forward in climate protection together with the United States. Germany does not need President Trump in order to engage with partners who are interested in climate policy cooperation. A number of states (not just California) and large cities are already rapidly reducing their CO 2 emissions. Political, scientific and technical cooperation with local partners is possible. There is no shortage of potent allies on climate policy in the United States, in the private sector as well as in civil society. Here, the key is to be proactive, to invest money and to build networks that will endure and outlast the Trump administration.\\nDigital policy is another policy area where confrontation is possible \\u2014 about regulatory questions as well as about market shares. It is important to identify points of contention as soon as possible and to avoid unnecessary escalation. Sealing off Europe\\u2019s and the United States\\u2019 digital markets from each other will seriously damage the outlook for jobs and growth on both sides of the Atlantic. European consumer and data protection standards might be able to be maintained globally if they have United States support, but certainly not without it.\\n12. Final point \\u2014 more Europe within the Alliance\\nMaking progress with the Trump administration wherever possible, moderating conflicts and avoiding escalation, expanding the spectrum of trans-Atlantic partners beyond the current United States administration \\u2014 these are all core aims of a United States strategy that can preserve the trans-Atlantic partnership with and if necessary against this American president, and function beyond his time in office. The United States has proved its capacity for self-correction repeatedly. America remains the indispensable power for those countries that stand for freedom and democracy and strive for an open world order. But Europe \\u2014 and thus Germany \\u2014 must do more to support and preserve these values. More European self-reliance is imperative. It would be an error of historical proportions to play out \\u201cmore Europe\\u201d against the trans-Atlantic alliance. The new German government\\u2019s foreign policy will be measured by how clearly it pursues this course.\\nAuthors:\\n\\u2022 Deidre Berger, Ramer Institute, American Jewish Committee, Berlin\\n\\u2022 James D. Bindenagel, Center for International Security and Governance, University of Bonn\\n\\u2022 Ralf F\\u00fccks, Centre for Liberal Modernity, Berlin\\n\\u2022 Patrick Keller, Konrad Adenauer Stiftung, Berlin\\n\\u2022 Thomas Kleine-Brockhoff, The German Marshall Fund of the United States, Berlin\\n\\u2022 Anna Kuchenbecker, Aspen Institute Deutschland, Berlin\\nAdvertisement Continue reading the main story\\n\\u2022 Sergey Lagodinsky, Heinrich B\\u00f6ll Stiftung, Berlin\\n\\u2022 R\\u00fcdiger Lentz, Aspen Institute Deutschland, Berlin\\n\\u2022 Daniela Schwarzer, German Council on Foreign Relations, Berlin\\n\\u2022 Jan Techau, Richard C. Holbrooke Forum, American Academy, Berlin\\n\\u2022 Sylke Tempel, German Council on Foreign Relations, \\u201cInternationale Politik\\u201d Magazine, Berlin\\nThe text solely reflects the personal opinions of the authors.\"\n        ],\n        \"semantic_type\": \"\",\n        \"description\": \"\"\n      }\n    },\n    {\n      \"column\": \"label\",\n      \"properties\": {\n        \"dtype\": \"number\",\n        \"std\": 0,\n        \"min\": 0,\n        \"max\": 1,\n        \"num_unique_values\": 2,\n        \"samples\": [\n          0,\n          1\n        ],\n        \"semantic_type\": \"\",\n        \"description\": \"\"\n      }\n    }\n  ]\n}",
       "type": "dataframe",
       "variable_name": "df3"
      },
      "text/html": [
       "\n",
       "  <div id=\"df-86c0292b-a752-4a76-9479-b6f77050c7c9\" class=\"colab-df-container\">\n",
       "    <div>\n",
       "<style scoped>\n",
       "    .dataframe tbody tr th:only-of-type {\n",
       "        vertical-align: middle;\n",
       "    }\n",
       "\n",
       "    .dataframe tbody tr th {\n",
       "        vertical-align: top;\n",
       "    }\n",
       "\n",
       "    .dataframe thead th {\n",
       "        text-align: right;\n",
       "    }\n",
       "</style>\n",
       "<table border=\"1\" class=\"dataframe\">\n",
       "  <thead>\n",
       "    <tr style=\"text-align: right;\">\n",
       "      <th></th>\n",
       "      <th>Article</th>\n",
       "      <th>label</th>\n",
       "    </tr>\n",
       "  </thead>\n",
       "  <tbody>\n",
       "    <tr>\n",
       "      <th>0</th>\n",
       "      <td>Four ways Bob Corker skewered Donald TrumpImag...</td>\n",
       "      <td>1</td>\n",
       "    </tr>\n",
       "    <tr>\n",
       "      <th>1</th>\n",
       "      <td>Linklater's war veteran comedy speaks to moder...</td>\n",
       "      <td>1</td>\n",
       "    </tr>\n",
       "    <tr>\n",
       "      <th>2</th>\n",
       "      <td>Trump’s Fight With Corker Jeopardizes His Legi...</td>\n",
       "      <td>1</td>\n",
       "    </tr>\n",
       "    <tr>\n",
       "      <th>3</th>\n",
       "      <td>Egypt's Cheiron wins tie-up with Pemex for Mex...</td>\n",
       "      <td>1</td>\n",
       "    </tr>\n",
       "    <tr>\n",
       "      <th>4</th>\n",
       "      <td>Jason Aldean opens 'SNL' with Vegas tributeCou...</td>\n",
       "      <td>1</td>\n",
       "    </tr>\n",
       "  </tbody>\n",
       "</table>\n",
       "</div>\n",
       "    <div class=\"colab-df-buttons\">\n",
       "\n",
       "  <div class=\"colab-df-container\">\n",
       "    <button class=\"colab-df-convert\" onclick=\"convertToInteractive('df-86c0292b-a752-4a76-9479-b6f77050c7c9')\"\n",
       "            title=\"Convert this dataframe to an interactive table.\"\n",
       "            style=\"display:none;\">\n",
       "\n",
       "  <svg xmlns=\"http://www.w3.org/2000/svg\" height=\"24px\" viewBox=\"0 -960 960 960\">\n",
       "    <path d=\"M120-120v-720h720v720H120Zm60-500h600v-160H180v160Zm220 220h160v-160H400v160Zm0 220h160v-160H400v160ZM180-400h160v-160H180v160Zm440 0h160v-160H620v160ZM180-180h160v-160H180v160Zm440 0h160v-160H620v160Z\"/>\n",
       "  </svg>\n",
       "    </button>\n",
       "\n",
       "  <style>\n",
       "    .colab-df-container {\n",
       "      display:flex;\n",
       "      gap: 12px;\n",
       "    }\n",
       "\n",
       "    .colab-df-convert {\n",
       "      background-color: #E8F0FE;\n",
       "      border: none;\n",
       "      border-radius: 50%;\n",
       "      cursor: pointer;\n",
       "      display: none;\n",
       "      fill: #1967D2;\n",
       "      height: 32px;\n",
       "      padding: 0 0 0 0;\n",
       "      width: 32px;\n",
       "    }\n",
       "\n",
       "    .colab-df-convert:hover {\n",
       "      background-color: #E2EBFA;\n",
       "      box-shadow: 0px 1px 2px rgba(60, 64, 67, 0.3), 0px 1px 3px 1px rgba(60, 64, 67, 0.15);\n",
       "      fill: #174EA6;\n",
       "    }\n",
       "\n",
       "    .colab-df-buttons div {\n",
       "      margin-bottom: 4px;\n",
       "    }\n",
       "\n",
       "    [theme=dark] .colab-df-convert {\n",
       "      background-color: #3B4455;\n",
       "      fill: #D2E3FC;\n",
       "    }\n",
       "\n",
       "    [theme=dark] .colab-df-convert:hover {\n",
       "      background-color: #434B5C;\n",
       "      box-shadow: 0px 1px 3px 1px rgba(0, 0, 0, 0.15);\n",
       "      filter: drop-shadow(0px 1px 2px rgba(0, 0, 0, 0.3));\n",
       "      fill: #FFFFFF;\n",
       "    }\n",
       "  </style>\n",
       "\n",
       "    <script>\n",
       "      const buttonEl =\n",
       "        document.querySelector('#df-86c0292b-a752-4a76-9479-b6f77050c7c9 button.colab-df-convert');\n",
       "      buttonEl.style.display =\n",
       "        google.colab.kernel.accessAllowed ? 'block' : 'none';\n",
       "\n",
       "      async function convertToInteractive(key) {\n",
       "        const element = document.querySelector('#df-86c0292b-a752-4a76-9479-b6f77050c7c9');\n",
       "        const dataTable =\n",
       "          await google.colab.kernel.invokeFunction('convertToInteractive',\n",
       "                                                    [key], {});\n",
       "        if (!dataTable) return;\n",
       "\n",
       "        const docLinkHtml = 'Like what you see? Visit the ' +\n",
       "          '<a target=\"_blank\" href=https://colab.research.google.com/notebooks/data_table.ipynb>data table notebook</a>'\n",
       "          + ' to learn more about interactive tables.';\n",
       "        element.innerHTML = '';\n",
       "        dataTable['output_type'] = 'display_data';\n",
       "        await google.colab.output.renderOutput(dataTable, element);\n",
       "        const docLink = document.createElement('div');\n",
       "        docLink.innerHTML = docLinkHtml;\n",
       "        element.appendChild(docLink);\n",
       "      }\n",
       "    </script>\n",
       "  </div>\n",
       "\n",
       "\n",
       "<div id=\"df-f85d541c-1194-4cf6-bdca-adc4bdc24567\">\n",
       "  <button class=\"colab-df-quickchart\" onclick=\"quickchart('df-f85d541c-1194-4cf6-bdca-adc4bdc24567')\"\n",
       "            title=\"Suggest charts\"\n",
       "            style=\"display:none;\">\n",
       "\n",
       "<svg xmlns=\"http://www.w3.org/2000/svg\" height=\"24px\"viewBox=\"0 0 24 24\"\n",
       "     width=\"24px\">\n",
       "    <g>\n",
       "        <path d=\"M19 3H5c-1.1 0-2 .9-2 2v14c0 1.1.9 2 2 2h14c1.1 0 2-.9 2-2V5c0-1.1-.9-2-2-2zM9 17H7v-7h2v7zm4 0h-2V7h2v10zm4 0h-2v-4h2v4z\"/>\n",
       "    </g>\n",
       "</svg>\n",
       "  </button>\n",
       "\n",
       "<style>\n",
       "  .colab-df-quickchart {\n",
       "      --bg-color: #E8F0FE;\n",
       "      --fill-color: #1967D2;\n",
       "      --hover-bg-color: #E2EBFA;\n",
       "      --hover-fill-color: #174EA6;\n",
       "      --disabled-fill-color: #AAA;\n",
       "      --disabled-bg-color: #DDD;\n",
       "  }\n",
       "\n",
       "  [theme=dark] .colab-df-quickchart {\n",
       "      --bg-color: #3B4455;\n",
       "      --fill-color: #D2E3FC;\n",
       "      --hover-bg-color: #434B5C;\n",
       "      --hover-fill-color: #FFFFFF;\n",
       "      --disabled-bg-color: #3B4455;\n",
       "      --disabled-fill-color: #666;\n",
       "  }\n",
       "\n",
       "  .colab-df-quickchart {\n",
       "    background-color: var(--bg-color);\n",
       "    border: none;\n",
       "    border-radius: 50%;\n",
       "    cursor: pointer;\n",
       "    display: none;\n",
       "    fill: var(--fill-color);\n",
       "    height: 32px;\n",
       "    padding: 0;\n",
       "    width: 32px;\n",
       "  }\n",
       "\n",
       "  .colab-df-quickchart:hover {\n",
       "    background-color: var(--hover-bg-color);\n",
       "    box-shadow: 0 1px 2px rgba(60, 64, 67, 0.3), 0 1px 3px 1px rgba(60, 64, 67, 0.15);\n",
       "    fill: var(--button-hover-fill-color);\n",
       "  }\n",
       "\n",
       "  .colab-df-quickchart-complete:disabled,\n",
       "  .colab-df-quickchart-complete:disabled:hover {\n",
       "    background-color: var(--disabled-bg-color);\n",
       "    fill: var(--disabled-fill-color);\n",
       "    box-shadow: none;\n",
       "  }\n",
       "\n",
       "  .colab-df-spinner {\n",
       "    border: 2px solid var(--fill-color);\n",
       "    border-color: transparent;\n",
       "    border-bottom-color: var(--fill-color);\n",
       "    animation:\n",
       "      spin 1s steps(1) infinite;\n",
       "  }\n",
       "\n",
       "  @keyframes spin {\n",
       "    0% {\n",
       "      border-color: transparent;\n",
       "      border-bottom-color: var(--fill-color);\n",
       "      border-left-color: var(--fill-color);\n",
       "    }\n",
       "    20% {\n",
       "      border-color: transparent;\n",
       "      border-left-color: var(--fill-color);\n",
       "      border-top-color: var(--fill-color);\n",
       "    }\n",
       "    30% {\n",
       "      border-color: transparent;\n",
       "      border-left-color: var(--fill-color);\n",
       "      border-top-color: var(--fill-color);\n",
       "      border-right-color: var(--fill-color);\n",
       "    }\n",
       "    40% {\n",
       "      border-color: transparent;\n",
       "      border-right-color: var(--fill-color);\n",
       "      border-top-color: var(--fill-color);\n",
       "    }\n",
       "    60% {\n",
       "      border-color: transparent;\n",
       "      border-right-color: var(--fill-color);\n",
       "    }\n",
       "    80% {\n",
       "      border-color: transparent;\n",
       "      border-right-color: var(--fill-color);\n",
       "      border-bottom-color: var(--fill-color);\n",
       "    }\n",
       "    90% {\n",
       "      border-color: transparent;\n",
       "      border-bottom-color: var(--fill-color);\n",
       "    }\n",
       "  }\n",
       "</style>\n",
       "\n",
       "  <script>\n",
       "    async function quickchart(key) {\n",
       "      const quickchartButtonEl =\n",
       "        document.querySelector('#' + key + ' button');\n",
       "      quickchartButtonEl.disabled = true;  // To prevent multiple clicks.\n",
       "      quickchartButtonEl.classList.add('colab-df-spinner');\n",
       "      try {\n",
       "        const charts = await google.colab.kernel.invokeFunction(\n",
       "            'suggestCharts', [key], {});\n",
       "      } catch (error) {\n",
       "        console.error('Error during call to suggestCharts:', error);\n",
       "      }\n",
       "      quickchartButtonEl.classList.remove('colab-df-spinner');\n",
       "      quickchartButtonEl.classList.add('colab-df-quickchart-complete');\n",
       "    }\n",
       "    (() => {\n",
       "      let quickchartButtonEl =\n",
       "        document.querySelector('#df-f85d541c-1194-4cf6-bdca-adc4bdc24567 button');\n",
       "      quickchartButtonEl.style.display =\n",
       "        google.colab.kernel.accessAllowed ? 'block' : 'none';\n",
       "    })();\n",
       "  </script>\n",
       "</div>\n",
       "\n",
       "    </div>\n",
       "  </div>\n"
      ],
      "text/plain": [
       "                                             Article  label\n",
       "0  Four ways Bob Corker skewered Donald TrumpImag...      1\n",
       "1  Linklater's war veteran comedy speaks to moder...      1\n",
       "2  Trump’s Fight With Corker Jeopardizes His Legi...      1\n",
       "3  Egypt's Cheiron wins tie-up with Pemex for Mex...      1\n",
       "4  Jason Aldean opens 'SNL' with Vegas tributeCou...      1"
      ]
     },
     "execution_count": 13,
     "metadata": {},
     "output_type": "execute_result"
    }
   ],
   "source": [
    "#df3.head()"
   ]
  },
  {
   "cell_type": "code",
   "execution_count": null,
   "id": "fe0720f7-f292-48d3-889d-785a1138d88c",
   "metadata": {
    "id": "fe0720f7-f292-48d3-889d-785a1138d88c"
   },
   "outputs": [],
   "source": [
    "#fr = [df1, df2, df3]\n",
    "#data = pd.concat(fr)"
   ]
  },
  {
   "cell_type": "markdown",
   "id": "71e22381-23bc-4de2-9ca0-22f366c1420c",
   "metadata": {},
   "source": [
    "## STEP-2 : IMPORT THE DATASET"
   ]
  },
  {
   "cell_type": "markdown",
   "id": "6c1dd109-6ada-40e6-846e-e31107ff8074",
   "metadata": {},
   "source": [
    "### Link for the dataset : https://www.kaggle.com/c/fake-news"
   ]
  },
  {
   "cell_type": "code",
   "execution_count": 88,
   "id": "98c7b63a-c1e3-407f-a1f1-1ce5d05fb80f",
   "metadata": {
    "id": "15b1ca92-6b8b-40b5-998c-c47460cb4e49"
   },
   "outputs": [
    {
     "name": "stdout",
     "output_type": "stream",
     "text": [
      "1/1 [==============================] - 4s 4s/step\n",
      "1/1 [==============================] - 1s 685ms/step\n"
     ]
    }
   ],
   "source": [
    "df2 = pd.read_csv('C:/Users/gksha/Fake_News_Detection/Dataset/Dataset 2/train.csv')"
   ]
  },
  {
   "cell_type": "code",
   "execution_count": 3,
   "id": "83a857e7-f454-4634-936e-7015000942a5",
   "metadata": {
    "id": "83a857e7-f454-4634-936e-7015000942a5"
   },
   "outputs": [],
   "source": [
    "df2[\"Article\"] = df2[\"title\"] + df2[\"text\"]\n",
    "df2.sample(frac = 1)\n",
    "\n",
    "df2 = df2.loc[:,['Article','label']]"
   ]
  },
  {
   "cell_type": "code",
   "execution_count": 4,
   "id": "db0774ad-b526-46f4-bf4d-aafd270cf1e8",
   "metadata": {
    "colab": {
     "base_uri": "https://localhost:8080/",
     "height": 206
    },
    "id": "db0774ad-b526-46f4-bf4d-aafd270cf1e8",
    "outputId": "a6bc0bf1-2c90-46bb-cfef-245f4116e4c5"
   },
   "outputs": [
    {
     "data": {
      "text/html": [
       "<div>\n",
       "<style scoped>\n",
       "    .dataframe tbody tr th:only-of-type {\n",
       "        vertical-align: middle;\n",
       "    }\n",
       "\n",
       "    .dataframe tbody tr th {\n",
       "        vertical-align: top;\n",
       "    }\n",
       "\n",
       "    .dataframe thead th {\n",
       "        text-align: right;\n",
       "    }\n",
       "</style>\n",
       "<table border=\"1\" class=\"dataframe\">\n",
       "  <thead>\n",
       "    <tr style=\"text-align: right;\">\n",
       "      <th></th>\n",
       "      <th>Article</th>\n",
       "      <th>label</th>\n",
       "    </tr>\n",
       "  </thead>\n",
       "  <tbody>\n",
       "    <tr>\n",
       "      <th>0</th>\n",
       "      <td>House Dem Aide: We Didn’t Even See Comey’s Let...</td>\n",
       "      <td>1</td>\n",
       "    </tr>\n",
       "    <tr>\n",
       "      <th>1</th>\n",
       "      <td>FLYNN: Hillary Clinton, Big Woman on Campus - ...</td>\n",
       "      <td>0</td>\n",
       "    </tr>\n",
       "    <tr>\n",
       "      <th>2</th>\n",
       "      <td>Why the Truth Might Get You FiredWhy the Truth...</td>\n",
       "      <td>1</td>\n",
       "    </tr>\n",
       "    <tr>\n",
       "      <th>3</th>\n",
       "      <td>15 Civilians Killed In Single US Airstrike Hav...</td>\n",
       "      <td>1</td>\n",
       "    </tr>\n",
       "    <tr>\n",
       "      <th>4</th>\n",
       "      <td>Iranian woman jailed for fictional unpublished...</td>\n",
       "      <td>1</td>\n",
       "    </tr>\n",
       "  </tbody>\n",
       "</table>\n",
       "</div>"
      ],
      "text/plain": [
       "                                             Article  label\n",
       "0  House Dem Aide: We Didn’t Even See Comey’s Let...      1\n",
       "1  FLYNN: Hillary Clinton, Big Woman on Campus - ...      0\n",
       "2  Why the Truth Might Get You FiredWhy the Truth...      1\n",
       "3  15 Civilians Killed In Single US Airstrike Hav...      1\n",
       "4  Iranian woman jailed for fictional unpublished...      1"
      ]
     },
     "execution_count": 4,
     "metadata": {},
     "output_type": "execute_result"
    }
   ],
   "source": [
    "df2.head()"
   ]
  },
  {
   "cell_type": "code",
   "execution_count": 5,
   "id": "ty4t6wnibMym",
   "metadata": {
    "id": "ty4t6wnibMym"
   },
   "outputs": [],
   "source": [
    "fr = [df2]\n",
    "data = pd.concat(fr)"
   ]
  },
  {
   "cell_type": "code",
   "execution_count": 6,
   "id": "d14c9b96-1be3-4c1f-bcf5-f07456f1dbee",
   "metadata": {
    "colab": {
     "base_uri": "https://localhost:8080/"
    },
    "id": "d14c9b96-1be3-4c1f-bcf5-f07456f1dbee",
    "outputId": "b9184b62-8dbc-4662-912a-34832535ac02"
   },
   "outputs": [
    {
     "data": {
      "text/plain": [
       "(20800, 2)"
      ]
     },
     "execution_count": 6,
     "metadata": {},
     "output_type": "execute_result"
    }
   ],
   "source": [
    "data.shape"
   ]
  },
  {
   "cell_type": "code",
   "execution_count": 7,
   "id": "9b6b7192-eed4-4c94-8c9e-e09638be76df",
   "metadata": {
    "colab": {
     "base_uri": "https://localhost:8080/",
     "height": 206
    },
    "id": "9b6b7192-eed4-4c94-8c9e-e09638be76df",
    "outputId": "8522b392-cb71-4e80-94e4-830893dca9cb"
   },
   "outputs": [
    {
     "data": {
      "text/html": [
       "<div>\n",
       "<style scoped>\n",
       "    .dataframe tbody tr th:only-of-type {\n",
       "        vertical-align: middle;\n",
       "    }\n",
       "\n",
       "    .dataframe tbody tr th {\n",
       "        vertical-align: top;\n",
       "    }\n",
       "\n",
       "    .dataframe thead th {\n",
       "        text-align: right;\n",
       "    }\n",
       "</style>\n",
       "<table border=\"1\" class=\"dataframe\">\n",
       "  <thead>\n",
       "    <tr style=\"text-align: right;\">\n",
       "      <th></th>\n",
       "      <th>Article</th>\n",
       "      <th>label</th>\n",
       "    </tr>\n",
       "  </thead>\n",
       "  <tbody>\n",
       "    <tr>\n",
       "      <th>0</th>\n",
       "      <td>House Dem Aide: We Didn’t Even See Comey’s Let...</td>\n",
       "      <td>1</td>\n",
       "    </tr>\n",
       "    <tr>\n",
       "      <th>1</th>\n",
       "      <td>FLYNN: Hillary Clinton, Big Woman on Campus - ...</td>\n",
       "      <td>0</td>\n",
       "    </tr>\n",
       "    <tr>\n",
       "      <th>2</th>\n",
       "      <td>Why the Truth Might Get You FiredWhy the Truth...</td>\n",
       "      <td>1</td>\n",
       "    </tr>\n",
       "    <tr>\n",
       "      <th>3</th>\n",
       "      <td>15 Civilians Killed In Single US Airstrike Hav...</td>\n",
       "      <td>1</td>\n",
       "    </tr>\n",
       "    <tr>\n",
       "      <th>4</th>\n",
       "      <td>Iranian woman jailed for fictional unpublished...</td>\n",
       "      <td>1</td>\n",
       "    </tr>\n",
       "  </tbody>\n",
       "</table>\n",
       "</div>"
      ],
      "text/plain": [
       "                                             Article  label\n",
       "0  House Dem Aide: We Didn’t Even See Comey’s Let...      1\n",
       "1  FLYNN: Hillary Clinton, Big Woman on Campus - ...      0\n",
       "2  Why the Truth Might Get You FiredWhy the Truth...      1\n",
       "3  15 Civilians Killed In Single US Airstrike Hav...      1\n",
       "4  Iranian woman jailed for fictional unpublished...      1"
      ]
     },
     "execution_count": 7,
     "metadata": {},
     "output_type": "execute_result"
    }
   ],
   "source": [
    "data.head()"
   ]
  },
  {
   "cell_type": "markdown",
   "id": "9435cc10-c1ff-410a-ae7d-619b80bab674",
   "metadata": {},
   "source": [
    "##### Drops the Null Values present"
   ]
  },
  {
   "cell_type": "code",
   "execution_count": 8,
   "id": "57d37dc8-041f-4578-8431-aed021efc9ff",
   "metadata": {
    "id": "57d37dc8-041f-4578-8431-aed021efc9ff"
   },
   "outputs": [],
   "source": [
    "data = data.dropna() "
   ]
  },
  {
   "cell_type": "code",
   "execution_count": 9,
   "id": "49a31556-3368-4b7f-a875-76bf17ba99d2",
   "metadata": {
    "colab": {
     "base_uri": "https://localhost:8080/",
     "height": 147
    },
    "id": "49a31556-3368-4b7f-a875-76bf17ba99d2",
    "outputId": "59c0d09c-6e21-4ea2-d952-903a1dbfced2"
   },
   "outputs": [
    {
     "data": {
      "text/plain": [
       "Article    0\n",
       "label      0\n",
       "dtype: int64"
      ]
     },
     "execution_count": 9,
     "metadata": {},
     "output_type": "execute_result"
    }
   ],
   "source": [
    "data.isna().sum()"
   ]
  },
  {
   "cell_type": "markdown",
   "id": "c72b82cd-e371-482e-a461-9f7a19fe9c4c",
   "metadata": {},
   "source": [
    "##### Resets the Dataframe Indices after dropping rows to maintain consistency"
   ]
  },
  {
   "cell_type": "code",
   "execution_count": 10,
   "id": "7ad70eae-9550-4218-8055-f7c7c04e3f97",
   "metadata": {
    "id": "7ad70eae-9550-4218-8055-f7c7c04e3f97"
   },
   "outputs": [],
   "source": [
    "data.reset_index(inplace = True)"
   ]
  },
  {
   "cell_type": "markdown",
   "id": "5ec938a0-5353-44a6-bdd5-7b3906d14e4b",
   "metadata": {},
   "source": [
    "##### Analyzing the distribution of Labels (Fake = 0, Real = 1)"
   ]
  },
  {
   "cell_type": "code",
   "execution_count": 11,
   "id": "bb341595-5cc5-461f-8cf2-01fb4c6b2a6b",
   "metadata": {
    "colab": {
     "base_uri": "https://localhost:8080/",
     "height": 175
    },
    "id": "bb341595-5cc5-461f-8cf2-01fb4c6b2a6b",
    "outputId": "05a0f0ab-cc02-4450-d0df-ece46f33b371"
   },
   "outputs": [
    {
     "data": {
      "text/html": [
       "<div>\n",
       "<style scoped>\n",
       "    .dataframe tbody tr th:only-of-type {\n",
       "        vertical-align: middle;\n",
       "    }\n",
       "\n",
       "    .dataframe tbody tr th {\n",
       "        vertical-align: top;\n",
       "    }\n",
       "\n",
       "    .dataframe thead tr th {\n",
       "        text-align: left;\n",
       "    }\n",
       "\n",
       "    .dataframe thead tr:last-of-type th {\n",
       "        text-align: right;\n",
       "    }\n",
       "</style>\n",
       "<table border=\"1\" class=\"dataframe\">\n",
       "  <thead>\n",
       "    <tr>\n",
       "      <th></th>\n",
       "      <th colspan=\"8\" halign=\"left\">index</th>\n",
       "    </tr>\n",
       "    <tr>\n",
       "      <th></th>\n",
       "      <th>count</th>\n",
       "      <th>mean</th>\n",
       "      <th>std</th>\n",
       "      <th>min</th>\n",
       "      <th>25%</th>\n",
       "      <th>50%</th>\n",
       "      <th>75%</th>\n",
       "      <th>max</th>\n",
       "    </tr>\n",
       "    <tr>\n",
       "      <th>label</th>\n",
       "      <th></th>\n",
       "      <th></th>\n",
       "      <th></th>\n",
       "      <th></th>\n",
       "      <th></th>\n",
       "      <th></th>\n",
       "      <th></th>\n",
       "      <th></th>\n",
       "    </tr>\n",
       "  </thead>\n",
       "  <tbody>\n",
       "    <tr>\n",
       "      <th>0</th>\n",
       "      <td>10387.0</td>\n",
       "      <td>10392.644171</td>\n",
       "      <td>5982.025154</td>\n",
       "      <td>1.0</td>\n",
       "      <td>5225.50</td>\n",
       "      <td>10396.0</td>\n",
       "      <td>15565.50</td>\n",
       "      <td>20797.0</td>\n",
       "    </tr>\n",
       "    <tr>\n",
       "      <th>1</th>\n",
       "      <td>9816.0</td>\n",
       "      <td>10408.063366</td>\n",
       "      <td>6022.827722</td>\n",
       "      <td>0.0</td>\n",
       "      <td>5184.75</td>\n",
       "      <td>10408.5</td>\n",
       "      <td>15611.25</td>\n",
       "      <td>20799.0</td>\n",
       "    </tr>\n",
       "  </tbody>\n",
       "</table>\n",
       "</div>"
      ],
      "text/plain": [
       "         index                                                              \\\n",
       "         count          mean          std  min      25%      50%       75%   \n",
       "label                                                                        \n",
       "0      10387.0  10392.644171  5982.025154  1.0  5225.50  10396.0  15565.50   \n",
       "1       9816.0  10408.063366  6022.827722  0.0  5184.75  10408.5  15611.25   \n",
       "\n",
       "                \n",
       "           max  \n",
       "label           \n",
       "0      20797.0  \n",
       "1      20799.0  "
      ]
     },
     "execution_count": 11,
     "metadata": {},
     "output_type": "execute_result"
    }
   ],
   "source": [
    "data.groupby('label').describe()"
   ]
  },
  {
   "cell_type": "code",
   "execution_count": 12,
   "id": "41897efe-f3c2-4cfc-a323-1a6f774ce34a",
   "metadata": {
    "colab": {
     "base_uri": "https://localhost:8080/",
     "height": 300
    },
    "id": "41897efe-f3c2-4cfc-a323-1a6f774ce34a",
    "outputId": "080a4add-e009-47e4-ec90-134a33de7648"
   },
   "outputs": [
    {
     "data": {
      "text/html": [
       "<div>\n",
       "<style scoped>\n",
       "    .dataframe tbody tr th:only-of-type {\n",
       "        vertical-align: middle;\n",
       "    }\n",
       "\n",
       "    .dataframe tbody tr th {\n",
       "        vertical-align: top;\n",
       "    }\n",
       "\n",
       "    .dataframe thead th {\n",
       "        text-align: right;\n",
       "    }\n",
       "</style>\n",
       "<table border=\"1\" class=\"dataframe\">\n",
       "  <thead>\n",
       "    <tr style=\"text-align: right;\">\n",
       "      <th></th>\n",
       "      <th>index</th>\n",
       "      <th>label</th>\n",
       "    </tr>\n",
       "  </thead>\n",
       "  <tbody>\n",
       "    <tr>\n",
       "      <th>count</th>\n",
       "      <td>10387.000000</td>\n",
       "      <td>10387.0</td>\n",
       "    </tr>\n",
       "    <tr>\n",
       "      <th>mean</th>\n",
       "      <td>10392.644171</td>\n",
       "      <td>0.0</td>\n",
       "    </tr>\n",
       "    <tr>\n",
       "      <th>std</th>\n",
       "      <td>5982.025154</td>\n",
       "      <td>0.0</td>\n",
       "    </tr>\n",
       "    <tr>\n",
       "      <th>min</th>\n",
       "      <td>1.000000</td>\n",
       "      <td>0.0</td>\n",
       "    </tr>\n",
       "    <tr>\n",
       "      <th>25%</th>\n",
       "      <td>5225.500000</td>\n",
       "      <td>0.0</td>\n",
       "    </tr>\n",
       "    <tr>\n",
       "      <th>50%</th>\n",
       "      <td>10396.000000</td>\n",
       "      <td>0.0</td>\n",
       "    </tr>\n",
       "    <tr>\n",
       "      <th>75%</th>\n",
       "      <td>15565.500000</td>\n",
       "      <td>0.0</td>\n",
       "    </tr>\n",
       "    <tr>\n",
       "      <th>max</th>\n",
       "      <td>20797.000000</td>\n",
       "      <td>0.0</td>\n",
       "    </tr>\n",
       "  </tbody>\n",
       "</table>\n",
       "</div>"
      ],
      "text/plain": [
       "              index    label\n",
       "count  10387.000000  10387.0\n",
       "mean   10392.644171      0.0\n",
       "std     5982.025154      0.0\n",
       "min        1.000000      0.0\n",
       "25%     5225.500000      0.0\n",
       "50%    10396.000000      0.0\n",
       "75%    15565.500000      0.0\n",
       "max    20797.000000      0.0"
      ]
     },
     "execution_count": 12,
     "metadata": {},
     "output_type": "execute_result"
    }
   ],
   "source": [
    "data[data.label == 0].describe()"
   ]
  },
  {
   "cell_type": "code",
   "execution_count": 13,
   "id": "e4d959a3-83f5-42a9-94dc-d0a5bf28d07a",
   "metadata": {
    "colab": {
     "base_uri": "https://localhost:8080/",
     "height": 300
    },
    "id": "e4d959a3-83f5-42a9-94dc-d0a5bf28d07a",
    "outputId": "5d448828-4db3-441e-c2e9-8b2e0fd6bacd"
   },
   "outputs": [
    {
     "data": {
      "text/html": [
       "<div>\n",
       "<style scoped>\n",
       "    .dataframe tbody tr th:only-of-type {\n",
       "        vertical-align: middle;\n",
       "    }\n",
       "\n",
       "    .dataframe tbody tr th {\n",
       "        vertical-align: top;\n",
       "    }\n",
       "\n",
       "    .dataframe thead th {\n",
       "        text-align: right;\n",
       "    }\n",
       "</style>\n",
       "<table border=\"1\" class=\"dataframe\">\n",
       "  <thead>\n",
       "    <tr style=\"text-align: right;\">\n",
       "      <th></th>\n",
       "      <th>index</th>\n",
       "      <th>label</th>\n",
       "    </tr>\n",
       "  </thead>\n",
       "  <tbody>\n",
       "    <tr>\n",
       "      <th>count</th>\n",
       "      <td>9816.000000</td>\n",
       "      <td>9816.0</td>\n",
       "    </tr>\n",
       "    <tr>\n",
       "      <th>mean</th>\n",
       "      <td>10408.063366</td>\n",
       "      <td>1.0</td>\n",
       "    </tr>\n",
       "    <tr>\n",
       "      <th>std</th>\n",
       "      <td>6022.827722</td>\n",
       "      <td>0.0</td>\n",
       "    </tr>\n",
       "    <tr>\n",
       "      <th>min</th>\n",
       "      <td>0.000000</td>\n",
       "      <td>1.0</td>\n",
       "    </tr>\n",
       "    <tr>\n",
       "      <th>25%</th>\n",
       "      <td>5184.750000</td>\n",
       "      <td>1.0</td>\n",
       "    </tr>\n",
       "    <tr>\n",
       "      <th>50%</th>\n",
       "      <td>10408.500000</td>\n",
       "      <td>1.0</td>\n",
       "    </tr>\n",
       "    <tr>\n",
       "      <th>75%</th>\n",
       "      <td>15611.250000</td>\n",
       "      <td>1.0</td>\n",
       "    </tr>\n",
       "    <tr>\n",
       "      <th>max</th>\n",
       "      <td>20799.000000</td>\n",
       "      <td>1.0</td>\n",
       "    </tr>\n",
       "  </tbody>\n",
       "</table>\n",
       "</div>"
      ],
      "text/plain": [
       "              index   label\n",
       "count   9816.000000  9816.0\n",
       "mean   10408.063366     1.0\n",
       "std     6022.827722     0.0\n",
       "min        0.000000     1.0\n",
       "25%     5184.750000     1.0\n",
       "50%    10408.500000     1.0\n",
       "75%    15611.250000     1.0\n",
       "max    20799.000000     1.0"
      ]
     },
     "execution_count": 13,
     "metadata": {},
     "output_type": "execute_result"
    }
   ],
   "source": [
    "data[data.label == 1].describe()"
   ]
  },
  {
   "cell_type": "markdown",
   "id": "d5aca50d-60d9-4d18-8955-4adbf3327e5c",
   "metadata": {},
   "source": [
    "##### Computes the length of Each word"
   ]
  },
  {
   "cell_type": "code",
   "execution_count": 14,
   "id": "72ff643a-77dd-4106-b468-673a45a01412",
   "metadata": {
    "id": "72ff643a-77dd-4106-b468-673a45a01412"
   },
   "outputs": [],
   "source": [
    "data['Word_length']=data.Article.apply(lambda x:len(x.split()))"
   ]
  },
  {
   "cell_type": "code",
   "execution_count": 15,
   "id": "6c20a49b-09fa-4dd4-85ae-08173ef517ef",
   "metadata": {
    "colab": {
     "base_uri": "https://localhost:8080/",
     "height": 206
    },
    "id": "6c20a49b-09fa-4dd4-85ae-08173ef517ef",
    "outputId": "ffdb4ef1-e3c5-46de-91be-6be357459ec6"
   },
   "outputs": [
    {
     "data": {
      "text/html": [
       "<div>\n",
       "<style scoped>\n",
       "    .dataframe tbody tr th:only-of-type {\n",
       "        vertical-align: middle;\n",
       "    }\n",
       "\n",
       "    .dataframe tbody tr th {\n",
       "        vertical-align: top;\n",
       "    }\n",
       "\n",
       "    .dataframe thead th {\n",
       "        text-align: right;\n",
       "    }\n",
       "</style>\n",
       "<table border=\"1\" class=\"dataframe\">\n",
       "  <thead>\n",
       "    <tr style=\"text-align: right;\">\n",
       "      <th></th>\n",
       "      <th>index</th>\n",
       "      <th>Article</th>\n",
       "      <th>label</th>\n",
       "      <th>Word_length</th>\n",
       "    </tr>\n",
       "  </thead>\n",
       "  <tbody>\n",
       "    <tr>\n",
       "      <th>0</th>\n",
       "      <td>0</td>\n",
       "      <td>House Dem Aide: We Didn’t Even See Comey’s Let...</td>\n",
       "      <td>1</td>\n",
       "      <td>833</td>\n",
       "    </tr>\n",
       "    <tr>\n",
       "      <th>1</th>\n",
       "      <td>1</td>\n",
       "      <td>FLYNN: Hillary Clinton, Big Woman on Campus - ...</td>\n",
       "      <td>0</td>\n",
       "      <td>718</td>\n",
       "    </tr>\n",
       "    <tr>\n",
       "      <th>2</th>\n",
       "      <td>2</td>\n",
       "      <td>Why the Truth Might Get You FiredWhy the Truth...</td>\n",
       "      <td>1</td>\n",
       "      <td>1272</td>\n",
       "    </tr>\n",
       "    <tr>\n",
       "      <th>3</th>\n",
       "      <td>3</td>\n",
       "      <td>15 Civilians Killed In Single US Airstrike Hav...</td>\n",
       "      <td>1</td>\n",
       "      <td>566</td>\n",
       "    </tr>\n",
       "    <tr>\n",
       "      <th>4</th>\n",
       "      <td>4</td>\n",
       "      <td>Iranian woman jailed for fictional unpublished...</td>\n",
       "      <td>1</td>\n",
       "      <td>167</td>\n",
       "    </tr>\n",
       "  </tbody>\n",
       "</table>\n",
       "</div>"
      ],
      "text/plain": [
       "   index                                            Article  label  \\\n",
       "0      0  House Dem Aide: We Didn’t Even See Comey’s Let...      1   \n",
       "1      1  FLYNN: Hillary Clinton, Big Woman on Campus - ...      0   \n",
       "2      2  Why the Truth Might Get You FiredWhy the Truth...      1   \n",
       "3      3  15 Civilians Killed In Single US Airstrike Hav...      1   \n",
       "4      4  Iranian woman jailed for fictional unpublished...      1   \n",
       "\n",
       "   Word_length  \n",
       "0          833  \n",
       "1          718  \n",
       "2         1272  \n",
       "3          566  \n",
       "4          167  "
      ]
     },
     "execution_count": 15,
     "metadata": {},
     "output_type": "execute_result"
    }
   ],
   "source": [
    "data.head()"
   ]
  },
  {
   "cell_type": "markdown",
   "id": "7bc1622f-d18c-4c29-b8b5-b38ee2a2bec9",
   "metadata": {},
   "source": [
    "## STEP-2 : CLEAN THE DATA"
   ]
  },
  {
   "cell_type": "markdown",
   "id": "ad1457ef-985c-4e36-b3f0-724e8cb37c94",
   "metadata": {},
   "source": [
    "##### text.lower() - converts all the texts to lowercases\n",
    "##### re.sub() - removal of unwanted character"
   ]
  },
  {
   "cell_type": "code",
   "execution_count": 16,
   "id": "73e61ff9-ad6f-457d-af66-fd79e0007804",
   "metadata": {
    "id": "73e61ff9-ad6f-457d-af66-fd79e0007804"
   },
   "outputs": [],
   "source": [
    "def word_clean(text):\n",
    "    text = text.lower()\n",
    "    text = re.sub('\\[.*?\\]', '', text)\n",
    "    text = re.sub(\"\\\\W\",\" \",text)\n",
    "    text = re.sub('https?://\\S+|www\\.\\S+', '', text)\n",
    "    text = re.sub('<.*?>+', '', text)\n",
    "    text = re.sub('[%s]' % re.escape(string.punctuation), '', text)\n",
    "    text = re.sub('\\n', '', text)\n",
    "    text = re.sub('\\w*\\d\\w*', '', text)\n",
    "\n",
    "    return text"
   ]
  },
  {
   "cell_type": "code",
   "execution_count": 17,
   "id": "au8N5SkGzdWz",
   "metadata": {
    "id": "au8N5SkGzdWz"
   },
   "outputs": [],
   "source": [
    "data['cleaned_article'] = data['Article'].apply(lambda x: word_clean(x))"
   ]
  },
  {
   "cell_type": "markdown",
   "id": "7bea01e7-6d1c-4596-aa67-615488e92f76",
   "metadata": {},
   "source": [
    "##### Lemmatization - Reducing the words into it's base form"
   ]
  },
  {
   "cell_type": "code",
   "execution_count": 18,
   "id": "g7ASIi2Q17Qv",
   "metadata": {
    "id": "g7ASIi2Q17Qv"
   },
   "outputs": [],
   "source": [
    "#Lemmatization\n",
    "\n",
    "clean_article = data['cleaned_article']\n",
    "clean_article = list(clean_article)\n",
    "\n",
    "word_lemma = WordNetLemmatizer()\n",
    "\n",
    "def lemma(text, lemmatization = True):\n",
    "  output=\"\"\n",
    "  if lemmatization:\n",
    "    text = text.split(\" \")\n",
    "    for word in text:\n",
    "      w1 = word_lemma.lemmatize(word, pos = \"n\")\n",
    "      w2 = word_lemma.lemmatize(w1, pos = \"v\")\n",
    "      w3 = word_lemma.lemmatize(w2, pos = \"a\")\n",
    "      w4 = word_lemma.lemmatize(w3, pos = \"r\")\n",
    "      output = output + \" \" + w4\n",
    "  else:\n",
    "    output=text\n",
    "  return str(output.strip())"
   ]
  },
  {
   "cell_type": "code",
   "execution_count": 19,
   "id": "T3-Xj7e-3olm",
   "metadata": {
    "colab": {
     "base_uri": "https://localhost:8080/",
     "height": 124,
     "referenced_widgets": [
      "36b3732fd619432fbfcc731bfeb00ca4",
      "e921de44cd274471972c3c27d7414c4b",
      "f036227f03f84ac49f94e82640315a64",
      "8470f952c69b432ba703640d663c5d7f",
      "baf69089d9f34d2e94abd59e1c826f5c",
      "f03b2280c9d04f23bf2d10ef19e9c19f",
      "2fd8be7723c44f7aa016539f05f282dd",
      "5b246abdf2af48dbafe178dc62901cbf",
      "c6565822e94c4707a76406d7b0d812f6",
      "422156e077024ffa9c3d3477b28b1548",
      "ad9c7b172659478f8ecb68d7d405dd5c"
     ]
    },
    "id": "T3-Xj7e-3olm",
    "outputId": "e1ee918b-3f31-4b63-faa1-1aabea8dbe2a"
   },
   "outputs": [
    {
     "name": "stderr",
     "output_type": "stream",
     "text": [
      "C:\\Users\\gksha\\AppData\\Local\\Temp\\ipykernel_14044\\3172547320.py:3: TqdmDeprecationWarning: This function will be removed in tqdm==5.0.0\n",
      "Please use `tqdm.notebook.tqdm` instead of `tqdm.tqdm_notebook`\n",
      "  for line in tqdm_notebook(clean_article):\n"
     ]
    },
    {
     "data": {
      "application/vnd.jupyter.widget-view+json": {
       "model_id": "f57897927d6c4480b17dab6dce0c4f1f",
       "version_major": 2,
       "version_minor": 0
      },
      "text/plain": [
       "  0%|          | 0/20203 [00:00<?, ?it/s]"
      ]
     },
     "metadata": {},
     "output_type": "display_data"
    }
   ],
   "source": [
    "lemmatized_data = []\n",
    "\n",
    "for line in tqdm_notebook(clean_article):\n",
    "    lemmatized_data.append(lemma(line))"
   ]
  },
  {
   "cell_type": "markdown",
   "id": "5f5f271f-1fb2-4969-9e50-904e8e46c574",
   "metadata": {},
   "source": [
    "##### Removal of Stop Words"
   ]
  },
  {
   "cell_type": "code",
   "execution_count": 20,
   "id": "BO7b44ym4tBv",
   "metadata": {
    "id": "BO7b44ym4tBv"
   },
   "outputs": [],
   "source": [
    "def remove_stopwords(text):\n",
    "  doc = nlp(text)\n",
    "  return \" \".join([token.text for token in doc if not token.is_stop ])"
   ]
  },
  {
   "cell_type": "code",
   "execution_count": 21,
   "id": "W3vJQ2QC53lk",
   "metadata": {
    "colab": {
     "base_uri": "https://localhost:8080/",
     "height": 124,
     "referenced_widgets": [
      "1861bae17dd743479e9a621fc95c7d39",
      "ca48dbdefbe04e4787c3763883e47618",
      "bd1a0b8304834d929af25ba42a490122",
      "9fc56b959a1f4c70845fc3fa23ca93ea",
      "6c3110dee950427091f1e471f4d3accc",
      "d6322f1fc2414ba890f688086914d48f",
      "fe6f5ed504014baf9eaa83ce1dde3362",
      "d4651ff44ea442b6bff41040ec0203e2",
      "a279d2fab07942e7a32ac3d12a460f31",
      "ba0313132b6c42bcaa871ee600bafa09",
      "7e9c34a6b5734f0182a1f9a35f0da748"
     ]
    },
    "id": "W3vJQ2QC53lk",
    "outputId": "341e5f86-eca5-4099-f118-2fa839064c69"
   },
   "outputs": [
    {
     "name": "stderr",
     "output_type": "stream",
     "text": [
      "C:\\Users\\gksha\\AppData\\Local\\Temp\\ipykernel_14044\\385609199.py:1: TqdmDeprecationWarning: This function will be removed in tqdm==5.0.0\n",
      "Please use `tqdm.notebook.tqdm` instead of `tqdm.tqdm_notebook`\n",
      "  processed_clean_article = [remove_stopwords(line) for line in tqdm_notebook(lemmatized_data)]\n"
     ]
    },
    {
     "data": {
      "application/vnd.jupyter.widget-view+json": {
       "model_id": "22a62dc9726a4de1b8de9ae9428980f5",
       "version_major": 2,
       "version_minor": 0
      },
      "text/plain": [
       "  0%|          | 0/20203 [00:00<?, ?it/s]"
      ]
     },
     "metadata": {},
     "output_type": "display_data"
    }
   ],
   "source": [
    "processed_clean_article = [remove_stopwords(line) for line in tqdm_notebook(lemmatized_data)]"
   ]
  },
  {
   "cell_type": "code",
   "execution_count": null,
   "id": "a768b5ca-873e-4abe-ae29-1edcb9357941",
   "metadata": {
    "id": "a768b5ca-873e-4abe-ae29-1edcb9357941",
    "jupyter": {
     "source_hidden": true
    }
   },
   "outputs": [],
   "source": [
    "#Stemming Process - Cleaning up the Data\n",
    "'''PortStem = PorterStemmer()\n",
    "corpus = []\n",
    "for i in data.index:\n",
    "    rev = re.sub('[^a-zA-Z]',' ',data['Article'][i])\n",
    "    rev = re.sub('[\\(].*?[\\)]', '', rev)\n",
    "    rev = re.sub('\\s+', ' ', rev)\n",
    "    rev = re.sub('[^A-Za-z0-9 ]', '', rev)\n",
    "    rev = rev.lower()\n",
    "    rev = rev.split()\n",
    "    rev = [PortStem.stem(word) for word in rev if not word in stopwords.words('english')]\n",
    "    rev = ' '.join(rev)\n",
    "    corpus.append(rev)'''"
   ]
  },
  {
   "cell_type": "code",
   "execution_count": 22,
   "id": "fe426a05-3282-4ac9-b4a2-71de3db482fe",
   "metadata": {
    "id": "fe426a05-3282-4ac9-b4a2-71de3db482fe"
   },
   "outputs": [],
   "source": [
    "data['cleaned_article']=np.array(processed_clean_article)"
   ]
  },
  {
   "cell_type": "code",
   "execution_count": 23,
   "id": "612c0bce-2179-49fc-bd1d-c0a365a0fb3c",
   "metadata": {
    "id": "612c0bce-2179-49fc-bd1d-c0a365a0fb3c"
   },
   "outputs": [],
   "source": [
    "data['Word_length']=data.cleaned_article.apply(lambda x:len(x.split()))"
   ]
  },
  {
   "cell_type": "code",
   "execution_count": 24,
   "id": "d4c53865-d9d4-4de2-a789-de6fcea3c3a5",
   "metadata": {
    "id": "d4c53865-d9d4-4de2-a789-de6fcea3c3a5"
   },
   "outputs": [
    {
     "data": {
      "text/html": [
       "<div>\n",
       "<style scoped>\n",
       "    .dataframe tbody tr th:only-of-type {\n",
       "        vertical-align: middle;\n",
       "    }\n",
       "\n",
       "    .dataframe tbody tr th {\n",
       "        vertical-align: top;\n",
       "    }\n",
       "\n",
       "    .dataframe thead th {\n",
       "        text-align: right;\n",
       "    }\n",
       "</style>\n",
       "<table border=\"1\" class=\"dataframe\">\n",
       "  <thead>\n",
       "    <tr style=\"text-align: right;\">\n",
       "      <th></th>\n",
       "      <th>index</th>\n",
       "      <th>Article</th>\n",
       "      <th>label</th>\n",
       "      <th>Word_length</th>\n",
       "      <th>cleaned_article</th>\n",
       "    </tr>\n",
       "  </thead>\n",
       "  <tbody>\n",
       "    <tr>\n",
       "      <th>0</th>\n",
       "      <td>0</td>\n",
       "      <td>House Dem Aide: We Didn’t Even See Comey’s Let...</td>\n",
       "      <td>1</td>\n",
       "      <td>446</td>\n",
       "      <td>house dem aide   didn t comey s letter jason c...</td>\n",
       "    </tr>\n",
       "    <tr>\n",
       "      <th>1</th>\n",
       "      <td>1</td>\n",
       "      <td>FLYNN: Hillary Clinton, Big Woman on Campus - ...</td>\n",
       "      <td>0</td>\n",
       "      <td>345</td>\n",
       "      <td>flynn   hillary clinton   big woman campus    ...</td>\n",
       "    </tr>\n",
       "    <tr>\n",
       "      <th>2</th>\n",
       "      <td>2</td>\n",
       "      <td>Why the Truth Might Get You FiredWhy the Truth...</td>\n",
       "      <td>1</td>\n",
       "      <td>649</td>\n",
       "      <td>truth firedwhy truth fire october      tension...</td>\n",
       "    </tr>\n",
       "    <tr>\n",
       "      <th>3</th>\n",
       "      <td>3</td>\n",
       "      <td>15 Civilians Killed In Single US Airstrike Hav...</td>\n",
       "      <td>1</td>\n",
       "      <td>289</td>\n",
       "      <td>civilian kill single u airstrike identifiedvid...</td>\n",
       "    </tr>\n",
       "    <tr>\n",
       "      <th>4</th>\n",
       "      <td>4</td>\n",
       "      <td>Iranian woman jailed for fictional unpublished...</td>\n",
       "      <td>1</td>\n",
       "      <td>94</td>\n",
       "      <td>iranian woman jail fictional unpublished story...</td>\n",
       "    </tr>\n",
       "  </tbody>\n",
       "</table>\n",
       "</div>"
      ],
      "text/plain": [
       "   index                                            Article  label  \\\n",
       "0      0  House Dem Aide: We Didn’t Even See Comey’s Let...      1   \n",
       "1      1  FLYNN: Hillary Clinton, Big Woman on Campus - ...      0   \n",
       "2      2  Why the Truth Might Get You FiredWhy the Truth...      1   \n",
       "3      3  15 Civilians Killed In Single US Airstrike Hav...      1   \n",
       "4      4  Iranian woman jailed for fictional unpublished...      1   \n",
       "\n",
       "   Word_length                                    cleaned_article  \n",
       "0          446  house dem aide   didn t comey s letter jason c...  \n",
       "1          345  flynn   hillary clinton   big woman campus    ...  \n",
       "2          649  truth firedwhy truth fire october      tension...  \n",
       "3          289  civilian kill single u airstrike identifiedvid...  \n",
       "4           94  iranian woman jail fictional unpublished story...  "
      ]
     },
     "execution_count": 24,
     "metadata": {},
     "output_type": "execute_result"
    }
   ],
   "source": [
    "data.head()"
   ]
  },
  {
   "cell_type": "code",
   "execution_count": 25,
   "id": "13ff2348-0605-45c2-8d1b-6639542d0142",
   "metadata": {
    "id": "13ff2348-0605-45c2-8d1b-6639542d0142"
   },
   "outputs": [],
   "source": [
    "Fake = list(data[data['label']==0]['cleaned_article'])"
   ]
  },
  {
   "cell_type": "code",
   "execution_count": 26,
   "id": "76eb5432-57f0-4636-9156-c10cc9cff16b",
   "metadata": {
    "id": "76eb5432-57f0-4636-9156-c10cc9cff16b"
   },
   "outputs": [],
   "source": [
    "fake_words = []\n",
    "for sentence in Fake:\n",
    "    words = word_tokenize(sentence)\n",
    "    for word in words:\n",
    "        fake_words.append(word)"
   ]
  },
  {
   "cell_type": "code",
   "execution_count": 27,
   "id": "a2c83a65-e8d6-4949-8d21-440cb8c6441b",
   "metadata": {
    "id": "a2c83a65-e8d6-4949-8d21-440cb8c6441b"
   },
   "outputs": [],
   "source": [
    "Real = list(data[data['label']==1]['cleaned_article'])"
   ]
  },
  {
   "cell_type": "code",
   "execution_count": 28,
   "id": "5d32416b-4c26-4a82-b4bc-4d0e5c366330",
   "metadata": {
    "id": "5d32416b-4c26-4a82-b4bc-4d0e5c366330"
   },
   "outputs": [],
   "source": [
    "real_words = []\n",
    "for sentence in Real:\n",
    "    words = word_tokenize(sentence)\n",
    "    for word in words:\n",
    "        real_words.append(word)"
   ]
  },
  {
   "cell_type": "markdown",
   "id": "aa89c186-b6d6-4f36-8aca-d97ff2f31afb",
   "metadata": {},
   "source": [
    "##### Count Vectorizer - Converts the words into a matrix of token counts"
   ]
  },
  {
   "cell_type": "code",
   "execution_count": 29,
   "id": "86a03837-c0c8-4235-9e62-568e86761ffc",
   "metadata": {
    "id": "86a03837-c0c8-4235-9e62-568e86761ffc"
   },
   "outputs": [],
   "source": [
    "CountVec = CountVectorizer(max_features = 3500, ngram_range=(1,3))"
   ]
  },
  {
   "cell_type": "code",
   "execution_count": 30,
   "id": "63a9f9cb-78c0-4645-bcba-f90418becff2",
   "metadata": {
    "id": "63a9f9cb-78c0-4645-bcba-f90418becff2"
   },
   "outputs": [],
   "source": [
    "x = CountVec.fit_transform(lemmatized_data).toarray()"
   ]
  },
  {
   "cell_type": "code",
   "execution_count": 31,
   "id": "359dc693-fee2-41ed-87ff-8976052fa959",
   "metadata": {
    "id": "359dc693-fee2-41ed-87ff-8976052fa959"
   },
   "outputs": [
    {
     "name": "stdout",
     "output_type": "stream",
     "text": [
      "(20203, 3500)\n"
     ]
    }
   ],
   "source": [
    "print(x.shape)"
   ]
  },
  {
   "cell_type": "code",
   "execution_count": 32,
   "id": "e552cff7-9689-4ddf-899d-0d4bd7c35450",
   "metadata": {},
   "outputs": [],
   "source": [
    "x_train,x_test,y_train,y_test=model_selection.train_test_split(x,data['label'].astype(int),test_size=0.2,stratify=data['label'],random_state=100)"
   ]
  },
  {
   "cell_type": "markdown",
   "id": "13023c33-c6b5-4af3-bbc8-519ea3d066f5",
   "metadata": {},
   "source": [
    "##### count_df = Dataframe that stores the vectorized representation of the text data"
   ]
  },
  {
   "cell_type": "code",
   "execution_count": 33,
   "id": "7ab65f6b-3cef-4a5f-ad4e-b96b49c8b6ab",
   "metadata": {
    "id": "7ab65f6b-3cef-4a5f-ad4e-b96b49c8b6ab"
   },
   "outputs": [],
   "source": [
    "count_df = pd.DataFrame(x_train, columns=CountVec.get_feature_names_out())"
   ]
  },
  {
   "cell_type": "code",
   "execution_count": 34,
   "id": "a3c9bc60-49ce-45f7-ac60-102e7bfb2d1e",
   "metadata": {
    "id": "a3c9bc60-49ce-45f7-ac60-102e7bfb2d1e"
   },
   "outputs": [
    {
     "data": {
      "text/html": [
       "<div>\n",
       "<style scoped>\n",
       "    .dataframe tbody tr th:only-of-type {\n",
       "        vertical-align: middle;\n",
       "    }\n",
       "\n",
       "    .dataframe tbody tr th {\n",
       "        vertical-align: top;\n",
       "    }\n",
       "\n",
       "    .dataframe thead th {\n",
       "        text-align: right;\n",
       "    }\n",
       "</style>\n",
       "<table border=\"1\" class=\"dataframe\">\n",
       "  <thead>\n",
       "    <tr style=\"text-align: right;\">\n",
       "      <th></th>\n",
       "      <th>abandon</th>\n",
       "      <th>abedin</th>\n",
       "      <th>ability</th>\n",
       "      <th>ability to</th>\n",
       "      <th>able</th>\n",
       "      <th>able to</th>\n",
       "      <th>abortion</th>\n",
       "      <th>about</th>\n",
       "      <th>about his</th>\n",
       "      <th>about how</th>\n",
       "      <th>...</th>\n",
       "      <th>young</th>\n",
       "      <th>your</th>\n",
       "      <th>yourself</th>\n",
       "      <th>youtube</th>\n",
       "      <th>zero</th>\n",
       "      <th>zika</th>\n",
       "      <th>zone</th>\n",
       "      <th>на</th>\n",
       "      <th>не</th>\n",
       "      <th>что</th>\n",
       "    </tr>\n",
       "  </thead>\n",
       "  <tbody>\n",
       "    <tr>\n",
       "      <th>0</th>\n",
       "      <td>0</td>\n",
       "      <td>0</td>\n",
       "      <td>0</td>\n",
       "      <td>0</td>\n",
       "      <td>0</td>\n",
       "      <td>0</td>\n",
       "      <td>0</td>\n",
       "      <td>0</td>\n",
       "      <td>0</td>\n",
       "      <td>0</td>\n",
       "      <td>...</td>\n",
       "      <td>0</td>\n",
       "      <td>2</td>\n",
       "      <td>0</td>\n",
       "      <td>0</td>\n",
       "      <td>0</td>\n",
       "      <td>0</td>\n",
       "      <td>4</td>\n",
       "      <td>0</td>\n",
       "      <td>0</td>\n",
       "      <td>0</td>\n",
       "    </tr>\n",
       "    <tr>\n",
       "      <th>1</th>\n",
       "      <td>1</td>\n",
       "      <td>0</td>\n",
       "      <td>0</td>\n",
       "      <td>0</td>\n",
       "      <td>0</td>\n",
       "      <td>0</td>\n",
       "      <td>0</td>\n",
       "      <td>3</td>\n",
       "      <td>0</td>\n",
       "      <td>0</td>\n",
       "      <td>...</td>\n",
       "      <td>0</td>\n",
       "      <td>1</td>\n",
       "      <td>0</td>\n",
       "      <td>0</td>\n",
       "      <td>0</td>\n",
       "      <td>0</td>\n",
       "      <td>0</td>\n",
       "      <td>0</td>\n",
       "      <td>0</td>\n",
       "      <td>0</td>\n",
       "    </tr>\n",
       "    <tr>\n",
       "      <th>2</th>\n",
       "      <td>0</td>\n",
       "      <td>0</td>\n",
       "      <td>0</td>\n",
       "      <td>0</td>\n",
       "      <td>0</td>\n",
       "      <td>0</td>\n",
       "      <td>0</td>\n",
       "      <td>5</td>\n",
       "      <td>1</td>\n",
       "      <td>0</td>\n",
       "      <td>...</td>\n",
       "      <td>0</td>\n",
       "      <td>0</td>\n",
       "      <td>0</td>\n",
       "      <td>0</td>\n",
       "      <td>0</td>\n",
       "      <td>0</td>\n",
       "      <td>0</td>\n",
       "      <td>0</td>\n",
       "      <td>0</td>\n",
       "      <td>0</td>\n",
       "    </tr>\n",
       "    <tr>\n",
       "      <th>3</th>\n",
       "      <td>0</td>\n",
       "      <td>0</td>\n",
       "      <td>0</td>\n",
       "      <td>0</td>\n",
       "      <td>0</td>\n",
       "      <td>0</td>\n",
       "      <td>0</td>\n",
       "      <td>0</td>\n",
       "      <td>0</td>\n",
       "      <td>0</td>\n",
       "      <td>...</td>\n",
       "      <td>0</td>\n",
       "      <td>1</td>\n",
       "      <td>0</td>\n",
       "      <td>0</td>\n",
       "      <td>0</td>\n",
       "      <td>0</td>\n",
       "      <td>0</td>\n",
       "      <td>0</td>\n",
       "      <td>0</td>\n",
       "      <td>0</td>\n",
       "    </tr>\n",
       "    <tr>\n",
       "      <th>4</th>\n",
       "      <td>0</td>\n",
       "      <td>0</td>\n",
       "      <td>0</td>\n",
       "      <td>0</td>\n",
       "      <td>0</td>\n",
       "      <td>0</td>\n",
       "      <td>0</td>\n",
       "      <td>0</td>\n",
       "      <td>0</td>\n",
       "      <td>0</td>\n",
       "      <td>...</td>\n",
       "      <td>0</td>\n",
       "      <td>0</td>\n",
       "      <td>0</td>\n",
       "      <td>0</td>\n",
       "      <td>0</td>\n",
       "      <td>0</td>\n",
       "      <td>0</td>\n",
       "      <td>0</td>\n",
       "      <td>0</td>\n",
       "      <td>0</td>\n",
       "    </tr>\n",
       "    <tr>\n",
       "      <th>...</th>\n",
       "      <td>...</td>\n",
       "      <td>...</td>\n",
       "      <td>...</td>\n",
       "      <td>...</td>\n",
       "      <td>...</td>\n",
       "      <td>...</td>\n",
       "      <td>...</td>\n",
       "      <td>...</td>\n",
       "      <td>...</td>\n",
       "      <td>...</td>\n",
       "      <td>...</td>\n",
       "      <td>...</td>\n",
       "      <td>...</td>\n",
       "      <td>...</td>\n",
       "      <td>...</td>\n",
       "      <td>...</td>\n",
       "      <td>...</td>\n",
       "      <td>...</td>\n",
       "      <td>...</td>\n",
       "      <td>...</td>\n",
       "      <td>...</td>\n",
       "    </tr>\n",
       "    <tr>\n",
       "      <th>16157</th>\n",
       "      <td>0</td>\n",
       "      <td>0</td>\n",
       "      <td>0</td>\n",
       "      <td>0</td>\n",
       "      <td>1</td>\n",
       "      <td>1</td>\n",
       "      <td>0</td>\n",
       "      <td>1</td>\n",
       "      <td>0</td>\n",
       "      <td>0</td>\n",
       "      <td>...</td>\n",
       "      <td>0</td>\n",
       "      <td>0</td>\n",
       "      <td>0</td>\n",
       "      <td>0</td>\n",
       "      <td>0</td>\n",
       "      <td>0</td>\n",
       "      <td>0</td>\n",
       "      <td>0</td>\n",
       "      <td>0</td>\n",
       "      <td>0</td>\n",
       "    </tr>\n",
       "    <tr>\n",
       "      <th>16158</th>\n",
       "      <td>0</td>\n",
       "      <td>0</td>\n",
       "      <td>0</td>\n",
       "      <td>0</td>\n",
       "      <td>0</td>\n",
       "      <td>0</td>\n",
       "      <td>0</td>\n",
       "      <td>3</td>\n",
       "      <td>0</td>\n",
       "      <td>0</td>\n",
       "      <td>...</td>\n",
       "      <td>0</td>\n",
       "      <td>0</td>\n",
       "      <td>0</td>\n",
       "      <td>0</td>\n",
       "      <td>0</td>\n",
       "      <td>0</td>\n",
       "      <td>0</td>\n",
       "      <td>0</td>\n",
       "      <td>0</td>\n",
       "      <td>0</td>\n",
       "    </tr>\n",
       "    <tr>\n",
       "      <th>16159</th>\n",
       "      <td>0</td>\n",
       "      <td>0</td>\n",
       "      <td>0</td>\n",
       "      <td>0</td>\n",
       "      <td>0</td>\n",
       "      <td>0</td>\n",
       "      <td>0</td>\n",
       "      <td>0</td>\n",
       "      <td>0</td>\n",
       "      <td>0</td>\n",
       "      <td>...</td>\n",
       "      <td>0</td>\n",
       "      <td>0</td>\n",
       "      <td>0</td>\n",
       "      <td>0</td>\n",
       "      <td>0</td>\n",
       "      <td>0</td>\n",
       "      <td>0</td>\n",
       "      <td>0</td>\n",
       "      <td>0</td>\n",
       "      <td>0</td>\n",
       "    </tr>\n",
       "    <tr>\n",
       "      <th>16160</th>\n",
       "      <td>0</td>\n",
       "      <td>0</td>\n",
       "      <td>0</td>\n",
       "      <td>0</td>\n",
       "      <td>0</td>\n",
       "      <td>0</td>\n",
       "      <td>0</td>\n",
       "      <td>0</td>\n",
       "      <td>0</td>\n",
       "      <td>0</td>\n",
       "      <td>...</td>\n",
       "      <td>0</td>\n",
       "      <td>0</td>\n",
       "      <td>0</td>\n",
       "      <td>0</td>\n",
       "      <td>0</td>\n",
       "      <td>0</td>\n",
       "      <td>0</td>\n",
       "      <td>14</td>\n",
       "      <td>3</td>\n",
       "      <td>6</td>\n",
       "    </tr>\n",
       "    <tr>\n",
       "      <th>16161</th>\n",
       "      <td>0</td>\n",
       "      <td>0</td>\n",
       "      <td>0</td>\n",
       "      <td>0</td>\n",
       "      <td>0</td>\n",
       "      <td>0</td>\n",
       "      <td>0</td>\n",
       "      <td>3</td>\n",
       "      <td>0</td>\n",
       "      <td>0</td>\n",
       "      <td>...</td>\n",
       "      <td>3</td>\n",
       "      <td>9</td>\n",
       "      <td>0</td>\n",
       "      <td>0</td>\n",
       "      <td>0</td>\n",
       "      <td>0</td>\n",
       "      <td>0</td>\n",
       "      <td>0</td>\n",
       "      <td>0</td>\n",
       "      <td>0</td>\n",
       "    </tr>\n",
       "  </tbody>\n",
       "</table>\n",
       "<p>16162 rows × 3500 columns</p>\n",
       "</div>"
      ],
      "text/plain": [
       "       abandon  abedin  ability  ability to  able  able to  abortion  about  \\\n",
       "0            0       0        0           0     0        0         0      0   \n",
       "1            1       0        0           0     0        0         0      3   \n",
       "2            0       0        0           0     0        0         0      5   \n",
       "3            0       0        0           0     0        0         0      0   \n",
       "4            0       0        0           0     0        0         0      0   \n",
       "...        ...     ...      ...         ...   ...      ...       ...    ...   \n",
       "16157        0       0        0           0     1        1         0      1   \n",
       "16158        0       0        0           0     0        0         0      3   \n",
       "16159        0       0        0           0     0        0         0      0   \n",
       "16160        0       0        0           0     0        0         0      0   \n",
       "16161        0       0        0           0     0        0         0      3   \n",
       "\n",
       "       about his  about how  ...  young  your  yourself  youtube  zero  zika  \\\n",
       "0              0          0  ...      0     2         0        0     0     0   \n",
       "1              0          0  ...      0     1         0        0     0     0   \n",
       "2              1          0  ...      0     0         0        0     0     0   \n",
       "3              0          0  ...      0     1         0        0     0     0   \n",
       "4              0          0  ...      0     0         0        0     0     0   \n",
       "...          ...        ...  ...    ...   ...       ...      ...   ...   ...   \n",
       "16157          0          0  ...      0     0         0        0     0     0   \n",
       "16158          0          0  ...      0     0         0        0     0     0   \n",
       "16159          0          0  ...      0     0         0        0     0     0   \n",
       "16160          0          0  ...      0     0         0        0     0     0   \n",
       "16161          0          0  ...      3     9         0        0     0     0   \n",
       "\n",
       "       zone  на  не  что  \n",
       "0         4   0   0    0  \n",
       "1         0   0   0    0  \n",
       "2         0   0   0    0  \n",
       "3         0   0   0    0  \n",
       "4         0   0   0    0  \n",
       "...     ...  ..  ..  ...  \n",
       "16157     0   0   0    0  \n",
       "16158     0   0   0    0  \n",
       "16159     0   0   0    0  \n",
       "16160     0  14   3    6  \n",
       "16161     0   0   0    0  \n",
       "\n",
       "[16162 rows x 3500 columns]"
      ]
     },
     "execution_count": 34,
     "metadata": {},
     "output_type": "execute_result"
    }
   ],
   "source": [
    "count_df"
   ]
  },
  {
   "cell_type": "markdown",
   "id": "85245a33-d2f4-4fe8-94e2-1dac545ecc5f",
   "metadata": {},
   "source": [
    "## STEP 2.5 : CREATE METRIC FUNCTIONS"
   ]
  },
  {
   "cell_type": "markdown",
   "id": "c37f1432-81ab-47f4-8bd7-280ff468b481",
   "metadata": {},
   "source": [
    "##### Creating PR Curve and Confusion Matrix functions"
   ]
  },
  {
   "cell_type": "code",
   "execution_count": 35,
   "id": "7e2522a1-59b5-48ab-9e4a-9841860223be",
   "metadata": {
    "id": "7e2522a1-59b5-48ab-9e4a-9841860223be"
   },
   "outputs": [],
   "source": [
    "# Common Function for PR Curve\n",
    "\n",
    "def plot_pr_curve(recall, precision, avg_precision):\n",
    "    from inspect import signature\n",
    "    plt.figure()\n",
    "    step_kwargs = ({'step': 'post'}\n",
    "                   if 'step' in signature(plt.fill_between).parameters\n",
    "                   else {})\n",
    "\n",
    "    plt.step(recall, precision, color='g', alpha=0.2, where='post')\n",
    "    plt.fill_between(recall, precision, alpha=0.2, color='g', **step_kwargs)\n",
    "\n",
    "    plt.xlabel('Recall')\n",
    "    plt.ylabel('Precision')\n",
    "    plt.ylim([0.0, 1.0])\n",
    "    plt.xlim([0.0, 1.0])\n",
    "    plt.title(f'2-class Precision-Recall curve: AP={avg_precision:0.2f}')\n",
    "    return plt.show()"
   ]
  },
  {
   "cell_type": "code",
   "execution_count": 36,
   "id": "0c9efdc2-4446-4cf9-bfab-762db4b11ba2",
   "metadata": {
    "id": "0c9efdc2-4446-4cf9-bfab-762db4b11ba2"
   },
   "outputs": [],
   "source": [
    "def plot_confusion_matrix(cm, classes,\n",
    "                          normalize=False,\n",
    "                          title='Confusion matrix',\n",
    "                          cmap=plt.cm.Blues):\n",
    "\n",
    "    plt.imshow(cm, interpolation='nearest', cmap=cmap)\n",
    "    plt.title(title)\n",
    "    plt.colorbar()\n",
    "    tick_marks = np.arange(len(classes))\n",
    "    plt.xticks(tick_marks, classes, rotation=45)\n",
    "    plt.yticks(tick_marks, classes)\n",
    "\n",
    "    if normalize:\n",
    "        cm = cm.astype('float') / cm.sum(axis=1)[:, np.newaxis]\n",
    "        print(\"Normalized confusion matrix\")\n",
    "    else:\n",
    "        print('Confusion matrix, without normalization')\n",
    "\n",
    "    thresh = cm.max() / 2.\n",
    "    for i, j in itertools.product(range(cm.shape[0]), range(cm.shape[1])):\n",
    "        plt.text(j, i, cm[i, j],\n",
    "                 horizontalalignment=\"center\",\n",
    "                 color=\"white\" if cm[i, j] > thresh else \"black\")\n",
    "\n",
    "    plt.tight_layout()\n",
    "    plt.ylabel('Actual label')\n",
    "    plt.xlabel('Predicted label')"
   ]
  },
  {
   "cell_type": "markdown",
   "id": "71a86342-8af5-4f18-8f21-7849c07715af",
   "metadata": {},
   "source": [
    "## STEP - 3 : TRAINING THE MODEL"
   ]
  },
  {
   "cell_type": "code",
   "execution_count": 37,
   "id": "afc7f253-797d-4f08-b13e-a2d833d9a8f2",
   "metadata": {
    "id": "afc7f253-797d-4f08-b13e-a2d833d9a8f2"
   },
   "outputs": [],
   "source": [
    "X_train, X_test, y_train, y_test = train_test_split(x,data['label'].astype(int), test_size = 0.2, stratify = data['label'],random_state = 100)"
   ]
  },
  {
   "cell_type": "markdown",
   "id": "afa32267-06d3-4de2-9d56-a6e4617a7e5e",
   "metadata": {},
   "source": [
    "##### TF-IDF = Importance of words in a document relative to their occurence in the entire corpus.\n",
    "##### TF = Measures how often a word appears in a document"
   ]
  },
  {
   "cell_type": "code",
   "execution_count": 38,
   "id": "b48dbbed-2df2-4eb9-bd28-bb2c891e7678",
   "metadata": {
    "id": "b48dbbed-2df2-4eb9-bd28-bb2c891e7678"
   },
   "outputs": [],
   "source": [
    "tf_idf = TfidfVectorizer(max_features = 5000, ngram_range=(1,3))\n",
    "x_tfidf = CountVec.fit_transform(lemmatized_data).toarray()"
   ]
  },
  {
   "cell_type": "code",
   "execution_count": 39,
   "id": "97b9bd1c-6ab2-47aa-85e5-e99e1dc1b25c",
   "metadata": {
    "id": "97b9bd1c-6ab2-47aa-85e5-e99e1dc1b25c"
   },
   "outputs": [],
   "source": [
    "x = data['cleaned_article']\n",
    "y = data['label']"
   ]
  },
  {
   "cell_type": "code",
   "execution_count": 71,
   "id": "c0206c61-5792-4d8c-bbce-fcb82cf402aa",
   "metadata": {
    "id": "c0206c61-5792-4d8c-bbce-fcb82cf402aa"
   },
   "outputs": [],
   "source": [
    "vocab_size = 10000\n",
    "token = Tokenizer(num_words = vocab_size)\n",
    "token.fit_on_texts(x)"
   ]
  },
  {
   "cell_type": "code",
   "execution_count": 72,
   "id": "edeb14ac-e1c0-4a5d-996e-259349876e45",
   "metadata": {},
   "outputs": [],
   "source": [
    "import pickle\n",
    "with open('tokenizer.pkl','wb') as f:\n",
    "    pickle.dump(token,f)\n",
    "\n",
    "with open('tokenizer.pkl','rb') as f:\n",
    "    token = pickle.load(f)"
   ]
  },
  {
   "cell_type": "code",
   "execution_count": 74,
   "id": "fbf622be-5eea-4907-9f7f-d857a607a7fd",
   "metadata": {},
   "outputs": [],
   "source": [
    "from tensorflow.keras.callbacks import EarlyStopping\n",
    "early_stopping = EarlyStopping(monitor='val_loss', patience=3, restore_best_weights=True)"
   ]
  },
  {
   "cell_type": "code",
   "execution_count": 75,
   "id": "c25bfa17-dfb1-42d9-8858-fd902e804cd6",
   "metadata": {
    "id": "c25bfa17-dfb1-42d9-8858-fd902e804cd6"
   },
   "outputs": [],
   "source": [
    "x_train,x_test,y_train,y_test=model_selection.train_test_split(data['cleaned_article'],data['label'].astype(int),test_size=0.2,stratify=data['label'],random_state=100)"
   ]
  },
  {
   "cell_type": "code",
   "execution_count": 76,
   "id": "1a619c4e-769c-4dad-b6d2-769688d324b0",
   "metadata": {},
   "outputs": [
    {
     "name": "stdout",
     "output_type": "stream",
     "text": [
      "18425    tension rise pipeline construction near   noda...\n",
      "13769    president obama india s modi forge unlikely fr...\n",
      "642      trump expand search secretary state    new yor...\n",
      "19290    topless protester arrest trump s poll stationt...\n",
      "3174     vi ijsklimmers omgekomen bij lawine zuid tirol...\n",
      "Name: cleaned_article, dtype: object\n"
     ]
    }
   ],
   "source": [
    "print(x_train[:5])"
   ]
  },
  {
   "cell_type": "code",
   "execution_count": 77,
   "id": "c3d32871-c1ca-425e-ad21-1e4e4f8e29bc",
   "metadata": {
    "id": "c3d32871-c1ca-425e-ad21-1e4e4f8e29bc"
   },
   "outputs": [],
   "source": [
    "X_train = token.texts_to_sequences(x_train.tolist())\n",
    "X_train_pad = pad_sequences(X_train, maxlen = 256, padding = 'post')\n",
    "X_test = token.texts_to_sequences(x_test.tolist())\n",
    "X_test_pad = pad_sequences(X_test, maxlen = 256, padding = 'post')"
   ]
  },
  {
   "cell_type": "markdown",
   "id": "ca3e0f4c-93b3-45a6-8ab3-91ae4141d744",
   "metadata": {},
   "source": [
    "##### LSTM - A RNN that handles long - term dependencies and works by selectively remembering or forgetting information\n",
    "##### BiLSTM - A RNN that improves upon standard LSTMs by processing sequence data in both forward and backward directions"
   ]
  },
  {
   "cell_type": "code",
   "execution_count": 78,
   "id": "dfeefad2-45c7-4528-ac50-05a335d55e83",
   "metadata": {
    "id": "dfeefad2-45c7-4528-ac50-05a335d55e83"
   },
   "outputs": [],
   "source": [
    "#Bidirectional LSTM\n",
    "\n",
    "embed_dim = 100\n",
    "model = Sequential()\n",
    "model.add(Embedding(input_dim = 10000, output_dim = 100, input_length = X_train_pad.shape[1]))\n",
    "\n",
    "model.add(Dropout(0.2))\n",
    "model.add(Bidirectional(LSTM(128,return_sequences=True,activation='tanh')))\n",
    "model.add(Dropout(0.2))\n",
    "model.add(Bidirectional(LSTM(256,return_sequences=True,activation='tanh')))\n",
    "model.add(Dropout(0.2))\n",
    "model.add(Bidirectional(LSTM(128,return_sequences=True,activation='tanh')))\n",
    "model.add(GlobalMaxPooling1D())\n",
    "model.add(Dense(1, activation = 'sigmoid'))\n",
    "model.compile(loss = 'binary_crossentropy', optimizer = tf.keras.optimizers.Adamax(),metrics =['accuracy'])"
   ]
  },
  {
   "cell_type": "code",
   "execution_count": 79,
   "id": "0d8a1377-eb50-4e39-9cd3-967edac81670",
   "metadata": {},
   "outputs": [
    {
     "name": "stdout",
     "output_type": "stream",
     "text": [
      "Model: \"sequential_1\"\n",
      "_________________________________________________________________\n",
      " Layer (type)                Output Shape              Param #   \n",
      "=================================================================\n",
      " embedding_1 (Embedding)     (None, 256, 100)          1000000   \n",
      "                                                                 \n",
      " dropout_3 (Dropout)         (None, 256, 100)          0         \n",
      "                                                                 \n",
      " bidirectional_3 (Bidirectio  (None, 256, 256)         234496    \n",
      " nal)                                                            \n",
      "                                                                 \n",
      " dropout_4 (Dropout)         (None, 256, 256)          0         \n",
      "                                                                 \n",
      " bidirectional_4 (Bidirectio  (None, 256, 512)         1050624   \n",
      " nal)                                                            \n",
      "                                                                 \n",
      " dropout_5 (Dropout)         (None, 256, 512)          0         \n",
      "                                                                 \n",
      " bidirectional_5 (Bidirectio  (None, 256, 256)         656384    \n",
      " nal)                                                            \n",
      "                                                                 \n",
      " global_max_pooling1d_1 (Glo  (None, 256)              0         \n",
      " balMaxPooling1D)                                                \n",
      "                                                                 \n",
      " dense_1 (Dense)             (None, 1)                 257       \n",
      "                                                                 \n",
      "=================================================================\n",
      "Total params: 2,941,761\n",
      "Trainable params: 2,941,761\n",
      "Non-trainable params: 0\n",
      "_________________________________________________________________\n"
     ]
    }
   ],
   "source": [
    "model.summary()"
   ]
  },
  {
   "cell_type": "code",
   "execution_count": 80,
   "id": "b2a06da7-adec-488b-a589-96ae41d2e86b",
   "metadata": {},
   "outputs": [
    {
     "name": "stdout",
     "output_type": "stream",
     "text": [
      "Model output shape: (None, 1)\n",
      "Label shape: (16162,)\n"
     ]
    }
   ],
   "source": [
    "print(\"Model output shape:\", model.output_shape)\n",
    "print(\"Label shape:\", y_train.shape)"
   ]
  },
  {
   "cell_type": "code",
   "execution_count": 81,
   "id": "f40d33ad-1ab7-4d12-9a5e-c6ba60a2ffcd",
   "metadata": {},
   "outputs": [],
   "source": [
    "class_weights = {0: len(y_train) / (2 * sum(y_train == 0)), 1: len(y_train) / (2 * sum(y_train == 1))}"
   ]
  },
  {
   "cell_type": "code",
   "execution_count": 82,
   "id": "bad40ca0-fd32-4418-9202-1d6eb912d8f3",
   "metadata": {
    "id": "bad40ca0-fd32-4418-9202-1d6eb912d8f3"
   },
   "outputs": [
    {
     "name": "stdout",
     "output_type": "stream",
     "text": [
      "Epoch 1/30\n",
      "81/81 [==============================] - 62s 561ms/step - loss: 0.4238 - accuracy: 0.7917 - val_loss: 0.2471 - val_accuracy: 0.9000\n",
      "Epoch 2/30\n",
      "81/81 [==============================] - 41s 505ms/step - loss: 0.1818 - accuracy: 0.9303 - val_loss: 0.1808 - val_accuracy: 0.9280\n",
      "Epoch 3/30\n",
      "81/81 [==============================] - 41s 503ms/step - loss: 0.1140 - accuracy: 0.9584 - val_loss: 0.1793 - val_accuracy: 0.9322\n",
      "Epoch 4/30\n",
      "81/81 [==============================] - 41s 501ms/step - loss: 0.0749 - accuracy: 0.9754 - val_loss: 0.1718 - val_accuracy: 0.9396\n",
      "Epoch 5/30\n",
      "81/81 [==============================] - 40s 499ms/step - loss: 0.0546 - accuracy: 0.9826 - val_loss: 0.1899 - val_accuracy: 0.9354\n",
      "Epoch 6/30\n",
      "81/81 [==============================] - 41s 506ms/step - loss: 0.0379 - accuracy: 0.9887 - val_loss: 0.1974 - val_accuracy: 0.9381\n",
      "Epoch 7/30\n",
      "81/81 [==============================] - 41s 504ms/step - loss: 0.0298 - accuracy: 0.9908 - val_loss: 0.2085 - val_accuracy: 0.9371\n",
      "Epoch 8/30\n",
      "81/81 [==============================] - 41s 507ms/step - loss: 0.0262 - accuracy: 0.9928 - val_loss: 0.2370 - val_accuracy: 0.9354\n",
      "Epoch 9/30\n",
      "81/81 [==============================] - 41s 504ms/step - loss: 0.0208 - accuracy: 0.9945 - val_loss: 0.2715 - val_accuracy: 0.9349\n",
      "Epoch 10/30\n",
      "81/81 [==============================] - 41s 505ms/step - loss: 0.0174 - accuracy: 0.9954 - val_loss: 0.2779 - val_accuracy: 0.9349\n",
      "Epoch 11/30\n",
      "81/81 [==============================] - 41s 505ms/step - loss: 0.0225 - accuracy: 0.9944 - val_loss: 0.2304 - val_accuracy: 0.9334\n",
      "Epoch 12/30\n",
      "81/81 [==============================] - 41s 505ms/step - loss: 0.0149 - accuracy: 0.9962 - val_loss: 0.2901 - val_accuracy: 0.9297\n",
      "Epoch 13/30\n",
      "81/81 [==============================] - 41s 505ms/step - loss: 0.0109 - accuracy: 0.9975 - val_loss: 0.3361 - val_accuracy: 0.9310\n",
      "Epoch 14/30\n",
      "81/81 [==============================] - 41s 509ms/step - loss: 0.0093 - accuracy: 0.9977 - val_loss: 0.2932 - val_accuracy: 0.9342\n",
      "Epoch 15/30\n",
      "81/81 [==============================] - 41s 505ms/step - loss: 0.0097 - accuracy: 0.9980 - val_loss: 0.3134 - val_accuracy: 0.9357\n",
      "Epoch 16/30\n",
      "81/81 [==============================] - 42s 525ms/step - loss: 0.0083 - accuracy: 0.9983 - val_loss: 0.3042 - val_accuracy: 0.9359\n",
      "Epoch 17/30\n",
      "81/81 [==============================] - 48s 596ms/step - loss: 0.0074 - accuracy: 0.9986 - val_loss: 0.2813 - val_accuracy: 0.9332\n",
      "Epoch 18/30\n",
      "81/81 [==============================] - 49s 605ms/step - loss: 0.0070 - accuracy: 0.9988 - val_loss: 0.3051 - val_accuracy: 0.9347\n",
      "Epoch 19/30\n",
      "81/81 [==============================] - 49s 599ms/step - loss: 0.0057 - accuracy: 0.9991 - val_loss: 0.3383 - val_accuracy: 0.9369\n",
      "Epoch 20/30\n",
      "81/81 [==============================] - 49s 606ms/step - loss: 0.0053 - accuracy: 0.9991 - val_loss: 0.3390 - val_accuracy: 0.9386\n",
      "Epoch 21/30\n",
      "81/81 [==============================] - 49s 602ms/step - loss: 0.0066 - accuracy: 0.9984 - val_loss: 0.3223 - val_accuracy: 0.9315\n",
      "Epoch 22/30\n",
      "81/81 [==============================] - 50s 623ms/step - loss: 0.0083 - accuracy: 0.9981 - val_loss: 0.3440 - val_accuracy: 0.9302\n",
      "Epoch 23/30\n",
      "81/81 [==============================] - 49s 605ms/step - loss: 0.0070 - accuracy: 0.9983 - val_loss: 0.3441 - val_accuracy: 0.9359\n",
      "Epoch 24/30\n",
      "81/81 [==============================] - 49s 607ms/step - loss: 0.0047 - accuracy: 0.9988 - val_loss: 0.3974 - val_accuracy: 0.9329\n",
      "Epoch 25/30\n",
      "81/81 [==============================] - 49s 609ms/step - loss: 0.0062 - accuracy: 0.9986 - val_loss: 0.3638 - val_accuracy: 0.9347\n",
      "Epoch 26/30\n",
      "81/81 [==============================] - 49s 608ms/step - loss: 0.0042 - accuracy: 0.9992 - val_loss: 0.4072 - val_accuracy: 0.9357\n",
      "Epoch 27/30\n",
      "81/81 [==============================] - 50s 614ms/step - loss: 0.0042 - accuracy: 0.9988 - val_loss: 0.3429 - val_accuracy: 0.9349\n",
      "Epoch 28/30\n",
      "81/81 [==============================] - 50s 616ms/step - loss: 0.0045 - accuracy: 0.9985 - val_loss: 0.3804 - val_accuracy: 0.9352\n",
      "Epoch 29/30\n",
      "81/81 [==============================] - 50s 616ms/step - loss: 0.0059 - accuracy: 0.9986 - val_loss: 0.4027 - val_accuracy: 0.9362\n",
      "Epoch 30/30\n",
      "81/81 [==============================] - 49s 604ms/step - loss: 0.0039 - accuracy: 0.9987 - val_loss: 0.3708 - val_accuracy: 0.9359\n"
     ]
    }
   ],
   "source": [
    "BiLSTM_hist = model.fit(X_train_pad, y_train, class_weight = class_weights,epochs = 30, batch_size = 200, validation_data = (X_test_pad, y_test), verbose = 1)"
   ]
  },
  {
   "cell_type": "code",
   "execution_count": 84,
   "id": "7092d524-0805-407e-a6f2-f9c56b852958",
   "metadata": {},
   "outputs": [],
   "source": [
    "model.save(\"bilstm.h5\")"
   ]
  },
  {
   "cell_type": "markdown",
   "id": "7555cdc0-a4dd-4101-a9b4-366f0b9a3d12",
   "metadata": {},
   "source": [
    "## STEP - 4 : PREDICTING AND EVAULATING THE MODEL"
   ]
  },
  {
   "cell_type": "code",
   "execution_count": 83,
   "id": "fdc1a97f-3ad9-44c4-b9d1-2c9e45c5f1c9",
   "metadata": {
    "id": "fdc1a97f-3ad9-44c4-b9d1-2c9e45c5f1c9"
   },
   "outputs": [
    {
     "name": "stdout",
     "output_type": "stream",
     "text": [
      "127/127 [==============================] - 23s 151ms/step\n"
     ]
    },
    {
     "data": {
      "image/png": "[encoded data removed]",
      "text/plain": [
       "<Figure size 800x600 with 2 Axes>"
      ]
     },
     "metadata": {},
     "output_type": "display_data"
    },
    {
     "name": "stdout",
     "output_type": "stream",
     "text": [
      "Bi-directional LSTM Model Accuracy: 0.9359069537243256\n",
      "Bi-directional LSTM Model Precision: 0.9272818455366099\n",
      "Bi-directional LSTM Model Recall: 0.9419256240448294\n",
      "Bi-directional LSTM Model F1 Score: 0.9345463735152894\n"
     ]
    }
   ],
   "source": [
    "from sklearn.metrics import accuracy_score, precision_score, recall_score, confusion_matrix, f1_score\n",
    "\n",
    "# Predict probabilities\n",
    "Bi_pred_prob = model.predict(X_test_pad)\n",
    "Bi_pred = (Bi_pred_prob > 0.5).astype(int).flatten()\n",
    "\n",
    "Bi_pred = Bi_pred[:len(y_test)]\n",
    "\n",
    "# Calculate metrics\n",
    "Bi_accuracy = accuracy_score(y_test, Bi_pred)\n",
    "Bi_precision = precision_score(y_test, Bi_pred)\n",
    "Bi_recall = recall_score(y_test, Bi_pred)\n",
    "Bi_confusion = confusion_matrix(y_test, Bi_pred)\n",
    "Bi_f1 = f1_score(y_test, Bi_pred)\n",
    "\n",
    "# Plot confusion matrix\n",
    "plt.figure(figsize=(8, 6))\n",
    "sns.heatmap(Bi_confusion, annot=True, fmt='d', xticklabels=['Fake', 'True'], yticklabels=['Fake', 'True'])\n",
    "plt.xlabel('Predicted')\n",
    "plt.ylabel('Actual')\n",
    "plt.title('Bi-directional LSTM Model Confusion Matrix')\n",
    "plt.show()\n",
    "\n",
    "# Print results\n",
    "print(\"Bi-directional LSTM Model Accuracy:\", Bi_accuracy)\n",
    "print(\"Bi-directional LSTM Model Precision:\", Bi_precision)\n",
    "print(\"Bi-directional LSTM Model Recall:\", Bi_recall)\n",
    "print(\"Bi-directional LSTM Model F1 Score:\", Bi_f1)\n"
   ]
  },
  {
   "cell_type": "code",
   "execution_count": 85,
   "id": "66ab15c1-a3ef-4f30-aa36-37e05cabb436",
   "metadata": {
    "id": "66ab15c1-a3ef-4f30-aa36-37e05cabb436"
   },
   "outputs": [
    {
     "data": {
      "image/png": "[encoded data removed]",
      "text/plain": [
       "<Figure size 640x480 with 1 Axes>"
      ]
     },
     "metadata": {},
     "output_type": "display_data"
    }
   ],
   "source": [
    "plt.plot(BiLSTM_hist.history['accuracy'],c='b',label='train accuracy')\n",
    "plt.plot(BiLSTM_hist.history['val_accuracy'],c='r',label='validation accuracy')\n",
    "plt.legend(loc='lower right')\n",
    "plt.xlabel('Epochs')\n",
    "plt.ylabel('Accuracy')\n",
    "plt.title('Training and Validation Accuracy')\n",
    "plt.show()"
   ]
  },
  {
   "cell_type": "code",
   "execution_count": 65,
   "id": "51ef21cb-7c91-4c34-aadc-b052c7061d01",
   "metadata": {},
   "outputs": [
    {
     "data": {
      "text/plain": [
       "label\n",
       "0    10387\n",
       "1     9816\n",
       "Name: count, dtype: int64"
      ]
     },
     "execution_count": 65,
     "metadata": {},
     "output_type": "execute_result"
    }
   ],
   "source": [
    "data['label'].value_counts()"
   ]
  },
  {
   "cell_type": "markdown",
   "id": "331e7656-2f6e-4938-876a-f2b715d04e27",
   "metadata": {},
   "source": [
    "## STEP - 5 : FRONTEND DEVELOPMENT"
   ]
  },
  {
   "cell_type": "markdown",
   "id": "841a0f5a-7786-40de-b697-f52fd1585145",
   "metadata": {},
   "source": [
    "### FRONTEND - A : GRADIO"
   ]
  },
  {
   "cell_type": "code",
   "execution_count": 87,
   "id": "9ba0234d-2ef9-4e4a-b431-324e8928b402",
   "metadata": {},
   "outputs": [
    {
     "name": "stdout",
     "output_type": "stream",
     "text": [
      "Running on local URL:  http://127.0.0.1:7863\n",
      "\n",
      "Could not create share link. Please check your internet connection or our status page: https://status.gradio.app.\n"
     ]
    },
    {
     "data": {
      "text/html": [
       "<div><iframe src=\"http://127.0.0.1:7863/\" width=\"100%\" height=\"500\" allow=\"autoplay; camera; microphone; clipboard-read; clipboard-write;\" frameborder=\"0\" allowfullscreen></iframe></div>"
      ],
      "text/plain": [
       "<IPython.core.display.HTML object>"
      ]
     },
     "metadata": {},
     "output_type": "display_data"
    },
    {
     "data": {
      "text/plain": []
     },
     "execution_count": 87,
     "metadata": {},
     "output_type": "execute_result"
    },
    {
     "name": "stdout",
     "output_type": "stream",
     "text": [
      "1/1 [==============================] - 4s 4s/step\n",
      "1/1 [==============================] - 0s 201ms/step\n",
      "1/1 [==============================] - 0s 219ms/step\n",
      "1/1 [==============================] - 0s 182ms/step\n",
      "1/1 [==============================] - 0s 216ms/step\n"
     ]
    }
   ],
   "source": [
    "import gradio as gr\n",
    "from tensorflow.keras.models import load_model\n",
    "from tensorflow.keras.preprocessing.sequence import pad_sequences\n",
    "from tensorflow.keras.preprocessing.text import Tokenizer\n",
    "import re\n",
    "import string\n",
    "import numpy as np\n",
    "\n",
    "# Load the trained Bi-LSTM model\n",
    "model_path = \"bilstm.h5\"  # Ensure this points to the correct location of your saved model\n",
    "model = load_model(model_path)\n",
    "\n",
    "# Tokenizer setup (use the same parameters as during training)\n",
    "vocab_size = 10000  # Replace with the actual vocab size used during training\n",
    "max_length = 256  # Same max length used in training\n",
    "tokenizer = Tokenizer(num_words=vocab_size)\n",
    "tokenizer.fit_on_texts([x_train.tolist()])  # Replace with the actual training corpus\n",
    "\n",
    "# Preprocessing function for text cleaning\n",
    "def preprocess_text(text):\n",
    "    text = text.lower()\n",
    "    text = re.sub(r\"\\[.*?\\]\", \"\", text)\n",
    "    text = re.sub(r\"\\\\W\", \" \", text)\n",
    "    text = re.sub(r\"https?://\\S+|www\\.\\S+\", \"\", text)\n",
    "    text = re.sub(r\"<.*?>+\", \"\", text)\n",
    "    text = re.sub(f\"[{re.escape(string.punctuation)}]\", \"\", text)\n",
    "    text = re.sub(r\"\\n\", \"\", text)\n",
    "    text = re.sub(r\"\\w*\\d\\w*\", \"\", text)\n",
    "    return text.strip()\n",
    "\n",
    "# Prediction function\n",
    "def predict_fake_news(input_text):\n",
    "    cleaned_text = preprocess_text(input_text)\n",
    "    sequence = tokenizer.texts_to_sequences([cleaned_text])\n",
    "    padded_sequence = pad_sequences(sequence, maxlen=max_length, padding=\"post\")\n",
    "    prediction = model.predict(padded_sequence)\n",
    "    label = \"Fake\" if prediction[0][0] < 0.5 else \"Real\"\n",
    "    confidence = float(prediction[0][0]) if label == \"Real\" else 1 - float(prediction[0][0])\n",
    "    return f\"Prediction: {label} (Confidence: {confidence:.2%})\"\n",
    "\n",
    "# Gradio interface setup\n",
    "interface = gr.Interface(\n",
    "    fn=predict_fake_news,\n",
    "    inputs=\"text\",\n",
    "    outputs=\"text\",\n",
    "    title=\"Fake News Detector\",\n",
    "    description=\"Enter news text to predict whether it's fake or real.\",\n",
    ")\n",
    "\n",
    "# Launch Gradio app\n",
    "interface.launch(share=True)  # Change `share` to `False` if you don't want public sharing\n"
   ]
  },
  {
   "cell_type": "markdown",
   "id": "970fa21d-7aaf-4091-bb0f-18357df72c55",
   "metadata": {},
   "source": [
    "## FRONTEND - B : FLASK DEVELOPMENT"
   ]
  },
  {
   "cell_type": "markdown",
   "id": "2c9f6878-4cc9-4345-93c0-b49b3e86a76e",
   "metadata": {},
   "source": [
    "#### A SEPERATE FOLDER THAT CONTAINS THE FLASK CODE AND THE APP TO RUN THE WEBSITE THAT WORKS BASED ON THE MODEL"
   ]
  }
 ],
 "metadata": {
  "accelerator": "GPU",
  "colab": {
   "gpuType": "T4",
   "provenance": []
  },
  "kernelspec": {
   "display_name": "Python 3 (ipykernel)",
   "language": "python",
   "name": "python3"
  },
  "language_info": {
   "codemirror_mode": {
    "name": "ipython",
    "version": 3
   },
   "file_extension": ".py",
   "mimetype": "text/x-python",
   "name": "python",
   "nbconvert_exporter": "python",
   "pygments_lexer": "ipython3",
   "version": "3.9.20"
  },
  "widgets": {
   "application/vnd.jupyter.widget-state+json": {
    "1861bae17dd743479e9a621fc95c7d39": {
     "model_module": "@jupyter-widgets/controls",
     "model_module_version": "1.5.0",
     "model_name": "HBoxModel",
     "state": {
      "_dom_classes": [],
      "_model_module": "@jupyter-widgets/controls",
      "_model_module_version": "1.5.0",
      "_model_name": "HBoxModel",
      "_view_count": null,
      "_view_module": "@jupyter-widgets/controls",
      "_view_module_version": "1.5.0",
      "_view_name": "HBoxView",
      "box_style": "",
      "children": [
       "IPY_MODEL_ca48dbdefbe04e4787c3763883e47618",
       "IPY_MODEL_bd1a0b8304834d929af25ba42a490122",
       "IPY_MODEL_9fc56b959a1f4c70845fc3fa23ca93ea"
      ],
      "layout": "IPY_MODEL_6c3110dee950427091f1e471f4d3accc"
     }
    },
    "2fd8be7723c44f7aa016539f05f282dd": {
     "model_module": "@jupyter-widgets/controls",
     "model_module_version": "1.5.0",
     "model_name": "DescriptionStyleModel",
     "state": {
      "_model_module": "@jupyter-widgets/controls",
      "_model_module_version": "1.5.0",
      "_model_name": "DescriptionStyleModel",
      "_view_count": null,
      "_view_module": "@jupyter-widgets/base",
      "_view_module_version": "1.2.0",
      "_view_name": "StyleView",
      "description_width": ""
     }
    },
    "36b3732fd619432fbfcc731bfeb00ca4": {
     "model_module": "@jupyter-widgets/controls",
     "model_module_version": "1.5.0",
     "model_name": "HBoxModel",
     "state": {
      "_dom_classes": [],
      "_model_module": "@jupyter-widgets/controls",
      "_model_module_version": "1.5.0",
      "_model_name": "HBoxModel",
      "_view_count": null,
      "_view_module": "@jupyter-widgets/controls",
      "_view_module_version": "1.5.0",
      "_view_name": "HBoxView",
      "box_style": "",
      "children": [
       "IPY_MODEL_e921de44cd274471972c3c27d7414c4b",
       "IPY_MODEL_f036227f03f84ac49f94e82640315a64",
       "IPY_MODEL_8470f952c69b432ba703640d663c5d7f"
      ],
      "layout": "IPY_MODEL_baf69089d9f34d2e94abd59e1c826f5c"
     }
    },
    "422156e077024ffa9c3d3477b28b1548": {
     "model_module": "@jupyter-widgets/base",
     "model_module_version": "1.2.0",
     "model_name": "LayoutModel",
     "state": {
      "_model_module": "@jupyter-widgets/base",
      "_model_module_version": "1.2.0",
      "_model_name": "LayoutModel",
      "_view_count": null,
      "_view_module": "@jupyter-widgets/base",
      "_view_module_version": "1.2.0",
      "_view_name": "LayoutView",
      "align_content": null,
      "align_items": null,
      "align_self": null,
      "border": null,
      "bottom": null,
      "display": null,
      "flex": null,
      "flex_flow": null,
      "grid_area": null,
      "grid_auto_columns": null,
      "grid_auto_flow": null,
      "grid_auto_rows": null,
      "grid_column": null,
      "grid_gap": null,
      "grid_row": null,
      "grid_template_areas": null,
      "grid_template_columns": null,
      "grid_template_rows": null,
      "height": null,
      "justify_content": null,
      "justify_items": null,
      "left": null,
      "margin": null,
      "max_height": null,
      "max_width": null,
      "min_height": null,
      "min_width": null,
      "object_fit": null,
      "object_position": null,
      "order": null,
      "overflow": null,
      "overflow_x": null,
      "overflow_y": null,
      "padding": null,
      "right": null,
      "top": null,
      "visibility": null,
      "width": null
     }
    },
    "5b246abdf2af48dbafe178dc62901cbf": {
     "model_module": "@jupyter-widgets/base",
     "model_module_version": "1.2.0",
     "model_name": "LayoutModel",
     "state": {
      "_model_module": "@jupyter-widgets/base",
      "_model_module_version": "1.2.0",
      "_model_name": "LayoutModel",
      "_view_count": null,
      "_view_module": "@jupyter-widgets/base",
      "_view_module_version": "1.2.0",
      "_view_name": "LayoutView",
      "align_content": null,
      "align_items": null,
      "align_self": null,
      "border": null,
      "bottom": null,
      "display": null,
      "flex": null,
      "flex_flow": null,
      "grid_area": null,
      "grid_auto_columns": null,
      "grid_auto_flow": null,
      "grid_auto_rows": null,
      "grid_column": null,
      "grid_gap": null,
      "grid_row": null,
      "grid_template_areas": null,
      "grid_template_columns": null,
      "grid_template_rows": null,
      "height": null,
      "justify_content": null,
      "justify_items": null,
      "left": null,
      "margin": null,
      "max_height": null,
      "max_width": null,
      "min_height": null,
      "min_width": null,
      "object_fit": null,
      "object_position": null,
      "order": null,
      "overflow": null,
      "overflow_x": null,
      "overflow_y": null,
      "padding": null,
      "right": null,
      "top": null,
      "visibility": null,
      "width": null
     }
    },
    "6c3110dee950427091f1e471f4d3accc": {
     "model_module": "@jupyter-widgets/base",
     "model_module_version": "1.2.0",
     "model_name": "LayoutModel",
     "state": {
      "_model_module": "@jupyter-widgets/base",
      "_model_module_version": "1.2.0",
      "_model_name": "LayoutModel",
      "_view_count": null,
      "_view_module": "@jupyter-widgets/base",
      "_view_module_version": "1.2.0",
      "_view_name": "LayoutView",
      "align_content": null,
      "align_items": null,
      "align_self": null,
      "border": null,
      "bottom": null,
      "display": null,
      "flex": null,
      "flex_flow": null,
      "grid_area": null,
      "grid_auto_columns": null,
      "grid_auto_flow": null,
      "grid_auto_rows": null,
      "grid_column": null,
      "grid_gap": null,
      "grid_row": null,
      "grid_template_areas": null,
      "grid_template_columns": null,
      "grid_template_rows": null,
      "height": null,
      "justify_content": null,
      "justify_items": null,
      "left": null,
      "margin": null,
      "max_height": null,
      "max_width": null,
      "min_height": null,
      "min_width": null,
      "object_fit": null,
      "object_position": null,
      "order": null,
      "overflow": null,
      "overflow_x": null,
      "overflow_y": null,
      "padding": null,
      "right": null,
      "top": null,
      "visibility": null,
      "width": null
     }
    },
    "7e9c34a6b5734f0182a1f9a35f0da748": {
     "model_module": "@jupyter-widgets/controls",
     "model_module_version": "1.5.0",
     "model_name": "DescriptionStyleModel",
     "state": {
      "_model_module": "@jupyter-widgets/controls",
      "_model_module_version": "1.5.0",
      "_model_name": "DescriptionStyleModel",
      "_view_count": null,
      "_view_module": "@jupyter-widgets/base",
      "_view_module_version": "1.2.0",
      "_view_name": "StyleView",
      "description_width": ""
     }
    },
    "8470f952c69b432ba703640d663c5d7f": {
     "model_module": "@jupyter-widgets/controls",
     "model_module_version": "1.5.0",
     "model_name": "HTMLModel",
     "state": {
      "_dom_classes": [],
      "_model_module": "@jupyter-widgets/controls",
      "_model_module_version": "1.5.0",
      "_model_name": "HTMLModel",
      "_view_count": null,
      "_view_module": "@jupyter-widgets/controls",
      "_view_module_version": "1.5.0",
      "_view_name": "HTMLView",
      "description": "",
      "description_tooltip": null,
      "layout": "IPY_MODEL_422156e077024ffa9c3d3477b28b1548",
      "placeholder": "​",
      "style": "IPY_MODEL_ad9c7b172659478f8ecb68d7d405dd5c",
      "value": " 20203/20203 [04:41&lt;00:00, 100.45it/s]"
     }
    },
    "9fc56b959a1f4c70845fc3fa23ca93ea": {
     "model_module": "@jupyter-widgets/controls",
     "model_module_version": "1.5.0",
     "model_name": "HTMLModel",
     "state": {
      "_dom_classes": [],
      "_model_module": "@jupyter-widgets/controls",
      "_model_module_version": "1.5.0",
      "_model_name": "HTMLModel",
      "_view_count": null,
      "_view_module": "@jupyter-widgets/controls",
      "_view_module_version": "1.5.0",
      "_view_name": "HTMLView",
      "description": "",
      "description_tooltip": null,
      "layout": "IPY_MODEL_ba0313132b6c42bcaa871ee600bafa09",
      "placeholder": "​",
      "style": "IPY_MODEL_7e9c34a6b5734f0182a1f9a35f0da748",
      "value": " 20203/20203 [40:57&lt;00:00, 13.71it/s]"
     }
    },
    "a279d2fab07942e7a32ac3d12a460f31": {
     "model_module": "@jupyter-widgets/controls",
     "model_module_version": "1.5.0",
     "model_name": "ProgressStyleModel",
     "state": {
      "_model_module": "@jupyter-widgets/controls",
      "_model_module_version": "1.5.0",
      "_model_name": "ProgressStyleModel",
      "_view_count": null,
      "_view_module": "@jupyter-widgets/base",
      "_view_module_version": "1.2.0",
      "_view_name": "StyleView",
      "bar_color": null,
      "description_width": ""
     }
    },
    "ad9c7b172659478f8ecb68d7d405dd5c": {
     "model_module": "@jupyter-widgets/controls",
     "model_module_version": "1.5.0",
     "model_name": "DescriptionStyleModel",
     "state": {
      "_model_module": "@jupyter-widgets/controls",
      "_model_module_version": "1.5.0",
      "_model_name": "DescriptionStyleModel",
      "_view_count": null,
      "_view_module": "@jupyter-widgets/base",
      "_view_module_version": "1.2.0",
      "_view_name": "StyleView",
      "description_width": ""
     }
    },
    "ba0313132b6c42bcaa871ee600bafa09": {
     "model_module": "@jupyter-widgets/base",
     "model_module_version": "1.2.0",
     "model_name": "LayoutModel",
     "state": {
      "_model_module": "@jupyter-widgets/base",
      "_model_module_version": "1.2.0",
      "_model_name": "LayoutModel",
      "_view_count": null,
      "_view_module": "@jupyter-widgets/base",
      "_view_module_version": "1.2.0",
      "_view_name": "LayoutView",
      "align_content": null,
      "align_items": null,
      "align_self": null,
      "border": null,
      "bottom": null,
      "display": null,
      "flex": null,
      "flex_flow": null,
      "grid_area": null,
      "grid_auto_columns": null,
      "grid_auto_flow": null,
      "grid_auto_rows": null,
      "grid_column": null,
      "grid_gap": null,
      "grid_row": null,
      "grid_template_areas": null,
      "grid_template_columns": null,
      "grid_template_rows": null,
      "height": null,
      "justify_content": null,
      "justify_items": null,
      "left": null,
      "margin": null,
      "max_height": null,
      "max_width": null,
      "min_height": null,
      "min_width": null,
      "object_fit": null,
      "object_position": null,
      "order": null,
      "overflow": null,
      "overflow_x": null,
      "overflow_y": null,
      "padding": null,
      "right": null,
      "top": null,
      "visibility": null,
      "width": null
     }
    },
    "baf69089d9f34d2e94abd59e1c826f5c": {
     "model_module": "@jupyter-widgets/base",
     "model_module_version": "1.2.0",
     "model_name": "LayoutModel",
     "state": {
      "_model_module": "@jupyter-widgets/base",
      "_model_module_version": "1.2.0",
      "_model_name": "LayoutModel",
      "_view_count": null,
      "_view_module": "@jupyter-widgets/base",
      "_view_module_version": "1.2.0",
      "_view_name": "LayoutView",
      "align_content": null,
      "align_items": null,
      "align_self": null,
      "border": null,
      "bottom": null,
      "display": null,
      "flex": null,
      "flex_flow": null,
      "grid_area": null,
      "grid_auto_columns": null,
      "grid_auto_flow": null,
      "grid_auto_rows": null,
      "grid_column": null,
      "grid_gap": null,
      "grid_row": null,
      "grid_template_areas": null,
      "grid_template_columns": null,
      "grid_template_rows": null,
      "height": null,
      "justify_content": null,
      "justify_items": null,
      "left": null,
      "margin": null,
      "max_height": null,
      "max_width": null,
      "min_height": null,
      "min_width": null,
      "object_fit": null,
      "object_position": null,
      "order": null,
      "overflow": null,
      "overflow_x": null,
      "overflow_y": null,
      "padding": null,
      "right": null,
      "top": null,
      "visibility": null,
      "width": null
     }
    },
    "bd1a0b8304834d929af25ba42a490122": {
     "model_module": "@jupyter-widgets/controls",
     "model_module_version": "1.5.0",
     "model_name": "FloatProgressModel",
     "state": {
      "_dom_classes": [],
      "_model_module": "@jupyter-widgets/controls",
      "_model_module_version": "1.5.0",
      "_model_name": "FloatProgressModel",
      "_view_count": null,
      "_view_module": "@jupyter-widgets/controls",
      "_view_module_version": "1.5.0",
      "_view_name": "ProgressView",
      "bar_style": "success",
      "description": "",
      "description_tooltip": null,
      "layout": "IPY_MODEL_d4651ff44ea442b6bff41040ec0203e2",
      "max": 20203,
      "min": 0,
      "orientation": "horizontal",
      "style": "IPY_MODEL_a279d2fab07942e7a32ac3d12a460f31",
      "value": 20203
     }
    },
    "c6565822e94c4707a76406d7b0d812f6": {
     "model_module": "@jupyter-widgets/controls",
     "model_module_version": "1.5.0",
     "model_name": "ProgressStyleModel",
     "state": {
      "_model_module": "@jupyter-widgets/controls",
      "_model_module_version": "1.5.0",
      "_model_name": "ProgressStyleModel",
      "_view_count": null,
      "_view_module": "@jupyter-widgets/base",
      "_view_module_version": "1.2.0",
      "_view_name": "StyleView",
      "bar_color": null,
      "description_width": ""
     }
    },
    "ca48dbdefbe04e4787c3763883e47618": {
     "model_module": "@jupyter-widgets/controls",
     "model_module_version": "1.5.0",
     "model_name": "HTMLModel",
     "state": {
      "_dom_classes": [],
      "_model_module": "@jupyter-widgets/controls",
      "_model_module_version": "1.5.0",
      "_model_name": "HTMLModel",
      "_view_count": null,
      "_view_module": "@jupyter-widgets/controls",
      "_view_module_version": "1.5.0",
      "_view_name": "HTMLView",
      "description": "",
      "description_tooltip": null,
      "layout": "IPY_MODEL_d6322f1fc2414ba890f688086914d48f",
      "placeholder": "​",
      "style": "IPY_MODEL_fe6f5ed504014baf9eaa83ce1dde3362",
      "value": "100%"
     }
    },
    "d4651ff44ea442b6bff41040ec0203e2": {
     "model_module": "@jupyter-widgets/base",
     "model_module_version": "1.2.0",
     "model_name": "LayoutModel",
     "state": {
      "_model_module": "@jupyter-widgets/base",
      "_model_module_version": "1.2.0",
      "_model_name": "LayoutModel",
      "_view_count": null,
      "_view_module": "@jupyter-widgets/base",
      "_view_module_version": "1.2.0",
      "_view_name": "LayoutView",
      "align_content": null,
      "align_items": null,
      "align_self": null,
      "border": null,
      "bottom": null,
      "display": null,
      "flex": null,
      "flex_flow": null,
      "grid_area": null,
      "grid_auto_columns": null,
      "grid_auto_flow": null,
      "grid_auto_rows": null,
      "grid_column": null,
      "grid_gap": null,
      "grid_row": null,
      "grid_template_areas": null,
      "grid_template_columns": null,
      "grid_template_rows": null,
      "height": null,
      "justify_content": null,
      "justify_items": null,
      "left": null,
      "margin": null,
      "max_height": null,
      "max_width": null,
      "min_height": null,
      "min_width": null,
      "object_fit": null,
      "object_position": null,
      "order": null,
      "overflow": null,
      "overflow_x": null,
      "overflow_y": null,
      "padding": null,
      "right": null,
      "top": null,
      "visibility": null,
      "width": null
     }
    },
    "d6322f1fc2414ba890f688086914d48f": {
     "model_module": "@jupyter-widgets/base",
     "model_module_version": "1.2.0",
     "model_name": "LayoutModel",
     "state": {
      "_model_module": "@jupyter-widgets/base",
      "_model_module_version": "1.2.0",
      "_model_name": "LayoutModel",
      "_view_count": null,
      "_view_module": "@jupyter-widgets/base",
      "_view_module_version": "1.2.0",
      "_view_name": "LayoutView",
      "align_content": null,
      "align_items": null,
      "align_self": null,
      "border": null,
      "bottom": null,
      "display": null,
      "flex": null,
      "flex_flow": null,
      "grid_area": null,
      "grid_auto_columns": null,
      "grid_auto_flow": null,
      "grid_auto_rows": null,
      "grid_column": null,
      "grid_gap": null,
      "grid_row": null,
      "grid_template_areas": null,
      "grid_template_columns": null,
      "grid_template_rows": null,
      "height": null,
      "justify_content": null,
      "justify_items": null,
      "left": null,
      "margin": null,
      "max_height": null,
      "max_width": null,
      "min_height": null,
      "min_width": null,
      "object_fit": null,
      "object_position": null,
      "order": null,
      "overflow": null,
      "overflow_x": null,
      "overflow_y": null,
      "padding": null,
      "right": null,
      "top": null,
      "visibility": null,
      "width": null
     }
    },
    "e921de44cd274471972c3c27d7414c4b": {
     "model_module": "@jupyter-widgets/controls",
     "model_module_version": "1.5.0",
     "model_name": "HTMLModel",
     "state": {
      "_dom_classes": [],
      "_model_module": "@jupyter-widgets/controls",
      "_model_module_version": "1.5.0",
      "_model_name": "HTMLModel",
      "_view_count": null,
      "_view_module": "@jupyter-widgets/controls",
      "_view_module_version": "1.5.0",
      "_view_name": "HTMLView",
      "description": "",
      "description_tooltip": null,
      "layout": "IPY_MODEL_f03b2280c9d04f23bf2d10ef19e9c19f",
      "placeholder": "​",
      "style": "IPY_MODEL_2fd8be7723c44f7aa016539f05f282dd",
      "value": "100%"
     }
    },
    "f036227f03f84ac49f94e82640315a64": {
     "model_module": "@jupyter-widgets/controls",
     "model_module_version": "1.5.0",
     "model_name": "FloatProgressModel",
     "state": {
      "_dom_classes": [],
      "_model_module": "@jupyter-widgets/controls",
      "_model_module_version": "1.5.0",
      "_model_name": "FloatProgressModel",
      "_view_count": null,
      "_view_module": "@jupyter-widgets/controls",
      "_view_module_version": "1.5.0",
      "_view_name": "ProgressView",
      "bar_style": "success",
      "description": "",
      "description_tooltip": null,
      "layout": "IPY_MODEL_5b246abdf2af48dbafe178dc62901cbf",
      "max": 20203,
      "min": 0,
      "orientation": "horizontal",
      "style": "IPY_MODEL_c6565822e94c4707a76406d7b0d812f6",
      "value": 20203
     }
    },
    "f03b2280c9d04f23bf2d10ef19e9c19f": {
     "model_module": "@jupyter-widgets/base",
     "model_module_version": "1.2.0",
     "model_name": "LayoutModel",
     "state": {
      "_model_module": "@jupyter-widgets/base",
      "_model_module_version": "1.2.0",
      "_model_name": "LayoutModel",
      "_view_count": null,
      "_view_module": "@jupyter-widgets/base",
      "_view_module_version": "1.2.0",
      "_view_name": "LayoutView",
      "align_content": null,
      "align_items": null,
      "align_self": null,
      "border": null,
      "bottom": null,
      "display": null,
      "flex": null,
      "flex_flow": null,
      "grid_area": null,
      "grid_auto_columns": null,
      "grid_auto_flow": null,
      "grid_auto_rows": null,
      "grid_column": null,
      "grid_gap": null,
      "grid_row": null,
      "grid_template_areas": null,
      "grid_template_columns": null,
      "grid_template_rows": null,
      "height": null,
      "justify_content": null,
      "justify_items": null,
      "left": null,
      "margin": null,
      "max_height": null,
      "max_width": null,
      "min_height": null,
      "min_width": null,
      "object_fit": null,
      "object_position": null,
      "order": null,
      "overflow": null,
      "overflow_x": null,
      "overflow_y": null,
      "padding": null,
      "right": null,
      "top": null,
      "visibility": null,
      "width": null
     }
    },
    "fe6f5ed504014baf9eaa83ce1dde3362": {
     "model_module": "@jupyter-widgets/controls",
     "model_module_version": "1.5.0",
     "model_name": "DescriptionStyleModel",
     "state": {
      "_model_module": "@jupyter-widgets/controls",
      "_model_module_version": "1.5.0",
      "_model_name": "DescriptionStyleModel",
      "_view_count": null,
      "_view_module": "@jupyter-widgets/base",
      "_view_module_version": "1.2.0",
      "_view_name": "StyleView",
      "description_width": ""
     }
    }
   }
  }
 },
 "nbformat": 4,
 "nbformat_minor": 5
}
